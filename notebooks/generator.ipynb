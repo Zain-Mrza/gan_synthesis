{
 "cells": [
  {
   "cell_type": "code",
   "execution_count": null,
   "id": "915fab90",
   "metadata": {},
   "outputs": [
    {
     "data": {
      "text/plain": [
       "7"
      ]
     },
     "execution_count": 2,
     "metadata": {},
     "output_type": "execute_result"
    }
   ],
   "source": [
    "import torch"
   ]
  },
  {
   "cell_type": "code",
   "execution_count": null,
   "id": "20d1da57",
   "metadata": {},
   "outputs": [],
   "source": [
    "# input noise --> concatenate one-hot label\n",
    "# fully connected layer\n",
    "# reshape to make matrix\n",
    "# conv 2d to make channels\n",
    "# convtranspose 2d to upsample to 28x28 dimensions of MNIST\n"
   ]
  }
 ],
 "metadata": {
  "kernelspec": {
   "display_name": "gan-project",
   "language": "python",
   "name": "python3"
  },
  "language_info": {
   "codemirror_mode": {
    "name": "ipython",
    "version": 3
   },
   "file_extension": ".py",
   "mimetype": "text/x-python",
   "name": "python",
   "nbconvert_exporter": "python",
   "pygments_lexer": "ipython3",
   "version": "3.10.18"
  }
 },
 "nbformat": 4,
 "nbformat_minor": 5
}
