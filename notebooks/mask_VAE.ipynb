{
 "cells": [
  {
   "cell_type": "code",
   "execution_count": 1,
   "id": "915fab90",
   "metadata": {},
   "outputs": [
    {
     "name": "stderr",
     "output_type": "stream",
     "text": [
      "d:\\DS\\envs\\gan-project\\lib\\site-packages\\torch\\_subclasses\\functional_tensor.py:295: UserWarning: Failed to initialize NumPy: No module named 'numpy' (Triggered internally at C:\\cb\\pytorch_1000000000000\\work\\torch\\csrc\\utils\\tensor_numpy.cpp:84.)\n",
      "  cpu = _conversion_method_template(device=torch.device(\"cpu\"))\n"
     ]
    }
   ],
   "source": [
    "import torch"
   ]
  },
  {
   "cell_type": "code",
   "execution_count": 2,
   "id": "20d1da57",
   "metadata": {},
   "outputs": [],
   "source": [
    "# input noise --> concatenate one-hot label\n",
    "# fully connected layer\n",
    "# reshape to make matrix\n",
    "# conv 2d to make channels\n",
    "# convtranspose 2d to upsample to 28x28 dimensions of MNIST\n"
   ]
  },
  {
   "cell_type": "code",
   "execution_count": null,
   "id": "60c567e6",
   "metadata": {},
   "outputs": [],
   "source": [
    "import torch.nn as nn\n",
    "\n",
    "class MaskGenerator(nn.Module):\n",
    "    def __init__(self, in_channels=1, latent_dim=128):\n",
    "        super().__init__()\n",
    "\n",
    "        self.encoder = nn.Sequential(\n",
    "            nn.Conv2d(in_channels, 32, kernel_size=4, stride=2, padding=1),  # 96x96 → 48x48\n",
    "            nn.ReLU(),\n",
    "            nn.Conv2d(32, 64, kernel_size=4, stride=2, padding=1),           # 48x48 → 24x24\n",
    "            nn.ReLU(),\n",
    "            nn.Conv2d(64, 128, kernel_size=4, stride=2, padding=1),          # 24x24 → 12x12\n",
    "            nn.ReLU()\n",
    "        )\n",
    "\n",
    "        self.flatten = nn.Flatten()\n",
    "        self.fc_mu = nn.Linear(128 * 12 * 12, latent_dim)\n",
    "        self.fc_logvar = nn.Linear(128 * 12 * 12, latent_dim)\n",
    "\n",
    "    def forward(self, x):\n",
    "        x = self.encoder(x)                    # shape: (B, 128, 12, 12)\n",
    "        x = self.flatten(x)                    # shape: (B, 128*12*12)\n",
    "        mu = self.fc_mu(x)                     # shape: (B, latent_dim)\n",
    "        logvar = self.fc_logvar(x)             # shape: (B, latent_dim)\n",
    "        return mu, logvar\n"
   ]
  },
  {
   "cell_type": "code",
   "execution_count": 3,
   "id": "f393afb8",
   "metadata": {},
   "outputs": [],
   "source": [
    "import torch\n",
    "import torch.nn as nn\n",
    "\n",
    "class Decoder(nn.Module):\n",
    "    def __init__(self, out_channels=1, latent_dim=128):\n",
    "        super().__init__()\n",
    "\n",
    "        self.fc = nn.Linear(latent_dim, 128 * 12 * 12)\n",
    "\n",
    "        self.decoder = nn.Sequential(\n",
    "            nn.Unflatten(1, (128, 12, 12)),\n",
    "            nn.ConvTranspose2d(128, 64, kernel_size=4, stride=2, padding=1),  # 12 → 24\n",
    "            nn.ReLU(),\n",
    "            nn.ConvTranspose2d(64, 32, kernel_size=4, stride=2, padding=1),   # 24 → 48\n",
    "            nn.ReLU(),\n",
    "            nn.ConvTranspose2d(32, out_channels, kernel_size=4, stride=2, padding=1)  # 48 → 96\n",
    "        )\n",
    "\n",
    "    def forward(self, x):\n",
    "        x = self.fc(x)         # (B, latent_dim) → (B, 128*12*12)\n",
    "        x = self.decoder(x)    # (B, 128*12*12) → (B, out_channels, 96, 96)\n",
    "        return x\n"
   ]
  },
  {
   "cell_type": "markdown",
   "id": "9f0f4257",
   "metadata": {},
   "source": [
    "The whole idea of this project will be to imporve CNN classifier performance by expanding dataset"
   ]
  },
  {
   "cell_type": "markdown",
   "id": "ca306803",
   "metadata": {},
   "source": [
    "When taking slices of tumor images, keep track of depth, create distrivution\n",
    "To create slices of healthy images, take samples from same distribution"
   ]
  }
 ],
 "metadata": {
  "kernelspec": {
   "display_name": "gan-project",
   "language": "python",
   "name": "python3"
  },
  "language_info": {
   "codemirror_mode": {
    "name": "ipython",
    "version": 3
   },
   "file_extension": ".py",
   "mimetype": "text/x-python",
   "name": "python",
   "nbconvert_exporter": "python",
   "pygments_lexer": "ipython3",
   "version": "3.10.18"
  }
 },
 "nbformat": 4,
 "nbformat_minor": 5
}
