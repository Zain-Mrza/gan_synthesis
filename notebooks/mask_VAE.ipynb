{
 "cells": [
  {
   "cell_type": "code",
   "execution_count": 3,
   "id": "20d1da57",
   "metadata": {},
   "outputs": [],
   "source": [
    "# input noise --> concatenate one-hot label\n",
    "# fully connected layer\n",
    "# reshape to make matrix\n",
    "# conv 2d to make channels\n",
    "# convtranspose 2d to upsample to 28x28 dimensions of MNIST\n"
   ]
  },
  {
   "cell_type": "code",
   "execution_count": 4,
   "id": "60c567e6",
   "metadata": {},
   "outputs": [],
   "source": [
    "import torch.nn as nn\n",
    "\n",
    "class Encoder(nn.Module):\n",
    "    def __init__(self, in_channels=1, latent_dim=128):\n",
    "        super().__init__()\n",
    "\n",
    "        self.encoder = nn.Sequential(\n",
    "            nn.Conv2d(in_channels, 32, kernel_size=4, stride=2, padding=1),  # 96x96 → 48x48\n",
    "            nn.ReLU(),\n",
    "            nn.Conv2d(32, 64, kernel_size=4, stride=2, padding=1),           # 48x48 → 24x24\n",
    "            nn.ReLU(),\n",
    "            nn.Conv2d(64, 128, kernel_size=4, stride=2, padding=1),          # 24x24 → 12x12\n",
    "            nn.ReLU()\n",
    "        )\n",
    "\n",
    "        self.flatten = nn.Flatten()\n",
    "        self.fc_mu = nn.Linear(128 * 12 * 12, latent_dim)\n",
    "        self.fc_logvar = nn.Linear(128 * 12 * 12, latent_dim)\n",
    "\n",
    "    def forward(self, x):\n",
    "        x = self.encoder(x)                    # shape: (B, 128, 12, 12)\n",
    "        x = self.flatten(x)                    # shape: (B, 128*12*12)\n",
    "        mu = self.fc_mu(x)                     # shape: (B, latent_dim)\n",
    "        logvar = self.fc_logvar(x)             # shape: (B, latent_dim)\n",
    "        return mu, logvar\n"
   ]
  },
  {
   "cell_type": "code",
   "execution_count": 5,
   "id": "f393afb8",
   "metadata": {},
   "outputs": [],
   "source": [
    "class Decoder(nn.Module):\n",
    "    def __init__(self, out_channels=4, latent_dim=128):\n",
    "        super().__init__()\n",
    "\n",
    "        self.fc = nn.Linear(latent_dim, 128 * 12 * 12)\n",
    "\n",
    "        self.decoder = nn.Sequential(\n",
    "            nn.Unflatten(1, (128, 12, 12)),\n",
    "            nn.ConvTranspose2d(128, 64, kernel_size=4, stride=2, padding=1),  # 12 → 24\n",
    "            nn.ReLU(),\n",
    "            nn.ConvTranspose2d(64, 32, kernel_size=4, stride=2, padding=1),   # 24 → 48\n",
    "            nn.ReLU(),\n",
    "            nn.ConvTranspose2d(32, out_channels, kernel_size=4, stride=2, padding=1)  # 48 → 96\n",
    "        )\n",
    "\n",
    "    def forward(self, x):\n",
    "        x = self.fc(x)         # (B, latent_dim) → (B, 128*12*12)\n",
    "        x = self.decoder(x)    # (B, 128*12*12) → (B, out_channels, 96, 96)\n",
    "        return x\n"
   ]
  },
  {
   "cell_type": "code",
   "execution_count": 11,
   "id": "e170a6c0",
   "metadata": {},
   "outputs": [],
   "source": [
    "import torch\n",
    "import torch.nn as nn\n",
    "\n",
    "class VAE(nn.Module):\n",
    "    def __init__(self, encoder, decoder):\n",
    "        super().__init__()\n",
    "        self.encoder = encoder\n",
    "        self.decoder = decoder\n",
    "    \n",
    "    def reparametrize(self, mu, logvar):\n",
    "        std = torch.exp(0.5 * logvar)\n",
    "        eps = torch.randn_like(std)\n",
    "\n",
    "        return mu + eps * logvar\n",
    "\n",
    "    def forward(self, x):\n",
    "        mu, logvar = self.encoder(x)\n",
    "        z = self.reparametrize(mu, logvar)\n",
    "        reconstructed = self.decoder(z)\n",
    "\n",
    "        return reconstructed, mu, logvar\n"
   ]
  },
  {
   "cell_type": "code",
   "execution_count": 8,
   "id": "0d70918d",
   "metadata": {},
   "outputs": [],
   "source": [
    "import matplotlib.pyplot as plt"
   ]
  },
  {
   "cell_type": "code",
   "execution_count": 18,
   "id": "277519b2",
   "metadata": {},
   "outputs": [
    {
     "data": {
      "text/plain": [
       "<matplotlib.image.AxesImage at 0x2690a7eca00>"
      ]
     },
     "execution_count": 18,
     "metadata": {},
     "output_type": "execute_result"
    },
    {
     "data": {
      "image/png": "[encoded data removed]",
      "text/plain": [
       "<Figure size 640x480 with 1 Axes>"
      ]
     },
     "metadata": {},
     "output_type": "display_data"
    }
   ],
   "source": [
    "encoder = Encoder()\n",
    "decoder = Decoder()\n",
    "vae = VAE(encoder, decoder)\n",
    "\n",
    "x = torch.randn(1, 1, 96, 96)\n",
    "image, mu, logvar = vae(x)\n",
    "\n",
    "plt.imshow(image.squeeze().argmax(dim=0).detach().cpu().numpy(), cmap='viridis')\n"
   ]
  },
  {
   "cell_type": "markdown",
   "id": "9f0f4257",
   "metadata": {},
   "source": [
    "This is a VAE that will ideally create realistic segmentation masks"
   ]
  },
  {
   "cell_type": "code",
   "execution_count": 21,
   "id": "7a5b4a58",
   "metadata": {},
   "outputs": [
    {
     "name": "stdout",
     "output_type": "stream",
     "text": [
      "tensor([[[[-0.0522, -0.0527, -0.0610,  ..., -0.0549, -0.0595, -0.0514],\n",
      "          [-0.0662, -0.0565, -0.0620,  ..., -0.0528, -0.0638, -0.0619],\n",
      "          [-0.0554, -0.0648, -0.0681,  ..., -0.0593, -0.0642, -0.0576],\n",
      "          ...,\n",
      "          [-0.0660, -0.0502, -0.0656,  ..., -0.0477, -0.0623, -0.0642],\n",
      "          [-0.0540, -0.0664, -0.0663,  ..., -0.0645, -0.0700, -0.0591],\n",
      "          [-0.0558, -0.0499, -0.0521,  ..., -0.0513, -0.0533, -0.0612]],\n",
      "\n",
      "         [[ 0.0139,  0.0316,  0.0146,  ...,  0.0308,  0.0154,  0.0208],\n",
      "          [ 0.0056, -0.0075,  0.0182,  ..., -0.0058,  0.0225, -0.0021],\n",
      "          [ 0.0134,  0.0192,  0.0157,  ...,  0.0233,  0.0105,  0.0207],\n",
      "          ...,\n",
      "          [ 0.0066, -0.0049,  0.0186,  ..., -0.0072,  0.0188, -0.0063],\n",
      "          [ 0.0133,  0.0234,  0.0143,  ...,  0.0187,  0.0109,  0.0188],\n",
      "          [ 0.0145,  0.0018,  0.0150,  ...,  0.0020,  0.0139,  0.0036]],\n",
      "\n",
      "         [[-0.0679, -0.0548, -0.0735,  ..., -0.0553, -0.0738, -0.0550],\n",
      "          [-0.0544, -0.0560, -0.0295,  ..., -0.0561, -0.0234, -0.0699],\n",
      "          [-0.0664, -0.0533, -0.0670,  ..., -0.0507, -0.0644, -0.0522],\n",
      "          ...,\n",
      "          [-0.0549, -0.0563, -0.0252,  ..., -0.0520, -0.0265, -0.0686],\n",
      "          [-0.0663, -0.0542, -0.0645,  ..., -0.0549, -0.0626, -0.0505],\n",
      "          [-0.0557, -0.0533, -0.0461,  ..., -0.0554, -0.0447, -0.0688]],\n",
      "\n",
      "         [[ 0.0372,  0.0292,  0.0310,  ...,  0.0297,  0.0316,  0.0559],\n",
      "          [ 0.0589,  0.0568,  0.0653,  ...,  0.0577,  0.0594,  0.0632],\n",
      "          [ 0.0395,  0.0248,  0.0269,  ...,  0.0198,  0.0264,  0.0550],\n",
      "          ...,\n",
      "          [ 0.0592,  0.0628,  0.0650,  ...,  0.0603,  0.0664,  0.0620],\n",
      "          [ 0.0391,  0.0231,  0.0220,  ...,  0.0246,  0.0274,  0.0528],\n",
      "          [ 0.0451,  0.0385,  0.0421,  ...,  0.0383,  0.0399,  0.0464]]]])\n"
     ]
    }
   ],
   "source": [
    "print(image.detach())"
   ]
  }
 ],
 "metadata": {
  "kernelspec": {
   "display_name": "gan-project",
   "language": "python",
   "name": "python3"
  },
  "language_info": {
   "codemirror_mode": {
    "name": "ipython",
    "version": 3
   },
   "file_extension": ".py",
   "mimetype": "text/x-python",
   "name": "python",
   "nbconvert_exporter": "python",
   "pygments_lexer": "ipython3",
   "version": "3.10.18"
  }
 },
 "nbformat": 4,
 "nbformat_minor": 5
}
