{
 "cells": [
  {
   "cell_type": "markdown",
   "id": "9a8c97d3",
   "metadata": {},
   "source": [
    "## Add noise to image"
   ]
  },
  {
   "cell_type": "code",
   "execution_count": null,
   "id": "699168f4",
   "metadata": {},
   "outputs": [],
   "source": []
  }
 ],
 "metadata": {
  "language_info": {
   "name": "python"
  }
 },
 "nbformat": 4,
 "nbformat_minor": 5
}
