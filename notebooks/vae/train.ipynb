{
 "cells": [
  {
   "cell_type": "markdown",
   "id": "53c1d61c",
   "metadata": {},
   "source": [
    "recon, mu, logvar = vae(input)"
   ]
  },
  {
   "cell_type": "code",
   "execution_count": 1,
   "id": "20dd32e6",
   "metadata": {},
   "outputs": [
    {
     "name": "stdout",
     "output_type": "stream",
     "text": [
      "The autoreload extension is already loaded. To reload it, use:\n",
      "  %reload_ext autoreload\n"
     ]
    }
   ],
   "source": [
    "%load_ext autoreload\n",
    "%autoreload 2\n"
   ]
  },
  {
   "cell_type": "code",
   "execution_count": 29,
   "id": "2b98af03",
   "metadata": {},
   "outputs": [
    {
     "name": "stdout",
     "output_type": "stream",
     "text": [
      "tensor([2458239,  246423,  486903,  209139])\n",
      "tensor([0.7229, 0.0725, 0.1432, 0.0615])\n"
     ]
    }
   ],
   "source": [
    "from torch.utils.data import DataLoader\n",
    "from gan_synthesis.datasets.dataset import Dataset\n",
    "from torch import unique\n",
    "dataset = Dataset()\n",
    "loader = DataLoader(dataset, batch_size=369)\n",
    "\n",
    "classes = 0\n",
    "frequencies = {0: 0, 1: 0, 2: 0, 3: 0}\n",
    "for _, seg in loader:\n",
    "    uniques, counts = unique(seg, return_counts=True)\n",
    "    print(counts)\n",
    "\n",
    "weights = 1 / counts + 4e-6\n",
    "class_weights = weights / weights.sum()\n",
    "\n",
    "percents = counts / counts.sum()\n",
    "print(percents)"
   ]
  },
  {
   "cell_type": "code",
   "execution_count": null,
   "id": "8bed751c",
   "metadata": {},
   "outputs": [
    {
     "name": "stdout",
     "output_type": "stream",
     "text": [
      "\n",
      "Epoch 1/200\n"
     ]
    },
    {
     "name": "stderr",
     "output_type": "stream",
     "text": [
      "Train:   0%|          | 0/22 [00:00<?, ?it/s]c:\\Users\\zzmir\\Documents\\Projects\\gan_synthesis\\.pixi\\envs\\default\\Lib\\site-packages\\torch\\utils\\data\\dataloader.py:666: UserWarning: 'pin_memory' argument is set as true but no accelerator is found, then device pinned memory won't be used.\n",
      "  warnings.warn(warn_msg)\n",
      "                                                                               \r"
     ]
    },
    {
     "name": "stdout",
     "output_type": "stream",
     "text": [
      "train: loss 2.0208 | acc 0.1410 || val: loss 1.9103 | acc 0.1852 || lr: 1.00e-04\n",
      "\n",
      "Epoch 2/200\n"
     ]
    },
    {
     "name": "stderr",
     "output_type": "stream",
     "text": [
      "                                                                               \r"
     ]
    },
    {
     "name": "stdout",
     "output_type": "stream",
     "text": [
      "train: loss 1.9559 | acc 0.2503 || val: loss 1.8357 | acc 0.3838 || lr: 1.00e-04\n",
      "\n",
      "Epoch 3/200\n"
     ]
    },
    {
     "name": "stderr",
     "output_type": "stream",
     "text": [
      "                                                                               \r"
     ]
    },
    {
     "name": "stdout",
     "output_type": "stream",
     "text": [
      "train: loss 1.8518 | acc 0.5029 || val: loss 1.7396 | acc 0.6189 || lr: 1.00e-04\n",
      "\n",
      "Epoch 4/200\n"
     ]
    },
    {
     "name": "stderr",
     "output_type": "stream",
     "text": [
      "                                                                               \r"
     ]
    },
    {
     "name": "stdout",
     "output_type": "stream",
     "text": [
      "train: loss 1.8430 | acc 0.6527 || val: loss 1.9150 | acc 0.6870 || lr: 1.00e-04\n",
      "\n",
      "Epoch 5/200\n"
     ]
    },
    {
     "name": "stderr",
     "output_type": "stream",
     "text": [
      "                                                                               \r"
     ]
    },
    {
     "name": "stdout",
     "output_type": "stream",
     "text": [
      "train: loss 1.7010 | acc 0.6914 || val: loss 1.6491 | acc 0.6974 || lr: 1.00e-04\n",
      "\n",
      "Epoch 6/200\n"
     ]
    },
    {
     "name": "stderr",
     "output_type": "stream",
     "text": [
      "                                                                              \r"
     ]
    }
   ],
   "source": [
    "import math\n",
    "from dataclasses import dataclass\n",
    "from pathlib import Path\n",
    "from typing import Tuple, Dict\n",
    "\n",
    "import torch\n",
    "import torch.nn as nn\n",
    "import torch.optim as optim\n",
    "from torch.utils.data import DataLoader\n",
    "from tqdm import tqdm\n",
    "from torch.utils.tensorboard import SummaryWriter\n",
    "\n",
    "from gan_synthesis.datasets.dataset import Dataset\n",
    "from gan_synthesis.mask_vae_models.vae import VAE, dice_loss_mc_opts, kl_divergence_capacity\n",
    "\n",
    "@dataclass\n",
    "class TrainConfig:\n",
    "    seed: int = 42\n",
    "    epochs: int = 200\n",
    "    batch_size: int = 16\n",
    "    lr: float = 1e-4\n",
    "    weight_decay: float = 1e-4\n",
    "    num_workers: int = 4\n",
    "    pin_memory: bool = True\n",
    "    amp: bool = True  \n",
    "    ckpt_dir: str = \"checkpoints\"                                                                   \n",
    "    val_split: float = 0.05\n",
    "    latent_dim: int = 128\n",
    "    lr_patience: int = 10  # ReduceLROnPlateau patience\n",
    "    lr_factor: float = 0.5\n",
    "    min_lr: float = 1e-5\n",
    "\n",
    "\n",
    "def set_seed(seed: int):\n",
    "    torch.manual_seed(seed)\n",
    "    torch.cuda.manual_seed_all(seed)\n",
    "    # comment out for speed if you don't need strict determinism\n",
    "    # torch.use_deterministic_algorithms(True)\n",
    "    # torch.backends.cudnn.deterministic = True\n",
    "    torch.backends.cudnn.benchmark = True\n",
    "\n",
    "\n",
    "def accuracy_from_logits(logits: torch.Tensor, targets: torch.Tensor) -> float:\n",
    "    \"\"\"Pixel accuracy for segmentation.\"\"\"\n",
    "    pred = logits.argmax(dim=1)\n",
    "    correct = (pred == targets).sum().item()\n",
    "    total = targets.numel()\n",
    "    return correct / total\n",
    "\n",
    "def build(cfg: TrainConfig):\n",
    "    \"\"\"Construct everything needed for training/eval, no side-effects.\"\"\"\n",
    "    device = torch.device(\"cuda\" if torch.cuda.is_available() else \"cpu\")\n",
    "\n",
    "    # --- Data ---\n",
    "    dataset = Dataset()\n",
    "    train_set, val_set = dataset.split(1 - cfg.val_split)\n",
    "\n",
    "    common_loader_kwargs = dict(\n",
    "        batch_size=cfg.batch_size,\n",
    "        num_workers=cfg.num_workers,\n",
    "        pin_memory=cfg.pin_memory,\n",
    "        persistent_workers=cfg.num_workers > 0,\n",
    "    )\n",
    "    train_loader = DataLoader(train_set, shuffle=True,  **common_loader_kwargs)\n",
    "    val_loader   = DataLoader(val_set,   shuffle=False, **common_loader_kwargs)\n",
    "\n",
    "    # --- Model / Loss / Optimizer / Scheduler / Scaler ---\n",
    "    model = VAE(latent_dim=cfg.latent_dim).to(device)\n",
    "\n",
    "    class_weights = getattr(dataset, \"weights\", None)\n",
    "    if class_weights is not None:\n",
    "        class_weights = class_weights.to(device=device, dtype=torch.float32)\n",
    "    criterion = nn.CrossEntropyLoss(weight=class_weights)\n",
    "\n",
    "    optimizer = optim.Adam(model.parameters(), lr=cfg.lr, weight_decay=cfg.weight_decay)\n",
    "    scheduler = torch.optim.lr_scheduler.ReduceLROnPlateau(\n",
    "        optimizer,\n",
    "        mode=\"min\",\n",
    "        factor=cfg.lr_factor,\n",
    "        patience=cfg.lr_patience,\n",
    "        min_lr=cfg.min_lr,\n",
    "    )\n",
    "    scaler = torch.amp.GradScaler(\"cuda\") if (cfg.amp and device.type == \"cuda\") else None\n",
    "\n",
    "    return {\n",
    "        \"device\":       device,\n",
    "        \"model\":        model,\n",
    "        \"criterion\":    criterion,\n",
    "        \"optimizer\":    optimizer,\n",
    "        \"scheduler\":    scheduler,\n",
    "        \"scaler\":       scaler,\n",
    "        \"train_set\":    train_set,\n",
    "        \"val_set\":      val_set,\n",
    "        \"train_loader\": train_loader,\n",
    "        \"val_loader\":   val_loader,\n",
    "    }\n",
    "\n",
    "\n",
    "def train_one_epoch(\n",
    "    model: nn.Module,\n",
    "    loader: DataLoader,\n",
    "    criterion: nn.Module,\n",
    "    optimizer: optim.Optimizer,\n",
    "    scaler: torch.amp.GradScaler | None,\n",
    "    device: torch.device,\n",
    "    current_epoch: int\n",
    ") -> Dict[str, float]:\n",
    "    model.train()\n",
    "    running_loss = 0.0\n",
    "    running_acc = 0.0    \n",
    "\n",
    "    pbar = tqdm(loader, desc=\"Train\", leave=False)\n",
    "    for _, seg in pbar:\n",
    "        seg_input = seg.to(torch.float32).to(device)\n",
    "        seg_target = seg.squeeze(1).long().to(device)\n",
    "\n",
    "        optimizer.zero_grad(set_to_none=True)\n",
    "\n",
    "        if scaler is not None:\n",
    "            with torch.amp.autocast(device_type=device.type, enabled=(scaler is not None)):\n",
    "                recon, mu, logvar = model(seg_input)\n",
    "                kld_loss = kl_divergence_capacity(mu, logvar, epoch=current_epoch, beta=1, max_capacity=50)\n",
    "                ce_loss = criterion(recon, seg_target)\n",
    "                dice_loss = dice_loss_mc_opts(recon, seg_target, ignore_bg=True)\n",
    "                loss = ce_loss + 0.5 * dice_loss + kld_loss\n",
    "\n",
    "            scaler.scale(loss).backward()\n",
    "            scaler.step(optimizer)\n",
    "            scaler.update()\n",
    "        else:\n",
    "            recon, mu, logvar = model(seg_input)\n",
    "            kld_loss = kl_divergence_capacity(mu, logvar, epoch=current_epoch, beta=1, max_capacity=50)\n",
    "            ce_loss = criterion(recon, seg_target)\n",
    "            dice_loss = dice_loss_mc_opts(recon, seg_target, ignore_bg=True)\n",
    "            loss = ce_loss + 0.5 * dice_loss + kld_loss\n",
    "            loss.backward()\n",
    "            optimizer.step()\n",
    "\n",
    "        acc = accuracy_from_logits(recon.detach(), seg_target)\n",
    "        running_loss += loss.item()\n",
    "        running_acc += acc\n",
    "        pbar.set_postfix({\"loss\": f\"{loss.item():.4f}\", \"acc\": f\"{acc:.4f}\"})\n",
    "\n",
    "    n = len(loader)\n",
    "    return {\"loss\": running_loss / n, \"acc\": running_acc / n}\n",
    "\n",
    "\n",
    "@torch.no_grad()\n",
    "def evaluate(\n",
    "    model: nn.Module,\n",
    "    loader: DataLoader,\n",
    "    criterion: nn.Module,\n",
    "    device: torch.device,\n",
    "    current_epoch: int\n",
    ") -> Dict[str, float]:\n",
    "    model.eval()\n",
    "    running_loss = 0.0\n",
    "    running_acc = 0.0\n",
    "\n",
    "    # inference_mode\n",
    "    with torch.inference_mode():\n",
    "        pbar = tqdm(loader, desc=\"Val\", leave=False)\n",
    "        for _, seg in pbar:\n",
    "            seg_input = seg.to(torch.float32).to(device, non_blocking=True)\n",
    "            seg_target = seg.squeeze(1).long().to(device, non_blocking=True)\n",
    "            recon, mu, logvar = model(seg_input)\n",
    "\n",
    "            kld_loss = kl_divergence_capacity(mu, logvar, epoch=current_epoch, beta=1, max_capacity=50)\n",
    "            ce_loss = criterion(recon, seg_target)\n",
    "            dice_loss = dice_loss_mc_opts(recon, seg_target, ignore_bg=True)\n",
    "            loss = ce_loss + 0.5 * dice_loss + kld_loss\n",
    "\n",
    "            acc = accuracy_from_logits(recon, seg_target)\n",
    "\n",
    "            running_loss += loss.item()\n",
    "            running_acc += acc\n",
    "            pbar.set_postfix({\"loss\": f\"{loss.item():.4f}\", \"acc\": f\"{acc:.4f}\"})\n",
    "\n",
    "    n = len(loader)\n",
    "    return {\"loss\": running_loss / n, \"acc\": running_acc / n}\n",
    "\n",
    "\n",
    "def main(cfg: TrainConfig) -> Tuple[nn.Module, Dict]:\n",
    "    set_seed(cfg.seed)\n",
    "    parts = build(cfg)\n",
    "\n",
    "    device       = parts[\"device\"]\n",
    "    model        = parts[\"model\"]\n",
    "    criterion    = parts[\"criterion\"]\n",
    "    optimizer    = parts[\"optimizer\"]\n",
    "    scheduler    = parts[\"scheduler\"]\n",
    "    scaler       = parts[\"scaler\"]\n",
    "    train_loader = parts[\"train_loader\"]\n",
    "    val_loader   = parts[\"val_loader\"]\n",
    "\n",
    "    # --- Bookkeeping ---\n",
    "    Path(cfg.ckpt_dir).mkdir(parents=True, exist_ok=True)\n",
    "    best_val = math.inf\n",
    "    history = {\"train_loss\": [], \"train_acc\": [], \"val_loss\": [], \"val_acc\": []}\n",
    "\n",
    "    writer = SummaryWriter(log_dir=str(Path(\"runs\") / \"exp1\"))  # <<< add\n",
    "\n",
    "    for epoch in range(cfg.epochs):\n",
    "        print(f\"\\nEpoch {epoch+1}/{cfg.epochs}\")\n",
    "\n",
    "        train_metrics = train_one_epoch(model, train_loader, criterion, optimizer, scaler, device, current_epoch=epoch)\n",
    "        val_metrics   = evaluate(model, val_loader, criterion, device, current_epoch=epoch)\n",
    "\n",
    "        scheduler.step(val_metrics[\"loss\"])\n",
    "\n",
    "        history[\"train_loss\"].append(train_metrics[\"loss\"])\n",
    "        history[\"train_acc\"].append(train_metrics[\"acc\"])\n",
    "        history[\"val_loss\"].append(val_metrics[\"loss\"])\n",
    "        history[\"val_acc\"].append(val_metrics[\"acc\"])\n",
    "\n",
    "        # <<< add: TensorBoard scalars >>>\n",
    "        writer.add_scalars(\"Loss\", {\"train\": train_metrics[\"loss\"],\n",
    "                                    \"val\":   val_metrics[\"loss\"]}, epoch)\n",
    "\n",
    "        writer.add_scalars(\"Accuracy\", {\"train\": train_metrics[\"acc\"],\n",
    "                                        \"val\":   val_metrics[\"acc\"]}, epoch)\n",
    "        writer.flush()\n",
    "\n",
    "        print(\n",
    "            f\"train: loss {train_metrics['loss']:.4f} | acc {train_metrics['acc']:.4f} \"\n",
    "            f\"|| val: loss {val_metrics['loss']:.4f} | acc {val_metrics['acc']:.4f} \"\n",
    "            f\"|| lr: {optimizer.param_groups[0]['lr']:.2e}\"\n",
    "        )\n",
    "\n",
    "        # Save latest\n",
    "        torch.save(\n",
    "            {\n",
    "                \"epoch\": epoch + 1,\n",
    "                \"model_state\": model.state_dict(),\n",
    "                \"optimizer_state\": optimizer.state_dict(),\n",
    "                \"scaler_state\": scaler.state_dict() if scaler is not None else None,\n",
    "                \"cfg\": cfg.__dict__,\n",
    "                \"history\": history,\n",
    "            },\n",
    "            Path(cfg.ckpt_dir) / \"latest.pt\",\n",
    "        )\n",
    "\n",
    "        # Save best on val loss\n",
    "        if val_metrics[\"loss\"] < best_val:\n",
    "            best_val = val_metrics[\"loss\"]\n",
    "            torch.save(model.state_dict(), Path(cfg.ckpt_dir) / \"best_model.pt\")\n",
    "\n",
    "    print(\"\\nTraining complete.\")\n",
    "    writer.close()\n",
    "    return model, history  # <-- return the trained model too\n",
    "\n",
    "   \n",
    "\n",
    "if __name__ == \"__main__\":\n",
    "    cfg = TrainConfig()\n",
    "    model, history = main(cfg)\n",
    "\n"
   ]
  },
  {
   "cell_type": "code",
   "execution_count": 1,
   "id": "63a6bb0a",
   "metadata": {},
   "outputs": [
    {
     "name": "stderr",
     "output_type": "stream",
     "text": [
      "                                                           \r"
     ]
    }
   ],
   "source": [
    "import torch\n",
    "import torch.nn as nn\n",
    "import torch.optim as optim\n",
    "from torch.utils.data import DataLoader\n",
    "from gan_synthesis.mask_vae_models.vae import VAE, dice_loss_mc_opts, kl_divergence_capacity, kl_divergence\n",
    "from gan_synthesis.datasets.dataset import Dataset\n",
    "from tqdm import tqdm\n",
    "\n",
    "# Instantiate data loaders\n",
    "dataset = Dataset()\n",
    "train_set, test_set = dataset.split(0.95)\n",
    "train_loader = DataLoader(train_set, batch_size=32, shuffle=True)\n",
    "test_loader = DataLoader(test_set, batch_size=32, shuffle=True)\n",
    "\n",
    "# Instantiate models\n",
    "device = torch.device(\"cuda\" if torch.cuda.is_available() else \"cpu\")\n",
    "\n",
    "model = VAE(latent_dim=32).to(device)\n",
    "\n",
    "# Optimizer\n",
    "optimizer = optim.Adam(model.parameters(), lr=0.0005)\n",
    "criterion = nn.CrossEntropyLoss(weight=dataset.weights.to(device))\n",
    "\n",
    "# Before the loop\n",
    "train_losses = []\n",
    "train_accuracies = []\n",
    "val_losses = []\n",
    "val_accuracies = []\n",
    "ce_losses = []\n",
    "\n",
    "# final_z = torch.zeros(shape=)\n",
    "num_epochs = 1000\n",
    "for epoch in range(num_epochs):\n",
    "    model.train()\n",
    "    running_train_loss = 0.0\n",
    "    running_kld_loss = 0.0\n",
    "    running_ce_loss = 0.0\n",
    "    running_dice_loss = 0.0\n",
    "\n",
    "    # if epoch == 499:\n",
    "    #     with torch.no_grad():\n",
    "    #         recon, mu, logvar = model(seg_input)\n",
    "\n",
    "\n",
    "    # if epoch % 10 == 0 and epoch != 0:\n",
    "    #     with torch.no_grad:\n",
    "    #         recon, mu, logvar = model\n",
    "\n",
    "    for _, seg in tqdm(train_loader, desc=f\"Epoch {epoch+1}\", leave=False):\n",
    "        correct, total = 0, 0\n",
    "        seg_input = seg.to(torch.float32).to(device)\n",
    "        seg_target = seg.squeeze(1).long().to(device)\n",
    "\n",
    "        recon, mu, logvar = model(seg_input)\n",
    "        # if epoch == 499:\n",
    "        #     with torch.no_grad():\n",
    "        # kld = kl_divergence(mu, logvar)\n",
    "        # print(kld, kld.shape)\n",
    "        kld_loss = kl_divergence_capacity(mu, logvar, epoch=epoch, beta=1, max_capacity=20)\n",
    "        ce_loss = criterion(recon, seg_target)\n",
    "        dice_loss = dice_loss_mc_opts(recon, seg_target, ignore_bg=True)\n",
    "        loss = ce_loss + kld_loss + 0.5 * dice_loss\n",
    "\n",
    "        pred = torch.argmax(recon, dim=1)\n",
    "        correct += (pred == seg_target).sum().item()\n",
    "        total += seg.numel()\n",
    "\n",
    "        \n",
    "\n",
    "        optimizer.zero_grad()\n",
    "        loss.backward()\n",
    "        optimizer.step()\n",
    "\n",
    "\n",
    "        running_kld_loss += kld_loss\n",
    "        running_ce_loss += ce_loss\n",
    "        running_dice_loss += dice_loss\n",
    "        running_train_loss += loss.item()\n",
    "    \n",
    "    \n",
    "\n",
    "    avg_train_loss = running_train_loss / len(train_loader)\n",
    "    avg_kld_loss = running_kld_loss / len(train_loader)\n",
    "    avg_ce_loss = running_ce_loss / len(train_loader)\n",
    "    avg_dice_loss = running_dice_loss / len(train_loader)\n",
    "    ce_losses.append(avg_ce_loss.item())\n",
    "    train_losses.append(avg_train_loss)\n",
    "\n",
    "    acc = correct / total\n",
    "    train_accuracies.append(acc)\n",
    "\n",
    "    # Validation\n",
    "    model.eval()\n",
    "    running_val_loss = 0.0\n",
    "    correct, total = 0, 0\n",
    "\n",
    "    with torch.no_grad():\n",
    "        for _, seg in tqdm(test_loader, desc=\"Test\", leave=False):\n",
    "            seg_input = seg.to(torch.float32).to(device)\n",
    "            seg_target = seg.squeeze(1).long().to(device)\n",
    "            recon, mu, logvar = model(seg_input)\n",
    "            kld_loss = kl_divergence_capacity(mu, logvar, epoch=epoch, beta=1, max_capacity=50)\n",
    "            ce_loss = criterion(recon, seg_target)\n",
    "            dice_loss = dice_loss_mc_opts(recon, seg_target, ignore_bg=True)\n",
    "            loss = ce_loss + 0.5 * dice_loss + kld_loss\n",
    "            running_val_loss += loss.item()\n",
    "\n",
    "            pred = torch.argmax(recon, dim=1)\n",
    "            correct += (pred == seg_target).sum().item()\n",
    "            total += seg.numel()\n",
    "\n",
    "    avg_val_loss = running_val_loss / len(test_loader)\n",
    "    val_losses.append(avg_val_loss)\n",
    "\n",
    "    acc = correct / total\n",
    "    val_accuracies.append(acc)\n",
    "\n",
    "    # print(f\"[Epoch {epoch+1}] Train Loss: {avg_train_loss:.4f}, KLD Train Loss: {avg_kld_loss:.4f}, CE Train Loss: {avg_ce_loss:.4f}, Dice Train Loss: {avg_dice_loss:.4f}\\\n",
    "    #         \\nVal Loss: {avg_val_loss:.4f}, Val Acc: {acc:.4f}\")\n"
   ]
  },
  {
   "cell_type": "code",
   "execution_count": 15,
   "id": "5511123b",
   "metadata": {},
   "outputs": [
    {
     "data": {
      "image/png": "[encoded data removed]",
      "text/plain": [
       "<Figure size 400x400 with 1 Axes>"
      ]
     },
     "metadata": {},
     "output_type": "display_data"
    }
   ],
   "source": [
    "import matplotlib.pyplot as plt\n",
    "image = model.sample(1, mode=\"argmax\")\n"
   ]
  },
  {
   "cell_type": "code",
   "execution_count": 17,
   "id": "ed2f95e4",
   "metadata": {},
   "outputs": [],
   "source": [
    "from random import randint\n",
    "import numpy as np\n",
    "import matplotlib.pyplot as plt\n",
    "from gan_synthesis.preprocessing.transforms import read_cropped\n",
    "\n",
    "def random_recon(model):\n",
    "    num = randint(0, 368)\n",
    "    image = read_cropped(idx=num, t=\"seg\", as_type='pt').unsqueeze(0)\n",
    "    seg_input = image.to(torch.float32).to(\"cuda\")\n",
    "    model.eval()\n",
    "    with torch.no_grad():\n",
    "        recon, mu, logvar = model(seg_input)\n",
    "    \n",
    "    recon = recon.argmax(dim=1)\n",
    "\n",
    "    plt.imshow(image.squeeze().cpu().numpy())\n",
    "    plt.show()\n",
    "    plt.imshow(recon.squeeze().cpu().numpy())\n",
    "    plt.show()\n",
    "    "
   ]
  },
  {
   "cell_type": "code",
   "execution_count": 32,
   "id": "cbdb1fcf",
   "metadata": {},
   "outputs": [
    {
     "data": {
      "image/png": "[encoded data removed]",
      "text/plain": [
       "<Figure size 640x480 with 1 Axes>"
      ]
     },
     "metadata": {},
     "output_type": "display_data"
    },
    {
     "data": {
      "image/png": "[encoded data removed]",
      "text/plain": [
       "<Figure size 640x480 with 1 Axes>"
      ]
     },
     "metadata": {},
     "output_type": "display_data"
    }
   ],
   "source": [
    "random_recon(model)"
   ]
  },
  {
   "cell_type": "code",
   "execution_count": 7,
   "id": "7a9c9fab",
   "metadata": {},
   "outputs": [
    {
     "data": {
      "image/png": "[encoded data removed]",
      "text/plain": [
       "<Figure size 640x480 with 1 Axes>"
      ]
     },
     "metadata": {},
     "output_type": "display_data"
    }
   ],
   "source": [
    "import matplotlib.pyplot as plt\n",
    "\n",
    "\n",
    "plt.plot(ce_losses[50:])\n",
    "plt.plot(val_losses[50:])\n",
    "plt.show()"
   ]
  },
  {
   "cell_type": "code",
   "execution_count": 5,
   "id": "7cf0c042",
   "metadata": {},
   "outputs": [
    {
     "data": {
      "image/png": "[encoded data removed]",
      "text/plain": [
       "<Figure size 640x480 with 1 Axes>"
      ]
     },
     "metadata": {},
     "output_type": "display_data"
    }
   ],
   "source": [
    "plt.plot(val_accuracies)\n",
    "plt.plot(train_accuracies, 'r')\n",
    "plt.show()"
   ]
  }
 ],
 "metadata": {
  "kernelspec": {
   "display_name": "Python 3",
   "language": "python",
   "name": "python3"
  },
  "language_info": {
   "codemirror_mode": {
    "name": "ipython",
    "version": 3
   },
   "file_extension": ".py",
   "mimetype": "text/x-python",
   "name": "python",
   "nbconvert_exporter": "python",
   "pygments_lexer": "ipython3",
   "version": "3.12.11"
  }
 },
 "nbformat": 4,
 "nbformat_minor": 5
}
