{
 "cells": [
  {
   "cell_type": "code",
   "execution_count": 1,
   "id": "7b80ca92",
   "metadata": {},
   "outputs": [],
   "source": [
    "from gan_synthesis.u_net_models.unet import UNet"
   ]
  },
  {
   "cell_type": "code",
   "execution_count": 6,
   "id": "cee94a9c",
   "metadata": {},
   "outputs": [],
   "source": [
    "model = UNet(anchor=32)"
   ]
  },
  {
   "cell_type": "code",
   "execution_count": 8,
   "id": "d78d5db4",
   "metadata": {},
   "outputs": [
    {
     "name": "stdout",
     "output_type": "stream",
     "text": [
      "torch.Size([1, 128, 24, 24]) torch.Size([1, 128, 24, 24])\n",
      "torch.Size([1, 64, 48, 48]) torch.Size([1, 64, 48, 48])\n"
     ]
    }
   ],
   "source": [
    "import torch\n",
    "from gan_synthesis.preprocessing.transforms import read_cropped\n",
    "\n",
    "\n",
    "image = read_cropped(t=\"contrast\", idx=123, as_type=\"pt\").unsqueeze(0)\n",
    "model.eval()\n",
    "with torch.no_grad():\n",
    "    recon = model(image)"
   ]
  },
  {
   "cell_type": "code",
   "execution_count": 1,
   "id": "87efec24",
   "metadata": {},
   "outputs": [
    {
     "name": "stderr",
     "output_type": "stream",
     "text": [
      "                                                         \r"
     ]
    }
   ],
   "source": [
    "import torch\n",
    "import torch.nn as nn\n",
    "import torch.optim as optim\n",
    "from gan_synthesis.datasets.dataset import Dataset\n",
    "from torch.utils.data import DataLoader\n",
    "from gan_synthesis.u_net_models.unet import UNet\n",
    "from tqdm import tqdm\n",
    "\n",
    "# Instantiate data loaders\n",
    "dataset = Dataset()\n",
    "train_set, test_set = dataset.split(0.95)\n",
    "train_loader = DataLoader(train_set, batch_size=16, shuffle=True)\n",
    "test_loader = DataLoader(test_set, batch_size=16, shuffle=True)\n",
    "\n",
    "# Instantiate models\n",
    "device = torch.device(\"cuda\" if torch.cuda.is_available() else \"cpu\")\n",
    "\n",
    "model = UNet(anchor=32).to(device)\n",
    "\n",
    "# Optimizer\n",
    "optimizer = optim.Adam(model.parameters(), lr=0.005)\n",
    "criterion = nn.CrossEntropyLoss(weight=dataset.weights.to(device))\n",
    "\n",
    "# Before the loop\n",
    "train_losses = []\n",
    "train_accuracies = []\n",
    "val_losses = []\n",
    "val_accuracies = []\n",
    "ce_losses = []\n",
    "\n",
    "# final_z = torch.zeros(shape=)\n",
    "num_epochs = 10\n",
    "for epoch in range(num_epochs):\n",
    "    model.train()\n",
    "    running_train_loss = 0.0\n",
    "    running_kld_loss = 0.0\n",
    "    running_ce_loss = 0.0\n",
    "    running_dice_loss = 0.0\n",
    "\n",
    "    # if epoch == 499:\n",
    "    #     with torch.no_grad():\n",
    "    #         recon, mu, logvar = model(seg_input)\n",
    "\n",
    "\n",
    "    # if epoch % 10 == 0 and epoch != 0:\n",
    "    #     with torch.no_grad:\n",
    "    #         recon, mu, logvar = model\n",
    "\n",
    "    for image, seg in tqdm(train_loader, desc=f\"Epoch {epoch+1}\", leave=False):\n",
    "        correct, total = 0, 0\n",
    "        contrast_input = image.to(torch.float32).to(device)\n",
    "        seg_target = seg.squeeze(1).long().to(device)\n",
    "\n",
    "        recon = model(contrast_input)\n",
    "        # if epoch == 499:\n",
    "        #     with torch.no_grad():\n",
    "        # kld = kl_divergence(mu, logvar)\n",
    "        # print(kld, kld.shape)\n",
    "\n",
    "        ce_loss = criterion(recon, seg_target)\n",
    "        loss = ce_loss\n",
    "\n",
    "        pred = torch.argmax(recon, dim=1)\n",
    "        correct += (pred == seg_target).sum().item()\n",
    "        total += seg.numel()\n",
    "\n",
    "        \n",
    "\n",
    "        optimizer.zero_grad()\n",
    "        loss.backward()\n",
    "        optimizer.step()\n",
    "\n",
    "\n",
    "        running_ce_loss += ce_loss\n",
    "        running_train_loss += loss.item()\n",
    "    \n",
    "    \n",
    "\n",
    "    avg_train_loss = running_train_loss / len(train_loader)\n",
    "    avg_kld_loss = running_kld_loss / len(train_loader)\n",
    "    avg_ce_loss = running_ce_loss / len(train_loader)\n",
    "    avg_dice_loss = running_dice_loss / len(train_loader)\n",
    "    ce_losses.append(avg_ce_loss.item())\n",
    "    train_losses.append(avg_train_loss)\n",
    "\n",
    "    acc = correct / total\n",
    "    train_accuracies.append(acc)\n",
    "\n",
    "    # Validation\n",
    "    model.eval()\n",
    "    running_val_loss = 0.0\n",
    "    correct, total = 0, 0\n",
    "\n",
    "    with torch.no_grad():\n",
    "        for image, seg in tqdm(test_loader, desc=\"Test\", leave=False):\n",
    "            contrast_input = image.to(device)\n",
    "            seg_target = seg.squeeze(1).long().to(device)\n",
    "            recon = model(contrast_input)\n",
    "            ce_loss = criterion(recon, seg_target)\n",
    "            loss = ce_loss\n",
    "            running_val_loss += loss.item()\n",
    "\n",
    "            pred = torch.argmax(recon, dim=1)\n",
    "            correct += (pred == seg_target).sum().item()\n",
    "            total += seg.numel()\n",
    "\n",
    "    avg_val_loss = running_val_loss / len(test_loader)\n",
    "    val_losses.append(avg_val_loss)\n",
    "\n",
    "    acc = correct / total\n",
    "    val_accuracies.append(acc)\n",
    "\n",
    "    # print(f\"[Epoch {epoch+1}] Train Loss: {avg_train_loss:.4f}, KLD Train Loss: {avg_kld_loss:.4f}, CE Train Loss: {avg_ce_loss:.4f}, Dice Train Loss: {avg_dice_loss:.4f}\\\n",
    "    #         \\nVal Loss: {avg_val_loss:.4f}, Val Acc: {acc:.4f}\")\n"
   ]
  },
  {
   "cell_type": "code",
   "execution_count": 3,
   "id": "51590854",
   "metadata": {},
   "outputs": [
    {
     "data": {
      "image/png": "[encoded data removed]",
      "text/plain": [
       "<Figure size 640x480 with 1 Axes>"
      ]
     },
     "metadata": {},
     "output_type": "display_data"
    }
   ],
   "source": [
    "import matplotlib.pyplot as plt\n",
    "\n",
    "\n",
    "plt.plot(ce_losses)\n",
    "plt.plot(val_losses)\n",
    "plt.show()"
   ]
  },
  {
   "cell_type": "code",
   "execution_count": 9,
   "id": "97b8a4c1",
   "metadata": {},
   "outputs": [
    {
     "data": {
      "text/plain": [
       "3421156"
      ]
     },
     "execution_count": 9,
     "metadata": {},
     "output_type": "execute_result"
    }
   ],
   "source": [
    "sum(param.numel() for param in model.parameters())"
   ]
  }
 ],
 "metadata": {
  "kernelspec": {
   "display_name": "Python 3",
   "language": "python",
   "name": "python3"
  },
  "language_info": {
   "codemirror_mode": {
    "name": "ipython",
    "version": 3
   },
   "file_extension": ".py",
   "mimetype": "text/x-python",
   "name": "python",
   "nbconvert_exporter": "python",
   "pygments_lexer": "ipython3",
   "version": "3.12.11"
  }
 },
 "nbformat": 4,
 "nbformat_minor": 5
}
