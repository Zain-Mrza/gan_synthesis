{
 "cells": [
  {
   "cell_type": "code",
   "execution_count": null,
   "id": "d956b1bc",
   "metadata": {},
   "outputs": [
    {
     "name": "stdout",
     "output_type": "stream",
     "text": [
      "\n",
      "Epoch 1/200\n"
     ]
    },
    {
     "name": "stderr",
     "output_type": "stream",
     "text": [
      "                                                                               \r"
     ]
    },
    {
     "name": "stdout",
     "output_type": "stream",
     "text": [
      "train: loss 0.9589 | acc 0.7130 || val: loss 0.7903 | acc 0.7123 || lr: 5.00e-03\n",
      "\n",
      "Epoch 2/200\n"
     ]
    },
    {
     "name": "stderr",
     "output_type": "stream",
     "text": [
      "                                                                               \r"
     ]
    },
    {
     "name": "stdout",
     "output_type": "stream",
     "text": [
      "train: loss 0.6900 | acc 0.7669 || val: loss 0.6601 | acc 0.7772 || lr: 5.00e-03\n",
      "\n",
      "Epoch 3/200\n"
     ]
    },
    {
     "name": "stderr",
     "output_type": "stream",
     "text": [
      "                                                                               \r"
     ]
    },
    {
     "name": "stdout",
     "output_type": "stream",
     "text": [
      "train: loss 0.5903 | acc 0.7965 || val: loss 0.5623 | acc 0.8091 || lr: 5.00e-03\n",
      "\n",
      "Epoch 4/200\n"
     ]
    },
    {
     "name": "stderr",
     "output_type": "stream",
     "text": [
      "                                                                               \r"
     ]
    },
    {
     "name": "stdout",
     "output_type": "stream",
     "text": [
      "train: loss 0.5592 | acc 0.8063 || val: loss 0.5319 | acc 0.8144 || lr: 5.00e-03\n",
      "\n",
      "Epoch 5/200\n"
     ]
    },
    {
     "name": "stderr",
     "output_type": "stream",
     "text": [
      "                                                                               \r"
     ]
    },
    {
     "name": "stdout",
     "output_type": "stream",
     "text": [
      "train: loss 0.5411 | acc 0.8110 || val: loss 0.4955 | acc 0.8235 || lr: 5.00e-03\n",
      "\n",
      "Epoch 6/200\n"
     ]
    },
    {
     "name": "stderr",
     "output_type": "stream",
     "text": [
      "                                                                               \r"
     ]
    },
    {
     "name": "stdout",
     "output_type": "stream",
     "text": [
      "train: loss 0.5257 | acc 0.8151 || val: loss 0.4312 | acc 0.8442 || lr: 5.00e-03\n",
      "\n",
      "Epoch 7/200\n"
     ]
    },
    {
     "name": "stderr",
     "output_type": "stream",
     "text": [
      "                                                                               \r"
     ]
    },
    {
     "name": "stdout",
     "output_type": "stream",
     "text": [
      "train: loss 0.5128 | acc 0.8178 || val: loss 0.5063 | acc 0.8028 || lr: 5.00e-03\n",
      "\n",
      "Epoch 8/200\n"
     ]
    },
    {
     "name": "stderr",
     "output_type": "stream",
     "text": [
      "                                                                               \r"
     ]
    },
    {
     "name": "stdout",
     "output_type": "stream",
     "text": [
      "train: loss 0.5010 | acc 0.8256 || val: loss 0.4338 | acc 0.8431 || lr: 5.00e-03\n",
      "\n",
      "Epoch 9/200\n"
     ]
    },
    {
     "name": "stderr",
     "output_type": "stream",
     "text": [
      "                                                                               \r"
     ]
    },
    {
     "name": "stdout",
     "output_type": "stream",
     "text": [
      "train: loss 0.4935 | acc 0.8223 || val: loss 0.4133 | acc 0.8559 || lr: 5.00e-03\n",
      "\n",
      "Epoch 10/200\n"
     ]
    },
    {
     "name": "stderr",
     "output_type": "stream",
     "text": [
      "                                                                               \r"
     ]
    },
    {
     "name": "stdout",
     "output_type": "stream",
     "text": [
      "train: loss 0.4781 | acc 0.8312 || val: loss 0.4511 | acc 0.8240 || lr: 5.00e-03\n",
      "\n",
      "Epoch 11/200\n"
     ]
    },
    {
     "name": "stderr",
     "output_type": "stream",
     "text": [
      "                                                                               \r"
     ]
    },
    {
     "name": "stdout",
     "output_type": "stream",
     "text": [
      "train: loss 0.4629 | acc 0.8358 || val: loss 0.4006 | acc 0.8550 || lr: 5.00e-03\n",
      "\n",
      "Epoch 12/200\n"
     ]
    },
    {
     "name": "stderr",
     "output_type": "stream",
     "text": [
      "                                                                               \r"
     ]
    },
    {
     "name": "stdout",
     "output_type": "stream",
     "text": [
      "train: loss 0.4498 | acc 0.8403 || val: loss 0.4538 | acc 0.8251 || lr: 5.00e-03\n",
      "\n",
      "Epoch 13/200\n"
     ]
    },
    {
     "name": "stderr",
     "output_type": "stream",
     "text": [
      "                                                                               \r"
     ]
    },
    {
     "name": "stdout",
     "output_type": "stream",
     "text": [
      "train: loss 0.4619 | acc 0.8346 || val: loss 0.3957 | acc 0.8615 || lr: 5.00e-03\n",
      "\n",
      "Epoch 14/200\n"
     ]
    },
    {
     "name": "stderr",
     "output_type": "stream",
     "text": [
      "                                                                               \r"
     ]
    },
    {
     "name": "stdout",
     "output_type": "stream",
     "text": [
      "train: loss 0.4619 | acc 0.8360 || val: loss 0.4054 | acc 0.8505 || lr: 5.00e-03\n",
      "\n",
      "Epoch 15/200\n"
     ]
    },
    {
     "name": "stderr",
     "output_type": "stream",
     "text": [
      "                                                                               \r"
     ]
    },
    {
     "name": "stdout",
     "output_type": "stream",
     "text": [
      "train: loss 0.4562 | acc 0.8384 || val: loss 0.4372 | acc 0.8155 || lr: 5.00e-03\n",
      "\n",
      "Epoch 16/200\n"
     ]
    },
    {
     "name": "stderr",
     "output_type": "stream",
     "text": [
      "                                                                               \r"
     ]
    },
    {
     "name": "stdout",
     "output_type": "stream",
     "text": [
      "train: loss 0.4665 | acc 0.8351 || val: loss 0.4264 | acc 0.8380 || lr: 5.00e-03\n",
      "\n",
      "Epoch 17/200\n"
     ]
    },
    {
     "name": "stderr",
     "output_type": "stream",
     "text": [
      "                                                                               \r"
     ]
    },
    {
     "name": "stdout",
     "output_type": "stream",
     "text": [
      "train: loss 0.4404 | acc 0.8451 || val: loss 0.3902 | acc 0.8546 || lr: 5.00e-03\n",
      "\n",
      "Epoch 18/200\n"
     ]
    },
    {
     "name": "stderr",
     "output_type": "stream",
     "text": [
      "                                                                               \r"
     ]
    },
    {
     "name": "stdout",
     "output_type": "stream",
     "text": [
      "train: loss 0.4277 | acc 0.8477 || val: loss 0.3691 | acc 0.8719 || lr: 5.00e-03\n",
      "\n",
      "Epoch 19/200\n"
     ]
    },
    {
     "name": "stderr",
     "output_type": "stream",
     "text": [
      "                                                                               \r"
     ]
    },
    {
     "name": "stdout",
     "output_type": "stream",
     "text": [
      "train: loss 0.4353 | acc 0.8442 || val: loss 0.3747 | acc 0.8663 || lr: 5.00e-03\n",
      "\n",
      "Epoch 20/200\n"
     ]
    },
    {
     "name": "stderr",
     "output_type": "stream",
     "text": [
      "                                                                               \r"
     ]
    },
    {
     "name": "stdout",
     "output_type": "stream",
     "text": [
      "train: loss 0.4270 | acc 0.8484 || val: loss 0.4534 | acc 0.8472 || lr: 5.00e-03\n",
      "\n",
      "Epoch 21/200\n"
     ]
    },
    {
     "name": "stderr",
     "output_type": "stream",
     "text": [
      "                                                                               \r"
     ]
    },
    {
     "name": "stdout",
     "output_type": "stream",
     "text": [
      "train: loss 0.4271 | acc 0.8481 || val: loss 0.4360 | acc 0.8338 || lr: 5.00e-03\n",
      "\n",
      "Epoch 22/200\n"
     ]
    },
    {
     "name": "stderr",
     "output_type": "stream",
     "text": [
      "                                                                               \r"
     ]
    },
    {
     "name": "stdout",
     "output_type": "stream",
     "text": [
      "train: loss 0.4206 | acc 0.8505 || val: loss 0.3719 | acc 0.8619 || lr: 5.00e-03\n",
      "\n",
      "Epoch 23/200\n"
     ]
    },
    {
     "name": "stderr",
     "output_type": "stream",
     "text": [
      "                                                                               \r"
     ]
    },
    {
     "name": "stdout",
     "output_type": "stream",
     "text": [
      "train: loss 0.4149 | acc 0.8532 || val: loss 0.3560 | acc 0.8684 || lr: 5.00e-03\n",
      "\n",
      "Epoch 24/200\n"
     ]
    },
    {
     "name": "stderr",
     "output_type": "stream",
     "text": [
      "                                                                               \r"
     ]
    },
    {
     "name": "stdout",
     "output_type": "stream",
     "text": [
      "train: loss 0.4200 | acc 0.8506 || val: loss 0.3573 | acc 0.8725 || lr: 5.00e-03\n",
      "\n",
      "Epoch 25/200\n"
     ]
    },
    {
     "name": "stderr",
     "output_type": "stream",
     "text": [
      "                                                                               \r"
     ]
    },
    {
     "name": "stdout",
     "output_type": "stream",
     "text": [
      "train: loss 0.4105 | acc 0.8546 || val: loss 0.3615 | acc 0.8765 || lr: 5.00e-03\n",
      "\n",
      "Epoch 26/200\n"
     ]
    },
    {
     "name": "stderr",
     "output_type": "stream",
     "text": [
      "                                                                               \r"
     ]
    },
    {
     "name": "stdout",
     "output_type": "stream",
     "text": [
      "train: loss 0.4157 | acc 0.8515 || val: loss 0.3872 | acc 0.8568 || lr: 5.00e-03\n",
      "\n",
      "Epoch 27/200\n"
     ]
    },
    {
     "name": "stderr",
     "output_type": "stream",
     "text": [
      "                                                                               \r"
     ]
    },
    {
     "name": "stdout",
     "output_type": "stream",
     "text": [
      "train: loss 0.4103 | acc 0.8538 || val: loss 0.3918 | acc 0.8542 || lr: 5.00e-03\n",
      "\n",
      "Epoch 28/200\n"
     ]
    },
    {
     "name": "stderr",
     "output_type": "stream",
     "text": [
      "                                                                               \r"
     ]
    },
    {
     "name": "stdout",
     "output_type": "stream",
     "text": [
      "train: loss 0.4147 | acc 0.8527 || val: loss 0.4150 | acc 0.8360 || lr: 5.00e-03\n",
      "\n",
      "Epoch 29/200\n"
     ]
    },
    {
     "name": "stderr",
     "output_type": "stream",
     "text": [
      "                                                                               \r"
     ]
    },
    {
     "name": "stdout",
     "output_type": "stream",
     "text": [
      "train: loss 0.4018 | acc 0.8563 || val: loss 0.3854 | acc 0.8557 || lr: 5.00e-03\n",
      "\n",
      "Epoch 30/200\n"
     ]
    },
    {
     "name": "stderr",
     "output_type": "stream",
     "text": [
      "                                                                               \r"
     ]
    },
    {
     "name": "stdout",
     "output_type": "stream",
     "text": [
      "train: loss 0.3938 | acc 0.8592 || val: loss 0.3613 | acc 0.8678 || lr: 5.00e-03\n",
      "\n",
      "Epoch 31/200\n"
     ]
    },
    {
     "name": "stderr",
     "output_type": "stream",
     "text": [
      "                                                                               \r"
     ]
    },
    {
     "name": "stdout",
     "output_type": "stream",
     "text": [
      "train: loss 0.3968 | acc 0.8580 || val: loss 0.3339 | acc 0.8846 || lr: 5.00e-03\n",
      "\n",
      "Epoch 32/200\n"
     ]
    },
    {
     "name": "stderr",
     "output_type": "stream",
     "text": [
      "                                                                               \r"
     ]
    },
    {
     "name": "stdout",
     "output_type": "stream",
     "text": [
      "train: loss 0.4000 | acc 0.8569 || val: loss 0.3611 | acc 0.8710 || lr: 5.00e-03\n",
      "\n",
      "Epoch 33/200\n"
     ]
    },
    {
     "name": "stderr",
     "output_type": "stream",
     "text": [
      "                                                                               \r"
     ]
    },
    {
     "name": "stdout",
     "output_type": "stream",
     "text": [
      "train: loss 0.4085 | acc 0.8524 || val: loss 0.3306 | acc 0.8856 || lr: 5.00e-03\n",
      "\n",
      "Epoch 34/200\n"
     ]
    },
    {
     "name": "stderr",
     "output_type": "stream",
     "text": [
      "                                                                               \r"
     ]
    },
    {
     "name": "stdout",
     "output_type": "stream",
     "text": [
      "train: loss 0.4105 | acc 0.8540 || val: loss 0.3702 | acc 0.8710 || lr: 5.00e-03\n",
      "\n",
      "Epoch 35/200\n"
     ]
    },
    {
     "name": "stderr",
     "output_type": "stream",
     "text": [
      "                                                                               \r"
     ]
    },
    {
     "name": "stdout",
     "output_type": "stream",
     "text": [
      "train: loss 0.4103 | acc 0.8548 || val: loss 0.3730 | acc 0.8577 || lr: 5.00e-03\n",
      "\n",
      "Epoch 36/200\n"
     ]
    },
    {
     "name": "stderr",
     "output_type": "stream",
     "text": [
      "                                                                               \r"
     ]
    },
    {
     "name": "stdout",
     "output_type": "stream",
     "text": [
      "train: loss 0.3945 | acc 0.8585 || val: loss 0.4150 | acc 0.8395 || lr: 5.00e-03\n",
      "\n",
      "Epoch 37/200\n"
     ]
    },
    {
     "name": "stderr",
     "output_type": "stream",
     "text": [
      "                                                                               \r"
     ]
    },
    {
     "name": "stdout",
     "output_type": "stream",
     "text": [
      "train: loss 0.3885 | acc 0.8611 || val: loss 0.3177 | acc 0.8890 || lr: 5.00e-03\n",
      "\n",
      "Epoch 38/200\n"
     ]
    },
    {
     "name": "stderr",
     "output_type": "stream",
     "text": [
      "                                                                               \r"
     ]
    },
    {
     "name": "stdout",
     "output_type": "stream",
     "text": [
      "train: loss 0.3887 | acc 0.8600 || val: loss 0.3620 | acc 0.8657 || lr: 5.00e-03\n",
      "\n",
      "Epoch 39/200\n"
     ]
    },
    {
     "name": "stderr",
     "output_type": "stream",
     "text": [
      "                                                                               \r"
     ]
    },
    {
     "name": "stdout",
     "output_type": "stream",
     "text": [
      "train: loss 0.3908 | acc 0.8609 || val: loss 0.4012 | acc 0.8369 || lr: 5.00e-03\n",
      "\n",
      "Epoch 40/200\n"
     ]
    },
    {
     "name": "stderr",
     "output_type": "stream",
     "text": [
      "                                                                               \r"
     ]
    },
    {
     "name": "stdout",
     "output_type": "stream",
     "text": [
      "train: loss 0.4053 | acc 0.8537 || val: loss 0.3539 | acc 0.8728 || lr: 5.00e-03\n",
      "\n",
      "Epoch 41/200\n"
     ]
    },
    {
     "name": "stderr",
     "output_type": "stream",
     "text": [
      "                                                                               \r"
     ]
    },
    {
     "name": "stdout",
     "output_type": "stream",
     "text": [
      "train: loss 0.3959 | acc 0.8579 || val: loss 0.3691 | acc 0.8651 || lr: 5.00e-03\n",
      "\n",
      "Epoch 42/200\n"
     ]
    },
    {
     "name": "stderr",
     "output_type": "stream",
     "text": [
      "                                                                               \r"
     ]
    },
    {
     "name": "stdout",
     "output_type": "stream",
     "text": [
      "train: loss 0.3855 | acc 0.8626 || val: loss 0.3532 | acc 0.8798 || lr: 5.00e-03\n",
      "\n",
      "Epoch 43/200\n"
     ]
    },
    {
     "name": "stderr",
     "output_type": "stream",
     "text": [
      "                                                                               \r"
     ]
    },
    {
     "name": "stdout",
     "output_type": "stream",
     "text": [
      "train: loss 0.4127 | acc 0.8515 || val: loss 0.3520 | acc 0.8701 || lr: 5.00e-03\n",
      "\n",
      "Epoch 44/200\n"
     ]
    },
    {
     "name": "stderr",
     "output_type": "stream",
     "text": [
      "                                                                               \r"
     ]
    },
    {
     "name": "stdout",
     "output_type": "stream",
     "text": [
      "train: loss 0.3918 | acc 0.8596 || val: loss 0.3339 | acc 0.8810 || lr: 5.00e-03\n",
      "\n",
      "Epoch 45/200\n"
     ]
    },
    {
     "name": "stderr",
     "output_type": "stream",
     "text": [
      "                                                                               \r"
     ]
    },
    {
     "name": "stdout",
     "output_type": "stream",
     "text": [
      "train: loss 0.3870 | acc 0.8608 || val: loss 0.3791 | acc 0.8607 || lr: 5.00e-03\n",
      "\n",
      "Epoch 46/200\n"
     ]
    },
    {
     "name": "stderr",
     "output_type": "stream",
     "text": [
      "                                                                               \r"
     ]
    },
    {
     "name": "stdout",
     "output_type": "stream",
     "text": [
      "train: loss 0.3833 | acc 0.8635 || val: loss 0.3498 | acc 0.8697 || lr: 5.00e-03\n",
      "\n",
      "Epoch 47/200\n"
     ]
    },
    {
     "name": "stderr",
     "output_type": "stream",
     "text": [
      "                                                                               \r"
     ]
    },
    {
     "name": "stdout",
     "output_type": "stream",
     "text": [
      "train: loss 0.3964 | acc 0.8585 || val: loss 0.3473 | acc 0.8728 || lr: 5.00e-03\n",
      "\n",
      "Epoch 48/200\n"
     ]
    },
    {
     "name": "stderr",
     "output_type": "stream",
     "text": [
      "                                                                               \r"
     ]
    },
    {
     "name": "stdout",
     "output_type": "stream",
     "text": [
      "train: loss 0.3889 | acc 0.8628 || val: loss 0.3495 | acc 0.8695 || lr: 2.50e-03\n",
      "\n",
      "Epoch 49/200\n"
     ]
    },
    {
     "name": "stderr",
     "output_type": "stream",
     "text": [
      "                                                                               \r"
     ]
    },
    {
     "name": "stdout",
     "output_type": "stream",
     "text": [
      "train: loss 0.3647 | acc 0.8704 || val: loss 0.3423 | acc 0.8645 || lr: 2.50e-03\n",
      "\n",
      "Epoch 50/200\n"
     ]
    },
    {
     "name": "stderr",
     "output_type": "stream",
     "text": [
      "                                                                               \r"
     ]
    },
    {
     "name": "stdout",
     "output_type": "stream",
     "text": [
      "train: loss 0.3681 | acc 0.8682 || val: loss 0.3417 | acc 0.8674 || lr: 2.50e-03\n",
      "\n",
      "Epoch 51/200\n"
     ]
    },
    {
     "name": "stderr",
     "output_type": "stream",
     "text": [
      "                                                                               \r"
     ]
    },
    {
     "name": "stdout",
     "output_type": "stream",
     "text": [
      "train: loss 0.3663 | acc 0.8684 || val: loss 0.3270 | acc 0.8821 || lr: 2.50e-03\n",
      "\n",
      "Epoch 52/200\n"
     ]
    },
    {
     "name": "stderr",
     "output_type": "stream",
     "text": [
      "                                                                               \r"
     ]
    },
    {
     "name": "stdout",
     "output_type": "stream",
     "text": [
      "train: loss 0.3650 | acc 0.8673 || val: loss 0.3152 | acc 0.8862 || lr: 2.50e-03\n",
      "\n",
      "Epoch 53/200\n"
     ]
    },
    {
     "name": "stderr",
     "output_type": "stream",
     "text": [
      "                                                                               \r"
     ]
    },
    {
     "name": "stdout",
     "output_type": "stream",
     "text": [
      "train: loss 0.3647 | acc 0.8694 || val: loss 0.3288 | acc 0.8843 || lr: 2.50e-03\n",
      "\n",
      "Epoch 54/200\n"
     ]
    },
    {
     "name": "stderr",
     "output_type": "stream",
     "text": [
      "                                                                               \r"
     ]
    },
    {
     "name": "stdout",
     "output_type": "stream",
     "text": [
      "train: loss 0.3546 | acc 0.8719 || val: loss 0.3151 | acc 0.8867 || lr: 2.50e-03\n",
      "\n",
      "Epoch 55/200\n"
     ]
    },
    {
     "name": "stderr",
     "output_type": "stream",
     "text": [
      "                                                                               \r"
     ]
    },
    {
     "name": "stdout",
     "output_type": "stream",
     "text": [
      "train: loss 0.3576 | acc 0.8720 || val: loss 0.3315 | acc 0.8766 || lr: 2.50e-03\n",
      "\n",
      "Epoch 56/200\n"
     ]
    },
    {
     "name": "stderr",
     "output_type": "stream",
     "text": [
      "                                                                               \r"
     ]
    },
    {
     "name": "stdout",
     "output_type": "stream",
     "text": [
      "train: loss 0.3570 | acc 0.8725 || val: loss 0.3320 | acc 0.8823 || lr: 2.50e-03\n",
      "\n",
      "Epoch 57/200\n"
     ]
    },
    {
     "name": "stderr",
     "output_type": "stream",
     "text": [
      "                                                                               \r"
     ]
    },
    {
     "name": "stdout",
     "output_type": "stream",
     "text": [
      "train: loss 0.3506 | acc 0.8739 || val: loss 0.3294 | acc 0.8837 || lr: 2.50e-03\n",
      "\n",
      "Epoch 58/200\n"
     ]
    },
    {
     "name": "stderr",
     "output_type": "stream",
     "text": [
      "                                                                               \r"
     ]
    },
    {
     "name": "stdout",
     "output_type": "stream",
     "text": [
      "train: loss 0.3482 | acc 0.8754 || val: loss 0.3379 | acc 0.8736 || lr: 2.50e-03\n",
      "\n",
      "Epoch 59/200\n"
     ]
    },
    {
     "name": "stderr",
     "output_type": "stream",
     "text": [
      "                                                                               \r"
     ]
    },
    {
     "name": "stdout",
     "output_type": "stream",
     "text": [
      "train: loss 0.3531 | acc 0.8741 || val: loss 0.3281 | acc 0.8799 || lr: 2.50e-03\n",
      "\n",
      "Epoch 60/200\n"
     ]
    },
    {
     "name": "stderr",
     "output_type": "stream",
     "text": [
      "                                                                               \r"
     ]
    },
    {
     "name": "stdout",
     "output_type": "stream",
     "text": [
      "train: loss 0.3480 | acc 0.8758 || val: loss 0.3155 | acc 0.8836 || lr: 2.50e-03\n",
      "\n",
      "Epoch 61/200\n"
     ]
    },
    {
     "name": "stderr",
     "output_type": "stream",
     "text": [
      "                                                                               \r"
     ]
    },
    {
     "name": "stdout",
     "output_type": "stream",
     "text": [
      "train: loss 0.3526 | acc 0.8745 || val: loss 0.3404 | acc 0.8619 || lr: 2.50e-03\n",
      "\n",
      "Epoch 62/200\n"
     ]
    },
    {
     "name": "stderr",
     "output_type": "stream",
     "text": [
      "                                                                               \r"
     ]
    },
    {
     "name": "stdout",
     "output_type": "stream",
     "text": [
      "train: loss 0.3605 | acc 0.8714 || val: loss 0.3393 | acc 0.8751 || lr: 2.50e-03\n",
      "\n",
      "Epoch 63/200\n"
     ]
    },
    {
     "name": "stderr",
     "output_type": "stream",
     "text": [
      "                                                                               \r"
     ]
    },
    {
     "name": "stdout",
     "output_type": "stream",
     "text": [
      "train: loss 0.3557 | acc 0.8719 || val: loss 0.3244 | acc 0.8862 || lr: 2.50e-03\n",
      "\n",
      "Epoch 64/200\n"
     ]
    },
    {
     "name": "stderr",
     "output_type": "stream",
     "text": [
      "                                                                               \r"
     ]
    },
    {
     "name": "stdout",
     "output_type": "stream",
     "text": [
      "train: loss 0.3634 | acc 0.8702 || val: loss 0.3303 | acc 0.8843 || lr: 2.50e-03\n",
      "\n",
      "Epoch 65/200\n"
     ]
    },
    {
     "name": "stderr",
     "output_type": "stream",
     "text": [
      "                                                                               \r"
     ]
    },
    {
     "name": "stdout",
     "output_type": "stream",
     "text": [
      "train: loss 0.3521 | acc 0.8742 || val: loss 0.3163 | acc 0.8815 || lr: 1.25e-03\n",
      "\n",
      "Epoch 66/200\n"
     ]
    },
    {
     "name": "stderr",
     "output_type": "stream",
     "text": [
      "                                                                               \r"
     ]
    },
    {
     "name": "stdout",
     "output_type": "stream",
     "text": [
      "train: loss 0.3393 | acc 0.8789 || val: loss 0.3086 | acc 0.8867 || lr: 1.25e-03\n",
      "\n",
      "Epoch 67/200\n"
     ]
    },
    {
     "name": "stderr",
     "output_type": "stream",
     "text": [
      "                                                                               \r"
     ]
    },
    {
     "name": "stdout",
     "output_type": "stream",
     "text": [
      "train: loss 0.3340 | acc 0.8814 || val: loss 0.3292 | acc 0.8738 || lr: 1.25e-03\n",
      "\n",
      "Epoch 68/200\n"
     ]
    },
    {
     "name": "stderr",
     "output_type": "stream",
     "text": [
      "                                                                               \r"
     ]
    },
    {
     "name": "stdout",
     "output_type": "stream",
     "text": [
      "train: loss 0.3336 | acc 0.8819 || val: loss 0.3184 | acc 0.8823 || lr: 1.25e-03\n",
      "\n",
      "Epoch 69/200\n"
     ]
    },
    {
     "name": "stderr",
     "output_type": "stream",
     "text": [
      "                                                                               \r"
     ]
    },
    {
     "name": "stdout",
     "output_type": "stream",
     "text": [
      "train: loss 0.3320 | acc 0.8812 || val: loss 0.3111 | acc 0.8817 || lr: 1.25e-03\n",
      "\n",
      "Epoch 70/200\n"
     ]
    },
    {
     "name": "stderr",
     "output_type": "stream",
     "text": [
      "                                                                               \r"
     ]
    },
    {
     "name": "stdout",
     "output_type": "stream",
     "text": [
      "train: loss 0.3344 | acc 0.8806 || val: loss 0.3045 | acc 0.8853 || lr: 1.25e-03\n",
      "\n",
      "Epoch 71/200\n"
     ]
    },
    {
     "name": "stderr",
     "output_type": "stream",
     "text": [
      "                                                                               \r"
     ]
    },
    {
     "name": "stdout",
     "output_type": "stream",
     "text": [
      "train: loss 0.3306 | acc 0.8820 || val: loss 0.3099 | acc 0.8826 || lr: 1.25e-03\n",
      "\n",
      "Epoch 72/200\n"
     ]
    },
    {
     "name": "stderr",
     "output_type": "stream",
     "text": [
      "                                                                               \r"
     ]
    },
    {
     "name": "stdout",
     "output_type": "stream",
     "text": [
      "train: loss 0.3243 | acc 0.8847 || val: loss 0.3111 | acc 0.8848 || lr: 1.25e-03\n",
      "\n",
      "Epoch 73/200\n"
     ]
    },
    {
     "name": "stderr",
     "output_type": "stream",
     "text": [
      "                                                                               \r"
     ]
    },
    {
     "name": "stdout",
     "output_type": "stream",
     "text": [
      "train: loss 0.3234 | acc 0.8855 || val: loss 0.3206 | acc 0.8716 || lr: 1.25e-03\n",
      "\n",
      "Epoch 74/200\n"
     ]
    },
    {
     "name": "stderr",
     "output_type": "stream",
     "text": [
      "                                                                               \r"
     ]
    },
    {
     "name": "stdout",
     "output_type": "stream",
     "text": [
      "train: loss 0.3249 | acc 0.8846 || val: loss 0.3014 | acc 0.8846 || lr: 1.25e-03\n",
      "\n",
      "Epoch 75/200\n"
     ]
    },
    {
     "name": "stderr",
     "output_type": "stream",
     "text": [
      "                                                                               \r"
     ]
    },
    {
     "name": "stdout",
     "output_type": "stream",
     "text": [
      "train: loss 0.3297 | acc 0.8833 || val: loss 0.3205 | acc 0.8710 || lr: 1.25e-03\n",
      "\n",
      "Epoch 76/200\n"
     ]
    },
    {
     "name": "stderr",
     "output_type": "stream",
     "text": [
      "                                                                               \r"
     ]
    },
    {
     "name": "stdout",
     "output_type": "stream",
     "text": [
      "train: loss 0.3262 | acc 0.8835 || val: loss 0.3186 | acc 0.8724 || lr: 1.25e-03\n",
      "\n",
      "Epoch 77/200\n"
     ]
    },
    {
     "name": "stderr",
     "output_type": "stream",
     "text": [
      "                                                                               \r"
     ]
    },
    {
     "name": "stdout",
     "output_type": "stream",
     "text": [
      "train: loss 0.3233 | acc 0.8846 || val: loss 0.2947 | acc 0.8914 || lr: 1.25e-03\n",
      "\n",
      "Epoch 78/200\n"
     ]
    },
    {
     "name": "stderr",
     "output_type": "stream",
     "text": [
      "                                                                               \r"
     ]
    },
    {
     "name": "stdout",
     "output_type": "stream",
     "text": [
      "train: loss 0.3200 | acc 0.8860 || val: loss 0.3253 | acc 0.8721 || lr: 1.25e-03\n",
      "\n",
      "Epoch 79/200\n"
     ]
    },
    {
     "name": "stderr",
     "output_type": "stream",
     "text": [
      "                                                                               \r"
     ]
    },
    {
     "name": "stdout",
     "output_type": "stream",
     "text": [
      "train: loss 0.3280 | acc 0.8829 || val: loss 0.3331 | acc 0.8669 || lr: 1.25e-03\n",
      "\n",
      "Epoch 80/200\n"
     ]
    },
    {
     "name": "stderr",
     "output_type": "stream",
     "text": [
      "                                                                               \r"
     ]
    },
    {
     "name": "stdout",
     "output_type": "stream",
     "text": [
      "train: loss 0.3254 | acc 0.8843 || val: loss 0.3173 | acc 0.8736 || lr: 1.25e-03\n",
      "\n",
      "Epoch 81/200\n"
     ]
    },
    {
     "name": "stderr",
     "output_type": "stream",
     "text": [
      "                                                                               \r"
     ]
    },
    {
     "name": "stdout",
     "output_type": "stream",
     "text": [
      "train: loss 0.3190 | acc 0.8867 || val: loss 0.3005 | acc 0.8909 || lr: 1.25e-03\n",
      "\n",
      "Epoch 82/200\n"
     ]
    },
    {
     "name": "stderr",
     "output_type": "stream",
     "text": [
      "                                                                               \r"
     ]
    },
    {
     "name": "stdout",
     "output_type": "stream",
     "text": [
      "train: loss 0.3155 | acc 0.8882 || val: loss 0.3173 | acc 0.8742 || lr: 1.25e-03\n",
      "\n",
      "Epoch 83/200\n"
     ]
    },
    {
     "name": "stderr",
     "output_type": "stream",
     "text": [
      "                                                                               \r"
     ]
    },
    {
     "name": "stdout",
     "output_type": "stream",
     "text": [
      "train: loss 0.3169 | acc 0.8873 || val: loss 0.3052 | acc 0.8866 || lr: 1.25e-03\n",
      "\n",
      "Epoch 84/200\n"
     ]
    },
    {
     "name": "stderr",
     "output_type": "stream",
     "text": [
      "                                                                               \r"
     ]
    },
    {
     "name": "stdout",
     "output_type": "stream",
     "text": [
      "train: loss 0.3187 | acc 0.8868 || val: loss 0.3123 | acc 0.8817 || lr: 1.25e-03\n",
      "\n",
      "Epoch 85/200\n"
     ]
    },
    {
     "name": "stderr",
     "output_type": "stream",
     "text": [
      "                                                                               \r"
     ]
    },
    {
     "name": "stdout",
     "output_type": "stream",
     "text": [
      "train: loss 0.3214 | acc 0.8860 || val: loss 0.2995 | acc 0.8888 || lr: 1.25e-03\n",
      "\n",
      "Epoch 86/200\n"
     ]
    },
    {
     "name": "stderr",
     "output_type": "stream",
     "text": [
      "                                                                               \r"
     ]
    },
    {
     "name": "stdout",
     "output_type": "stream",
     "text": [
      "train: loss 0.3161 | acc 0.8876 || val: loss 0.3146 | acc 0.8798 || lr: 1.25e-03\n",
      "\n",
      "Epoch 87/200\n"
     ]
    },
    {
     "name": "stderr",
     "output_type": "stream",
     "text": [
      "                                                                               \r"
     ]
    },
    {
     "name": "stdout",
     "output_type": "stream",
     "text": [
      "train: loss 0.3173 | acc 0.8868 || val: loss 0.3069 | acc 0.8891 || lr: 1.25e-03\n",
      "\n",
      "Epoch 88/200\n"
     ]
    },
    {
     "name": "stderr",
     "output_type": "stream",
     "text": [
      "                                                                               \r"
     ]
    },
    {
     "name": "stdout",
     "output_type": "stream",
     "text": [
      "train: loss 0.3172 | acc 0.8878 || val: loss 0.3082 | acc 0.8826 || lr: 6.25e-04\n",
      "\n",
      "Epoch 89/200\n"
     ]
    },
    {
     "name": "stderr",
     "output_type": "stream",
     "text": [
      "                                                                               \r"
     ]
    },
    {
     "name": "stdout",
     "output_type": "stream",
     "text": [
      "train: loss 0.3065 | acc 0.8917 || val: loss 0.3058 | acc 0.8834 || lr: 6.25e-04\n",
      "\n",
      "Epoch 90/200\n"
     ]
    },
    {
     "name": "stderr",
     "output_type": "stream",
     "text": [
      "                                                                               \r"
     ]
    },
    {
     "name": "stdout",
     "output_type": "stream",
     "text": [
      "train: loss 0.3049 | acc 0.8929 || val: loss 0.3144 | acc 0.8723 || lr: 6.25e-04\n",
      "\n",
      "Epoch 91/200\n"
     ]
    },
    {
     "name": "stderr",
     "output_type": "stream",
     "text": [
      "                                                                               \r"
     ]
    },
    {
     "name": "stdout",
     "output_type": "stream",
     "text": [
      "train: loss 0.3043 | acc 0.8921 || val: loss 0.3107 | acc 0.8800 || lr: 6.25e-04\n",
      "\n",
      "Epoch 92/200\n"
     ]
    },
    {
     "name": "stderr",
     "output_type": "stream",
     "text": [
      "                                                                               \r"
     ]
    },
    {
     "name": "stdout",
     "output_type": "stream",
     "text": [
      "train: loss 0.3042 | acc 0.8922 || val: loss 0.3009 | acc 0.8868 || lr: 6.25e-04\n",
      "\n",
      "Epoch 93/200\n"
     ]
    },
    {
     "name": "stderr",
     "output_type": "stream",
     "text": [
      "                                                                               \r"
     ]
    },
    {
     "name": "stdout",
     "output_type": "stream",
     "text": [
      "train: loss 0.3004 | acc 0.8935 || val: loss 0.3008 | acc 0.8914 || lr: 6.25e-04\n",
      "\n",
      "Epoch 94/200\n"
     ]
    },
    {
     "name": "stderr",
     "output_type": "stream",
     "text": [
      "                                                                               \r"
     ]
    },
    {
     "name": "stdout",
     "output_type": "stream",
     "text": [
      "train: loss 0.3039 | acc 0.8925 || val: loss 0.3066 | acc 0.8757 || lr: 6.25e-04\n",
      "\n",
      "Epoch 95/200\n"
     ]
    },
    {
     "name": "stderr",
     "output_type": "stream",
     "text": [
      "                                                                               \r"
     ]
    },
    {
     "name": "stdout",
     "output_type": "stream",
     "text": [
      "train: loss 0.2997 | acc 0.8941 || val: loss 0.3027 | acc 0.8817 || lr: 6.25e-04\n",
      "\n",
      "Epoch 96/200\n"
     ]
    },
    {
     "name": "stderr",
     "output_type": "stream",
     "text": [
      "                                                                               \r"
     ]
    },
    {
     "name": "stdout",
     "output_type": "stream",
     "text": [
      "train: loss 0.2972 | acc 0.8947 || val: loss 0.3046 | acc 0.8786 || lr: 6.25e-04\n",
      "\n",
      "Epoch 97/200\n"
     ]
    },
    {
     "name": "stderr",
     "output_type": "stream",
     "text": [
      "                                                                               \r"
     ]
    },
    {
     "name": "stdout",
     "output_type": "stream",
     "text": [
      "train: loss 0.2999 | acc 0.8935 || val: loss 0.3100 | acc 0.8767 || lr: 6.25e-04\n",
      "\n",
      "Epoch 98/200\n"
     ]
    },
    {
     "name": "stderr",
     "output_type": "stream",
     "text": [
      "                                                                               \r"
     ]
    },
    {
     "name": "stdout",
     "output_type": "stream",
     "text": [
      "train: loss 0.2973 | acc 0.8949 || val: loss 0.3009 | acc 0.8891 || lr: 6.25e-04\n",
      "\n",
      "Epoch 99/200\n"
     ]
    },
    {
     "name": "stderr",
     "output_type": "stream",
     "text": [
      "                                                                               \r"
     ]
    },
    {
     "name": "stdout",
     "output_type": "stream",
     "text": [
      "train: loss 0.2983 | acc 0.8934 || val: loss 0.3016 | acc 0.8872 || lr: 3.13e-04\n",
      "\n",
      "Epoch 100/200\n"
     ]
    },
    {
     "name": "stderr",
     "output_type": "stream",
     "text": [
      "                                                                               \r"
     ]
    },
    {
     "name": "stdout",
     "output_type": "stream",
     "text": [
      "train: loss 0.2952 | acc 0.8963 || val: loss 0.2992 | acc 0.8845 || lr: 3.13e-04\n",
      "\n",
      "Epoch 101/200\n"
     ]
    },
    {
     "name": "stderr",
     "output_type": "stream",
     "text": [
      "                                                                               \r"
     ]
    },
    {
     "name": "stdout",
     "output_type": "stream",
     "text": [
      "train: loss 0.2909 | acc 0.8970 || val: loss 0.3011 | acc 0.8813 || lr: 3.13e-04\n",
      "\n",
      "Epoch 102/200\n"
     ]
    },
    {
     "name": "stderr",
     "output_type": "stream",
     "text": [
      "                                                                               \r"
     ]
    },
    {
     "name": "stdout",
     "output_type": "stream",
     "text": [
      "train: loss 0.2914 | acc 0.8967 || val: loss 0.2985 | acc 0.8869 || lr: 3.13e-04\n",
      "\n",
      "Epoch 103/200\n"
     ]
    },
    {
     "name": "stderr",
     "output_type": "stream",
     "text": [
      "                                                                               \r"
     ]
    },
    {
     "name": "stdout",
     "output_type": "stream",
     "text": [
      "train: loss 0.2901 | acc 0.8976 || val: loss 0.2999 | acc 0.8827 || lr: 3.13e-04\n",
      "\n",
      "Epoch 104/200\n"
     ]
    },
    {
     "name": "stderr",
     "output_type": "stream",
     "text": [
      "                                                                               \r"
     ]
    },
    {
     "name": "stdout",
     "output_type": "stream",
     "text": [
      "train: loss 0.2893 | acc 0.8976 || val: loss 0.3007 | acc 0.8841 || lr: 3.13e-04\n",
      "\n",
      "Epoch 105/200\n"
     ]
    },
    {
     "name": "stderr",
     "output_type": "stream",
     "text": [
      "                                                                               \r"
     ]
    },
    {
     "name": "stdout",
     "output_type": "stream",
     "text": [
      "train: loss 0.2877 | acc 0.8983 || val: loss 0.2987 | acc 0.8838 || lr: 3.13e-04\n",
      "\n",
      "Epoch 106/200\n"
     ]
    },
    {
     "name": "stderr",
     "output_type": "stream",
     "text": [
      "                                                                               \r"
     ]
    },
    {
     "name": "stdout",
     "output_type": "stream",
     "text": [
      "train: loss 0.2881 | acc 0.8985 || val: loss 0.3081 | acc 0.8787 || lr: 3.13e-04\n",
      "\n",
      "Epoch 107/200\n"
     ]
    },
    {
     "name": "stderr",
     "output_type": "stream",
     "text": [
      "                                                                               \r"
     ]
    },
    {
     "name": "stdout",
     "output_type": "stream",
     "text": [
      "train: loss 0.2895 | acc 0.8967 || val: loss 0.2953 | acc 0.8879 || lr: 3.13e-04\n",
      "\n",
      "Epoch 108/200\n"
     ]
    },
    {
     "name": "stderr",
     "output_type": "stream",
     "text": [
      "                                                                               \r"
     ]
    },
    {
     "name": "stdout",
     "output_type": "stream",
     "text": [
      "train: loss 0.2885 | acc 0.8985 || val: loss 0.3033 | acc 0.8831 || lr: 3.13e-04\n",
      "\n",
      "Epoch 109/200\n"
     ]
    },
    {
     "name": "stderr",
     "output_type": "stream",
     "text": [
      "                                                                               \r"
     ]
    },
    {
     "name": "stdout",
     "output_type": "stream",
     "text": [
      "train: loss 0.2883 | acc 0.8978 || val: loss 0.2973 | acc 0.8889 || lr: 3.13e-04\n",
      "\n",
      "Epoch 110/200\n"
     ]
    },
    {
     "name": "stderr",
     "output_type": "stream",
     "text": [
      "                                                                               \r"
     ]
    },
    {
     "name": "stdout",
     "output_type": "stream",
     "text": [
      "train: loss 0.2877 | acc 0.8982 || val: loss 0.2983 | acc 0.8835 || lr: 1.56e-04\n",
      "\n",
      "Epoch 111/200\n"
     ]
    },
    {
     "name": "stderr",
     "output_type": "stream",
     "text": [
      "                                                                               \r"
     ]
    },
    {
     "name": "stdout",
     "output_type": "stream",
     "text": [
      "train: loss 0.2865 | acc 0.8985 || val: loss 0.2945 | acc 0.8880 || lr: 1.56e-04\n",
      "\n",
      "Epoch 112/200\n"
     ]
    },
    {
     "name": "stderr",
     "output_type": "stream",
     "text": [
      "                                                                               \r"
     ]
    },
    {
     "name": "stdout",
     "output_type": "stream",
     "text": [
      "train: loss 0.2859 | acc 0.8983 || val: loss 0.2984 | acc 0.8884 || lr: 1.56e-04\n",
      "\n",
      "Epoch 113/200\n"
     ]
    },
    {
     "name": "stderr",
     "output_type": "stream",
     "text": [
      "                                                                               \r"
     ]
    },
    {
     "name": "stdout",
     "output_type": "stream",
     "text": [
      "train: loss 0.2842 | acc 0.8997 || val: loss 0.3013 | acc 0.8841 || lr: 1.56e-04\n",
      "\n",
      "Epoch 114/200\n"
     ]
    },
    {
     "name": "stderr",
     "output_type": "stream",
     "text": [
      "                                                                               \r"
     ]
    },
    {
     "name": "stdout",
     "output_type": "stream",
     "text": [
      "train: loss 0.2852 | acc 0.8993 || val: loss 0.3018 | acc 0.8826 || lr: 1.56e-04\n",
      "\n",
      "Epoch 115/200\n"
     ]
    },
    {
     "name": "stderr",
     "output_type": "stream",
     "text": [
      "                                                                               \r"
     ]
    },
    {
     "name": "stdout",
     "output_type": "stream",
     "text": [
      "train: loss 0.2838 | acc 0.8998 || val: loss 0.2999 | acc 0.8834 || lr: 1.56e-04\n",
      "\n",
      "Epoch 116/200\n"
     ]
    },
    {
     "name": "stderr",
     "output_type": "stream",
     "text": [
      "                                                                               \r"
     ]
    },
    {
     "name": "stdout",
     "output_type": "stream",
     "text": [
      "train: loss 0.2832 | acc 0.8995 || val: loss 0.3062 | acc 0.8815 || lr: 1.56e-04\n",
      "\n",
      "Epoch 117/200\n"
     ]
    },
    {
     "name": "stderr",
     "output_type": "stream",
     "text": [
      "                                                                               \r"
     ]
    },
    {
     "name": "stdout",
     "output_type": "stream",
     "text": [
      "train: loss 0.2833 | acc 0.8997 || val: loss 0.3033 | acc 0.8800 || lr: 1.56e-04\n",
      "\n",
      "Epoch 118/200\n"
     ]
    },
    {
     "name": "stderr",
     "output_type": "stream",
     "text": [
      "                                                                               \r"
     ]
    },
    {
     "name": "stdout",
     "output_type": "stream",
     "text": [
      "train: loss 0.2825 | acc 0.8997 || val: loss 0.2978 | acc 0.8850 || lr: 1.56e-04\n",
      "\n",
      "Epoch 119/200\n"
     ]
    },
    {
     "name": "stderr",
     "output_type": "stream",
     "text": [
      "                                                                               \r"
     ]
    },
    {
     "name": "stdout",
     "output_type": "stream",
     "text": [
      "train: loss 0.2823 | acc 0.9001 || val: loss 0.2985 | acc 0.8848 || lr: 1.56e-04\n",
      "\n",
      "Epoch 120/200\n"
     ]
    },
    {
     "name": "stderr",
     "output_type": "stream",
     "text": [
      "                                                                               \r"
     ]
    },
    {
     "name": "stdout",
     "output_type": "stream",
     "text": [
      "train: loss 0.2822 | acc 0.9005 || val: loss 0.3043 | acc 0.8827 || lr: 1.56e-04\n",
      "\n",
      "Epoch 121/200\n"
     ]
    },
    {
     "name": "stderr",
     "output_type": "stream",
     "text": [
      "                                                                               \r"
     ]
    },
    {
     "name": "stdout",
     "output_type": "stream",
     "text": [
      "train: loss 0.2829 | acc 0.9000 || val: loss 0.3022 | acc 0.8834 || lr: 1.56e-04\n",
      "\n",
      "Epoch 122/200\n"
     ]
    },
    {
     "name": "stderr",
     "output_type": "stream",
     "text": [
      "                                                                               \r"
     ]
    },
    {
     "name": "stdout",
     "output_type": "stream",
     "text": [
      "train: loss 0.2824 | acc 0.9004 || val: loss 0.3070 | acc 0.8786 || lr: 7.81e-05\n",
      "\n",
      "Epoch 123/200\n"
     ]
    },
    {
     "name": "stderr",
     "output_type": "stream",
     "text": [
      "                                                                               \r"
     ]
    },
    {
     "name": "stdout",
     "output_type": "stream",
     "text": [
      "train: loss 0.2811 | acc 0.9003 || val: loss 0.2985 | acc 0.8832 || lr: 7.81e-05\n",
      "\n",
      "Epoch 124/200\n"
     ]
    },
    {
     "name": "stderr",
     "output_type": "stream",
     "text": [
      "                                                                               \r"
     ]
    },
    {
     "name": "stdout",
     "output_type": "stream",
     "text": [
      "train: loss 0.2806 | acc 0.9008 || val: loss 0.2997 | acc 0.8852 || lr: 7.81e-05\n",
      "\n",
      "Epoch 125/200\n"
     ]
    },
    {
     "name": "stderr",
     "output_type": "stream",
     "text": [
      "                                                                               \r"
     ]
    },
    {
     "name": "stdout",
     "output_type": "stream",
     "text": [
      "train: loss 0.2803 | acc 0.9010 || val: loss 0.3003 | acc 0.8839 || lr: 7.81e-05\n",
      "\n",
      "Epoch 126/200\n"
     ]
    },
    {
     "name": "stderr",
     "output_type": "stream",
     "text": [
      "                                                                               \r"
     ]
    },
    {
     "name": "stdout",
     "output_type": "stream",
     "text": [
      "train: loss 0.2799 | acc 0.9008 || val: loss 0.2998 | acc 0.8829 || lr: 7.81e-05\n",
      "\n",
      "Epoch 127/200\n"
     ]
    },
    {
     "name": "stderr",
     "output_type": "stream",
     "text": [
      "                                                                               \r"
     ]
    },
    {
     "name": "stdout",
     "output_type": "stream",
     "text": [
      "train: loss 0.2797 | acc 0.9006 || val: loss 0.2998 | acc 0.8836 || lr: 7.81e-05\n",
      "\n",
      "Epoch 128/200\n"
     ]
    },
    {
     "name": "stderr",
     "output_type": "stream",
     "text": [
      "                                                                               \r"
     ]
    },
    {
     "name": "stdout",
     "output_type": "stream",
     "text": [
      "train: loss 0.2800 | acc 0.9012 || val: loss 0.3052 | acc 0.8796 || lr: 7.81e-05\n",
      "\n",
      "Epoch 129/200\n"
     ]
    },
    {
     "name": "stderr",
     "output_type": "stream",
     "text": [
      "                                                                               \r"
     ]
    },
    {
     "name": "stdout",
     "output_type": "stream",
     "text": [
      "train: loss 0.2803 | acc 0.9003 || val: loss 0.3000 | acc 0.8849 || lr: 7.81e-05\n",
      "\n",
      "Epoch 130/200\n"
     ]
    },
    {
     "name": "stderr",
     "output_type": "stream",
     "text": [
      "                                                                               \r"
     ]
    },
    {
     "name": "stdout",
     "output_type": "stream",
     "text": [
      "train: loss 0.2799 | acc 0.9012 || val: loss 0.2999 | acc 0.8832 || lr: 7.81e-05\n",
      "\n",
      "Epoch 131/200\n"
     ]
    },
    {
     "name": "stderr",
     "output_type": "stream",
     "text": [
      "                                                                               \r"
     ]
    },
    {
     "name": "stdout",
     "output_type": "stream",
     "text": [
      "train: loss 0.2797 | acc 0.9013 || val: loss 0.3022 | acc 0.8814 || lr: 7.81e-05\n",
      "\n",
      "Epoch 132/200\n"
     ]
    },
    {
     "name": "stderr",
     "output_type": "stream",
     "text": [
      "                                                                               \r"
     ]
    },
    {
     "name": "stdout",
     "output_type": "stream",
     "text": [
      "train: loss 0.2792 | acc 0.9007 || val: loss 0.2995 | acc 0.8850 || lr: 7.81e-05\n",
      "\n",
      "Epoch 133/200\n"
     ]
    },
    {
     "name": "stderr",
     "output_type": "stream",
     "text": [
      "                                                                               \r"
     ]
    },
    {
     "name": "stdout",
     "output_type": "stream",
     "text": [
      "train: loss 0.2791 | acc 0.9013 || val: loss 0.3007 | acc 0.8832 || lr: 3.91e-05\n",
      "\n",
      "Epoch 134/200\n"
     ]
    },
    {
     "name": "stderr",
     "output_type": "stream",
     "text": [
      "                                                                               \r"
     ]
    },
    {
     "name": "stdout",
     "output_type": "stream",
     "text": [
      "train: loss 0.2790 | acc 0.9016 || val: loss 0.3005 | acc 0.8831 || lr: 3.91e-05\n",
      "\n",
      "Epoch 135/200\n"
     ]
    },
    {
     "name": "stderr",
     "output_type": "stream",
     "text": [
      "                                                                               \r"
     ]
    },
    {
     "name": "stdout",
     "output_type": "stream",
     "text": [
      "train: loss 0.2781 | acc 0.9015 || val: loss 0.3003 | acc 0.8831 || lr: 3.91e-05\n",
      "\n",
      "Epoch 136/200\n"
     ]
    },
    {
     "name": "stderr",
     "output_type": "stream",
     "text": [
      "                                                                               \r"
     ]
    },
    {
     "name": "stdout",
     "output_type": "stream",
     "text": [
      "train: loss 0.2782 | acc 0.9015 || val: loss 0.3008 | acc 0.8827 || lr: 3.91e-05\n",
      "\n",
      "Epoch 137/200\n"
     ]
    },
    {
     "name": "stderr",
     "output_type": "stream",
     "text": [
      "                                                                               \r"
     ]
    },
    {
     "name": "stdout",
     "output_type": "stream",
     "text": [
      "train: loss 0.2787 | acc 0.9010 || val: loss 0.2986 | acc 0.8854 || lr: 3.91e-05\n",
      "\n",
      "Epoch 138/200\n"
     ]
    },
    {
     "name": "stderr",
     "output_type": "stream",
     "text": [
      "                                                                               \r"
     ]
    },
    {
     "name": "stdout",
     "output_type": "stream",
     "text": [
      "train: loss 0.2780 | acc 0.9016 || val: loss 0.2999 | acc 0.8847 || lr: 3.91e-05\n",
      "\n",
      "Epoch 139/200\n"
     ]
    },
    {
     "name": "stderr",
     "output_type": "stream",
     "text": [
      "                                                                               \r"
     ]
    },
    {
     "name": "stdout",
     "output_type": "stream",
     "text": [
      "train: loss 0.2782 | acc 0.9015 || val: loss 0.3011 | acc 0.8831 || lr: 3.91e-05\n",
      "\n",
      "Epoch 140/200\n"
     ]
    },
    {
     "name": "stderr",
     "output_type": "stream",
     "text": [
      "                                                                               \r"
     ]
    },
    {
     "name": "stdout",
     "output_type": "stream",
     "text": [
      "train: loss 0.2781 | acc 0.9016 || val: loss 0.2993 | acc 0.8844 || lr: 3.91e-05\n",
      "\n",
      "Epoch 141/200\n"
     ]
    },
    {
     "name": "stderr",
     "output_type": "stream",
     "text": [
      "                                                                               \r"
     ]
    },
    {
     "name": "stdout",
     "output_type": "stream",
     "text": [
      "train: loss 0.2778 | acc 0.9017 || val: loss 0.3003 | acc 0.8835 || lr: 3.91e-05\n",
      "\n",
      "Epoch 142/200\n"
     ]
    },
    {
     "name": "stderr",
     "output_type": "stream",
     "text": [
      "                                                                               \r"
     ]
    },
    {
     "name": "stdout",
     "output_type": "stream",
     "text": [
      "train: loss 0.2780 | acc 0.9013 || val: loss 0.2990 | acc 0.8842 || lr: 3.91e-05\n",
      "\n",
      "Epoch 143/200\n"
     ]
    },
    {
     "name": "stderr",
     "output_type": "stream",
     "text": [
      "                                                                               \r"
     ]
    },
    {
     "name": "stdout",
     "output_type": "stream",
     "text": [
      "train: loss 0.2785 | acc 0.9015 || val: loss 0.3009 | acc 0.8830 || lr: 3.91e-05\n",
      "\n",
      "Epoch 144/200\n"
     ]
    },
    {
     "name": "stderr",
     "output_type": "stream",
     "text": [
      "                                                                               \r"
     ]
    },
    {
     "name": "stdout",
     "output_type": "stream",
     "text": [
      "train: loss 0.2781 | acc 0.9016 || val: loss 0.2998 | acc 0.8840 || lr: 1.95e-05\n",
      "\n",
      "Epoch 145/200\n"
     ]
    },
    {
     "name": "stderr",
     "output_type": "stream",
     "text": [
      "                                                                               \r"
     ]
    },
    {
     "name": "stdout",
     "output_type": "stream",
     "text": [
      "train: loss 0.2776 | acc 0.9018 || val: loss 0.2995 | acc 0.8842 || lr: 1.95e-05\n",
      "\n",
      "Epoch 146/200\n"
     ]
    },
    {
     "name": "stderr",
     "output_type": "stream",
     "text": [
      "                                                                               \r"
     ]
    },
    {
     "name": "stdout",
     "output_type": "stream",
     "text": [
      "train: loss 0.2773 | acc 0.9016 || val: loss 0.2999 | acc 0.8839 || lr: 1.95e-05\n",
      "\n",
      "Epoch 147/200\n"
     ]
    },
    {
     "name": "stderr",
     "output_type": "stream",
     "text": [
      "                                                                               \r"
     ]
    },
    {
     "name": "stdout",
     "output_type": "stream",
     "text": [
      "train: loss 0.2772 | acc 0.9020 || val: loss 0.3000 | acc 0.8839 || lr: 1.95e-05\n",
      "\n",
      "Epoch 148/200\n"
     ]
    },
    {
     "name": "stderr",
     "output_type": "stream",
     "text": [
      "                                                                               \r"
     ]
    },
    {
     "name": "stdout",
     "output_type": "stream",
     "text": [
      "train: loss 0.2772 | acc 0.9018 || val: loss 0.3002 | acc 0.8839 || lr: 1.95e-05\n",
      "\n",
      "Epoch 149/200\n"
     ]
    },
    {
     "name": "stderr",
     "output_type": "stream",
     "text": [
      "                                                                               \r"
     ]
    },
    {
     "name": "stdout",
     "output_type": "stream",
     "text": [
      "train: loss 0.2775 | acc 0.9016 || val: loss 0.3000 | acc 0.8837 || lr: 1.95e-05\n",
      "\n",
      "Epoch 150/200\n"
     ]
    },
    {
     "name": "stderr",
     "output_type": "stream",
     "text": [
      "                                                                               \r"
     ]
    },
    {
     "name": "stdout",
     "output_type": "stream",
     "text": [
      "train: loss 0.2772 | acc 0.9018 || val: loss 0.2993 | acc 0.8845 || lr: 1.95e-05\n",
      "\n",
      "Epoch 151/200\n"
     ]
    },
    {
     "name": "stderr",
     "output_type": "stream",
     "text": [
      "                                                                               \r"
     ]
    },
    {
     "name": "stdout",
     "output_type": "stream",
     "text": [
      "train: loss 0.2773 | acc 0.9021 || val: loss 0.2987 | acc 0.8848 || lr: 1.95e-05\n",
      "\n",
      "Epoch 152/200\n"
     ]
    },
    {
     "name": "stderr",
     "output_type": "stream",
     "text": [
      "                                                                               \r"
     ]
    },
    {
     "name": "stdout",
     "output_type": "stream",
     "text": [
      "train: loss 0.2769 | acc 0.9016 || val: loss 0.3009 | acc 0.8834 || lr: 1.95e-05\n",
      "\n",
      "Epoch 153/200\n"
     ]
    },
    {
     "name": "stderr",
     "output_type": "stream",
     "text": [
      "                                                                               \r"
     ]
    },
    {
     "name": "stdout",
     "output_type": "stream",
     "text": [
      "train: loss 0.2766 | acc 0.9022 || val: loss 0.2995 | acc 0.8842 || lr: 1.95e-05\n",
      "\n",
      "Epoch 154/200\n"
     ]
    },
    {
     "name": "stderr",
     "output_type": "stream",
     "text": [
      "                                                                               \r"
     ]
    },
    {
     "name": "stdout",
     "output_type": "stream",
     "text": [
      "train: loss 0.2770 | acc 0.9019 || val: loss 0.2997 | acc 0.8838 || lr: 1.95e-05\n",
      "\n",
      "Epoch 155/200\n"
     ]
    },
    {
     "name": "stderr",
     "output_type": "stream",
     "text": [
      "                                                                               \r"
     ]
    },
    {
     "name": "stdout",
     "output_type": "stream",
     "text": [
      "train: loss 0.2772 | acc 0.9020 || val: loss 0.2997 | acc 0.8843 || lr: 1.00e-05\n",
      "\n",
      "Epoch 156/200\n"
     ]
    },
    {
     "name": "stderr",
     "output_type": "stream",
     "text": [
      "                                                                               \r"
     ]
    },
    {
     "name": "stdout",
     "output_type": "stream",
     "text": [
      "train: loss 0.2765 | acc 0.9022 || val: loss 0.2996 | acc 0.8840 || lr: 1.00e-05\n",
      "\n",
      "Epoch 157/200\n"
     ]
    },
    {
     "name": "stderr",
     "output_type": "stream",
     "text": [
      "                                                                               \r"
     ]
    },
    {
     "name": "stdout",
     "output_type": "stream",
     "text": [
      "train: loss 0.2773 | acc 0.9021 || val: loss 0.2993 | acc 0.8844 || lr: 1.00e-05\n",
      "\n",
      "Epoch 158/200\n"
     ]
    },
    {
     "name": "stderr",
     "output_type": "stream",
     "text": [
      "                                                                               \r"
     ]
    },
    {
     "name": "stdout",
     "output_type": "stream",
     "text": [
      "train: loss 0.2765 | acc 0.9021 || val: loss 0.3001 | acc 0.8838 || lr: 1.00e-05\n",
      "\n",
      "Epoch 159/200\n"
     ]
    },
    {
     "name": "stderr",
     "output_type": "stream",
     "text": [
      "                                                                               \r"
     ]
    },
    {
     "name": "stdout",
     "output_type": "stream",
     "text": [
      "train: loss 0.2768 | acc 0.9020 || val: loss 0.2996 | acc 0.8841 || lr: 1.00e-05\n",
      "\n",
      "Epoch 160/200\n"
     ]
    },
    {
     "name": "stderr",
     "output_type": "stream",
     "text": [
      "                                                                               \r"
     ]
    },
    {
     "name": "stdout",
     "output_type": "stream",
     "text": [
      "train: loss 0.2766 | acc 0.9022 || val: loss 0.2995 | acc 0.8844 || lr: 1.00e-05\n",
      "\n",
      "Epoch 161/200\n"
     ]
    },
    {
     "name": "stderr",
     "output_type": "stream",
     "text": [
      "                                                                               \r"
     ]
    },
    {
     "name": "stdout",
     "output_type": "stream",
     "text": [
      "train: loss 0.2771 | acc 0.9020 || val: loss 0.2997 | acc 0.8841 || lr: 1.00e-05\n",
      "\n",
      "Epoch 162/200\n"
     ]
    },
    {
     "name": "stderr",
     "output_type": "stream",
     "text": [
      "                                                                               \r"
     ]
    },
    {
     "name": "stdout",
     "output_type": "stream",
     "text": [
      "train: loss 0.2768 | acc 0.9019 || val: loss 0.2997 | acc 0.8840 || lr: 1.00e-05\n",
      "\n",
      "Epoch 163/200\n"
     ]
    },
    {
     "name": "stderr",
     "output_type": "stream",
     "text": [
      "                                                                               \r"
     ]
    },
    {
     "name": "stdout",
     "output_type": "stream",
     "text": [
      "train: loss 0.2770 | acc 0.9019 || val: loss 0.2998 | acc 0.8838 || lr: 1.00e-05\n",
      "\n",
      "Epoch 164/200\n"
     ]
    },
    {
     "name": "stderr",
     "output_type": "stream",
     "text": [
      "                                                                               \r"
     ]
    },
    {
     "name": "stdout",
     "output_type": "stream",
     "text": [
      "train: loss 0.2768 | acc 0.9020 || val: loss 0.2995 | acc 0.8841 || lr: 1.00e-05\n",
      "\n",
      "Epoch 165/200\n"
     ]
    },
    {
     "name": "stderr",
     "output_type": "stream",
     "text": [
      "                                                                               \r"
     ]
    },
    {
     "name": "stdout",
     "output_type": "stream",
     "text": [
      "train: loss 0.2764 | acc 0.9021 || val: loss 0.2996 | acc 0.8841 || lr: 1.00e-05\n",
      "\n",
      "Epoch 166/200\n"
     ]
    },
    {
     "name": "stderr",
     "output_type": "stream",
     "text": [
      "                                                                               \r"
     ]
    },
    {
     "name": "stdout",
     "output_type": "stream",
     "text": [
      "train: loss 0.2769 | acc 0.9021 || val: loss 0.2995 | acc 0.8843 || lr: 1.00e-05\n",
      "\n",
      "Epoch 167/200\n"
     ]
    },
    {
     "name": "stderr",
     "output_type": "stream",
     "text": [
      "                                                                               \r"
     ]
    },
    {
     "name": "stdout",
     "output_type": "stream",
     "text": [
      "train: loss 0.2764 | acc 0.9021 || val: loss 0.2998 | acc 0.8841 || lr: 1.00e-05\n",
      "\n",
      "Epoch 168/200\n"
     ]
    },
    {
     "name": "stderr",
     "output_type": "stream",
     "text": [
      "                                                                               \r"
     ]
    },
    {
     "name": "stdout",
     "output_type": "stream",
     "text": [
      "train: loss 0.2769 | acc 0.9019 || val: loss 0.2997 | acc 0.8841 || lr: 1.00e-05\n",
      "\n",
      "Epoch 169/200\n"
     ]
    },
    {
     "name": "stderr",
     "output_type": "stream",
     "text": [
      "                                                                               \r"
     ]
    },
    {
     "name": "stdout",
     "output_type": "stream",
     "text": [
      "train: loss 0.2764 | acc 0.9022 || val: loss 0.2997 | acc 0.8840 || lr: 1.00e-05\n",
      "\n",
      "Epoch 170/200\n"
     ]
    },
    {
     "name": "stderr",
     "output_type": "stream",
     "text": [
      "                                                                               \r"
     ]
    },
    {
     "name": "stdout",
     "output_type": "stream",
     "text": [
      "train: loss 0.2764 | acc 0.9022 || val: loss 0.2996 | acc 0.8840 || lr: 1.00e-05\n",
      "\n",
      "Epoch 171/200\n"
     ]
    },
    {
     "name": "stderr",
     "output_type": "stream",
     "text": [
      "                                                                               \r"
     ]
    },
    {
     "name": "stdout",
     "output_type": "stream",
     "text": [
      "train: loss 0.2765 | acc 0.9021 || val: loss 0.2997 | acc 0.8841 || lr: 1.00e-05\n",
      "\n",
      "Epoch 172/200\n"
     ]
    },
    {
     "name": "stderr",
     "output_type": "stream",
     "text": [
      "                                                                               \r"
     ]
    },
    {
     "name": "stdout",
     "output_type": "stream",
     "text": [
      "train: loss 0.2764 | acc 0.9022 || val: loss 0.2997 | acc 0.8841 || lr: 1.00e-05\n",
      "\n",
      "Epoch 173/200\n"
     ]
    },
    {
     "name": "stderr",
     "output_type": "stream",
     "text": [
      "                                                                               \r"
     ]
    },
    {
     "name": "stdout",
     "output_type": "stream",
     "text": [
      "train: loss 0.2770 | acc 0.9021 || val: loss 0.2992 | acc 0.8844 || lr: 1.00e-05\n",
      "\n",
      "Epoch 174/200\n"
     ]
    },
    {
     "name": "stderr",
     "output_type": "stream",
     "text": [
      "                                                                               \r"
     ]
    },
    {
     "name": "stdout",
     "output_type": "stream",
     "text": [
      "train: loss 0.2764 | acc 0.9021 || val: loss 0.2992 | acc 0.8846 || lr: 1.00e-05\n",
      "\n",
      "Epoch 175/200\n"
     ]
    },
    {
     "name": "stderr",
     "output_type": "stream",
     "text": [
      "                                                                               \r"
     ]
    },
    {
     "name": "stdout",
     "output_type": "stream",
     "text": [
      "train: loss 0.2765 | acc 0.9022 || val: loss 0.2998 | acc 0.8842 || lr: 1.00e-05\n",
      "\n",
      "Epoch 176/200\n"
     ]
    },
    {
     "name": "stderr",
     "output_type": "stream",
     "text": [
      "                                                                               \r"
     ]
    },
    {
     "name": "stdout",
     "output_type": "stream",
     "text": [
      "train: loss 0.2763 | acc 0.9021 || val: loss 0.3001 | acc 0.8838 || lr: 1.00e-05\n",
      "\n",
      "Epoch 177/200\n"
     ]
    },
    {
     "name": "stderr",
     "output_type": "stream",
     "text": [
      "                                                                               \r"
     ]
    },
    {
     "name": "stdout",
     "output_type": "stream",
     "text": [
      "train: loss 0.2760 | acc 0.9022 || val: loss 0.2994 | acc 0.8845 || lr: 1.00e-05\n",
      "\n",
      "Epoch 178/200\n"
     ]
    },
    {
     "name": "stderr",
     "output_type": "stream",
     "text": [
      "                                                                               \r"
     ]
    },
    {
     "name": "stdout",
     "output_type": "stream",
     "text": [
      "train: loss 0.2766 | acc 0.9024 || val: loss 0.2992 | acc 0.8846 || lr: 1.00e-05\n",
      "\n",
      "Epoch 179/200\n"
     ]
    },
    {
     "name": "stderr",
     "output_type": "stream",
     "text": [
      "                                                                               \r"
     ]
    },
    {
     "name": "stdout",
     "output_type": "stream",
     "text": [
      "train: loss 0.2764 | acc 0.9021 || val: loss 0.2998 | acc 0.8839 || lr: 1.00e-05\n",
      "\n",
      "Epoch 180/200\n"
     ]
    },
    {
     "name": "stderr",
     "output_type": "stream",
     "text": [
      "                                                                               \r"
     ]
    },
    {
     "name": "stdout",
     "output_type": "stream",
     "text": [
      "train: loss 0.2762 | acc 0.9023 || val: loss 0.2995 | acc 0.8842 || lr: 1.00e-05\n",
      "\n",
      "Epoch 181/200\n"
     ]
    },
    {
     "name": "stderr",
     "output_type": "stream",
     "text": [
      "                                                                               \r"
     ]
    },
    {
     "name": "stdout",
     "output_type": "stream",
     "text": [
      "train: loss 0.2761 | acc 0.9023 || val: loss 0.2990 | acc 0.8848 || lr: 1.00e-05\n",
      "\n",
      "Epoch 182/200\n"
     ]
    },
    {
     "name": "stderr",
     "output_type": "stream",
     "text": [
      "                                                                               \r"
     ]
    },
    {
     "name": "stdout",
     "output_type": "stream",
     "text": [
      "train: loss 0.2767 | acc 0.9020 || val: loss 0.2996 | acc 0.8841 || lr: 1.00e-05\n",
      "\n",
      "Epoch 183/200\n"
     ]
    },
    {
     "name": "stderr",
     "output_type": "stream",
     "text": [
      "                                                                               \r"
     ]
    },
    {
     "name": "stdout",
     "output_type": "stream",
     "text": [
      "train: loss 0.2761 | acc 0.9022 || val: loss 0.2994 | acc 0.8844 || lr: 1.00e-05\n",
      "\n",
      "Epoch 184/200\n"
     ]
    },
    {
     "name": "stderr",
     "output_type": "stream",
     "text": [
      "                                                                               \r"
     ]
    },
    {
     "name": "stdout",
     "output_type": "stream",
     "text": [
      "train: loss 0.2763 | acc 0.9021 || val: loss 0.2998 | acc 0.8843 || lr: 1.00e-05\n",
      "\n",
      "Epoch 185/200\n"
     ]
    },
    {
     "name": "stderr",
     "output_type": "stream",
     "text": [
      "                                                                               \r"
     ]
    },
    {
     "name": "stdout",
     "output_type": "stream",
     "text": [
      "train: loss 0.2761 | acc 0.9023 || val: loss 0.2992 | acc 0.8847 || lr: 1.00e-05\n",
      "\n",
      "Epoch 186/200\n"
     ]
    },
    {
     "name": "stderr",
     "output_type": "stream",
     "text": [
      "                                                                               \r"
     ]
    },
    {
     "name": "stdout",
     "output_type": "stream",
     "text": [
      "train: loss 0.2760 | acc 0.9024 || val: loss 0.2994 | acc 0.8847 || lr: 1.00e-05\n",
      "\n",
      "Epoch 187/200\n"
     ]
    },
    {
     "name": "stderr",
     "output_type": "stream",
     "text": [
      "                                                                               \r"
     ]
    },
    {
     "name": "stdout",
     "output_type": "stream",
     "text": [
      "train: loss 0.2762 | acc 0.9024 || val: loss 0.2997 | acc 0.8843 || lr: 1.00e-05\n",
      "\n",
      "Epoch 188/200\n"
     ]
    },
    {
     "name": "stderr",
     "output_type": "stream",
     "text": [
      "                                                                               \r"
     ]
    },
    {
     "name": "stdout",
     "output_type": "stream",
     "text": [
      "train: loss 0.2761 | acc 0.9023 || val: loss 0.2993 | acc 0.8843 || lr: 1.00e-05\n",
      "\n",
      "Epoch 189/200\n"
     ]
    },
    {
     "name": "stderr",
     "output_type": "stream",
     "text": [
      "                                                                               \r"
     ]
    },
    {
     "name": "stdout",
     "output_type": "stream",
     "text": [
      "train: loss 0.2758 | acc 0.9024 || val: loss 0.2994 | acc 0.8843 || lr: 1.00e-05\n",
      "\n",
      "Epoch 190/200\n"
     ]
    },
    {
     "name": "stderr",
     "output_type": "stream",
     "text": [
      "                                                                               \r"
     ]
    },
    {
     "name": "stdout",
     "output_type": "stream",
     "text": [
      "train: loss 0.2757 | acc 0.9021 || val: loss 0.3002 | acc 0.8836 || lr: 1.00e-05\n",
      "\n",
      "Epoch 191/200\n"
     ]
    },
    {
     "name": "stderr",
     "output_type": "stream",
     "text": [
      "                                                                               \r"
     ]
    },
    {
     "name": "stdout",
     "output_type": "stream",
     "text": [
      "train: loss 0.2760 | acc 0.9023 || val: loss 0.2995 | acc 0.8845 || lr: 1.00e-05\n",
      "\n",
      "Epoch 192/200\n"
     ]
    },
    {
     "name": "stderr",
     "output_type": "stream",
     "text": [
      "                                                                               \r"
     ]
    },
    {
     "name": "stdout",
     "output_type": "stream",
     "text": [
      "train: loss 0.2759 | acc 0.9022 || val: loss 0.2995 | acc 0.8840 || lr: 1.00e-05\n",
      "\n",
      "Epoch 193/200\n"
     ]
    },
    {
     "name": "stderr",
     "output_type": "stream",
     "text": [
      "                                                                               \r"
     ]
    },
    {
     "name": "stdout",
     "output_type": "stream",
     "text": [
      "train: loss 0.2761 | acc 0.9022 || val: loss 0.2998 | acc 0.8843 || lr: 1.00e-05\n",
      "\n",
      "Epoch 194/200\n"
     ]
    },
    {
     "name": "stderr",
     "output_type": "stream",
     "text": [
      "                                                                               \r"
     ]
    },
    {
     "name": "stdout",
     "output_type": "stream",
     "text": [
      "train: loss 0.2761 | acc 0.9025 || val: loss 0.2991 | acc 0.8848 || lr: 1.00e-05\n",
      "\n",
      "Epoch 195/200\n"
     ]
    },
    {
     "name": "stderr",
     "output_type": "stream",
     "text": [
      "                                                                               \r"
     ]
    },
    {
     "name": "stdout",
     "output_type": "stream",
     "text": [
      "train: loss 0.2758 | acc 0.9022 || val: loss 0.2996 | acc 0.8840 || lr: 1.00e-05\n",
      "\n",
      "Epoch 196/200\n"
     ]
    },
    {
     "name": "stderr",
     "output_type": "stream",
     "text": [
      "                                                                               \r"
     ]
    },
    {
     "name": "stdout",
     "output_type": "stream",
     "text": [
      "train: loss 0.2758 | acc 0.9025 || val: loss 0.2990 | acc 0.8848 || lr: 1.00e-05\n",
      "\n",
      "Epoch 197/200\n"
     ]
    },
    {
     "name": "stderr",
     "output_type": "stream",
     "text": [
      "                                                                               \r"
     ]
    },
    {
     "name": "stdout",
     "output_type": "stream",
     "text": [
      "train: loss 0.2762 | acc 0.9024 || val: loss 0.2994 | acc 0.8848 || lr: 1.00e-05\n",
      "\n",
      "Epoch 198/200\n"
     ]
    },
    {
     "name": "stderr",
     "output_type": "stream",
     "text": [
      "                                                                               \r"
     ]
    },
    {
     "name": "stdout",
     "output_type": "stream",
     "text": [
      "train: loss 0.2759 | acc 0.9023 || val: loss 0.2995 | acc 0.8839 || lr: 1.00e-05\n",
      "\n",
      "Epoch 199/200\n"
     ]
    },
    {
     "name": "stderr",
     "output_type": "stream",
     "text": [
      "                                                                               \r"
     ]
    },
    {
     "name": "stdout",
     "output_type": "stream",
     "text": [
      "train: loss 0.2759 | acc 0.9022 || val: loss 0.2997 | acc 0.8843 || lr: 1.00e-05\n",
      "\n",
      "Epoch 200/200\n"
     ]
    },
    {
     "name": "stderr",
     "output_type": "stream",
     "text": [
      "                                                                               \r"
     ]
    },
    {
     "name": "stdout",
     "output_type": "stream",
     "text": [
      "train: loss 0.2760 | acc 0.9024 || val: loss 0.2994 | acc 0.8843 || lr: 1.00e-05\n",
      "\n",
      "Training complete.\n"
     ]
    }
   ],
   "source": [
    "import math\n",
    "from dataclasses import dataclass\n",
    "from pathlib import Path\n",
    "from typing import Tuple, Dict\n",
    "\n",
    "import torch\n",
    "import torch.nn as nn\n",
    "import torch.optim as optim\n",
    "from torch.utils.data import DataLoader\n",
    "from tqdm import tqdm\n",
    "from torch.utils.tensorboard import SummaryWriter\n",
    "\n",
    "from gan_synthesis.datasets.dataset import Dataset\n",
    "from gan_synthesis.u_net_models.unet import UNet\n",
    "\n",
    "\n",
    "@dataclass\n",
    "class TrainConfig:\n",
    "    seed: int = 42\n",
    "    epochs: int = 200\n",
    "    batch_size: int = 16\n",
    "    lr: float = 5e-3\n",
    "    weight_decay: float = 1e-4\n",
    "    num_workers: int = 4\n",
    "    pin_memory: bool = True\n",
    "    amp: bool = True if torch.cuda.get_device_name(0) != 'NVIDIA GeForce GTX 1660 SUPER' else False # Training on local GPU, 16 series GPUs don't play well with amp\n",
    "    ckpt_dir: str = \"checkpoints\"\n",
    "    val_split: float = 0.05\n",
    "    anchor: int = 32\n",
    "    lr_patience: int = 10  # ReduceLROnPlateau patience\n",
    "    lr_factor: float = 0.5\n",
    "    min_lr: float = 1e-5\n",
    "\n",
    "\n",
    "def set_seed(seed: int):\n",
    "    torch.manual_seed(seed)\n",
    "    torch.cuda.manual_seed_all(seed)\n",
    "    torch.backends.cudnn.benchmark = True\n",
    "\n",
    "\n",
    "def accuracy_from_logits(logits: torch.Tensor, targets: torch.Tensor) -> float:\n",
    "    \"\"\"Pixel accuracy for segmentation.\"\"\"\n",
    "    pred = logits.argmax(dim=1)\n",
    "    correct = (pred == targets).sum().item()\n",
    "    total = targets.numel()\n",
    "    return correct / total\n",
    "\n",
    "\n",
    "def build(cfg: TrainConfig):\n",
    "    \"\"\"Constructing everything needed for training/eval\"\"\"\n",
    "    device = torch.device(\"cuda\" if torch.cuda.is_available() else \"cpu\")\n",
    "\n",
    "    # --- Data ---\n",
    "    dataset = Dataset()\n",
    "    train_set, val_set = dataset.split(1 - cfg.val_split)\n",
    "\n",
    "    common_loader_kwargs = dict(\n",
    "        batch_size=cfg.batch_size,\n",
    "        num_workers=cfg.num_workers,\n",
    "        pin_memory=cfg.pin_memory,\n",
    "        persistent_workers=cfg.num_workers > 0,\n",
    "    )\n",
    "    train_loader = DataLoader(train_set, shuffle=True,  **common_loader_kwargs)\n",
    "    val_loader   = DataLoader(val_set,   shuffle=False, **common_loader_kwargs)\n",
    "\n",
    "    # Model + Loss + Optimizer + Scheduler +  Scaler\n",
    "    model = UNet(anchor=cfg.anchor).to(device) \n",
    "\n",
    "    class_weights = getattr(dataset, \"weights\", None)\n",
    "    if class_weights is not None:\n",
    "        class_weights = class_weights.to(device=device, dtype=torch.float32)\n",
    "    criterion = nn.CrossEntropyLoss(weight=class_weights)\n",
    "\n",
    "    optimizer = optim.Adam(model.parameters(), lr=cfg.lr, weight_decay=cfg.weight_decay)\n",
    "    scheduler = torch.optim.lr_scheduler.ReduceLROnPlateau(\n",
    "        optimizer,\n",
    "        mode=\"min\",\n",
    "        factor=cfg.lr_factor,\n",
    "        patience=cfg.lr_patience,\n",
    "        min_lr=cfg.min_lr,\n",
    "    )\n",
    "    scaler = torch.amp.GradScaler(\"cuda\") if (cfg.amp and device.type == \"cuda\") else None\n",
    "\n",
    "    return {\n",
    "        \"device\":       device,\n",
    "        \"model\":        model,\n",
    "        \"criterion\":    criterion,\n",
    "        \"optimizer\":    optimizer,\n",
    "        \"scheduler\":    scheduler,\n",
    "        \"scaler\":       scaler,\n",
    "        \"train_set\":    train_set,\n",
    "        \"val_set\":      val_set,\n",
    "        \"train_loader\": train_loader,\n",
    "        \"val_loader\":   val_loader,\n",
    "    }\n",
    "\n",
    "\n",
    "def train_one_epoch(\n",
    "    model: nn.Module,\n",
    "    loader: DataLoader,\n",
    "    criterion: nn.Module,\n",
    "    optimizer: optim.Optimizer,\n",
    "    scaler: torch.amp.GradScaler | None,\n",
    "    device: torch.device,\n",
    ") -> Dict[str, float]:\n",
    "    model.train()\n",
    "    running_loss = 0.0\n",
    "    running_acc = 0.0\n",
    "\n",
    "    pbar = tqdm(loader, desc=\"Train\", leave=False)\n",
    "    for images, seg in pbar:\n",
    "        images = images.to(device=device, dtype=torch.float32, non_blocking=True)\n",
    "        targets = seg.squeeze(1).long().to(device, non_blocking=True)\n",
    "\n",
    "        optimizer.zero_grad(set_to_none=True)\n",
    "\n",
    "        if scaler is not None:\n",
    "            with torch.amp.autocast(device_type=device.type, enabled=(scaler is not None)):\n",
    "                logits = model(images)\n",
    "                loss = criterion(logits, targets)\n",
    "            scaler.scale(loss).backward()\n",
    "            scaler.step(optimizer)\n",
    "            scaler.update()\n",
    "        else:\n",
    "            logits = model(images)\n",
    "            loss = criterion(logits, targets)\n",
    "            loss.backward()\n",
    "            optimizer.step()\n",
    "\n",
    "        acc = accuracy_from_logits(logits.detach(), targets)\n",
    "        running_loss += loss.item()\n",
    "        running_acc += acc\n",
    "        pbar.set_postfix({\"loss\": f\"{loss.item():.4f}\", \"acc\": f\"{acc:.4f}\"})\n",
    "\n",
    "    n = len(loader)\n",
    "    return {\"loss\": running_loss / n, \"acc\": running_acc / n}\n",
    "\n",
    "\n",
    "@torch.no_grad()\n",
    "def evaluate(\n",
    "    model: nn.Module,\n",
    "    loader: DataLoader,\n",
    "    criterion: nn.Module,\n",
    "    device: torch.device,\n",
    ") -> Dict[str, float]:\n",
    "    model.eval()\n",
    "    running_loss = 0.0\n",
    "    running_acc = 0.0\n",
    "\n",
    "    with torch.inference_mode():\n",
    "        pbar = tqdm(loader, desc=\"Val\", leave=False)\n",
    "        for images, seg in pbar:\n",
    "            images = images.to(device=device, dtype=torch.float32, non_blocking=True)\n",
    "            targets = seg.squeeze(1).long().to(device, non_blocking=True)\n",
    "            logits = model(images)\n",
    "            loss = criterion(logits, targets)\n",
    "            acc = accuracy_from_logits(logits, targets)\n",
    "\n",
    "            running_loss += loss.item()\n",
    "            running_acc += acc\n",
    "            pbar.set_postfix({\"loss\": f\"{loss.item():.4f}\", \"acc\": f\"{acc:.4f}\"})\n",
    "\n",
    "    n = len(loader)\n",
    "    return {\"loss\": running_loss / n, \"acc\": running_acc / n}\n",
    "\n",
    "\n",
    "def main(cfg: TrainConfig) -> Tuple[nn.Module, Dict]:\n",
    "    set_seed(cfg.seed)\n",
    "    parts = build(cfg)\n",
    "\n",
    "    device       = parts[\"device\"]\n",
    "    model        = parts[\"model\"]\n",
    "    criterion    = parts[\"criterion\"]\n",
    "    optimizer    = parts[\"optimizer\"]\n",
    "    scheduler    = parts[\"scheduler\"]\n",
    "    scaler       = parts[\"scaler\"]\n",
    "    train_loader = parts[\"train_loader\"]\n",
    "    val_loader   = parts[\"val_loader\"]\n",
    "\n",
    "    # --- Bookkeeping ---\n",
    "    Path(cfg.ckpt_dir).mkdir(parents=True, exist_ok=True)\n",
    "    best_val = math.inf\n",
    "    history = {\"train_loss\": [], \"train_acc\": [], \"val_loss\": [], \"val_acc\": []}\n",
    "\n",
    "    writer = SummaryWriter(log_dir=str(Path(\"runs\") / \"exp1\"))  # <<< add\n",
    "\n",
    "    for epoch in range(cfg.epochs):\n",
    "        print(f\"\\nEpoch {epoch+1}/{cfg.epochs}\")\n",
    "\n",
    "        train_metrics = train_one_epoch(model, train_loader, criterion, optimizer, scaler, device)\n",
    "        val_metrics   = evaluate(model, val_loader, criterion, device)\n",
    "\n",
    "        scheduler.step(val_metrics[\"loss\"])\n",
    "\n",
    "        history[\"train_loss\"].append(train_metrics[\"loss\"])\n",
    "        history[\"train_acc\"].append(train_metrics[\"acc\"])\n",
    "        history[\"val_loss\"].append(val_metrics[\"loss\"])\n",
    "        history[\"val_acc\"].append(val_metrics[\"acc\"])\n",
    "\n",
    "        # TensorBoard scalars\n",
    "        writer.add_scalars(\"Loss\", {\"train\": train_metrics[\"loss\"],\n",
    "                                    \"val\":   val_metrics[\"loss\"]}, epoch)\n",
    "\n",
    "        writer.add_scalars(\"Accuracy\", {\"train\": train_metrics[\"acc\"],\n",
    "                                        \"val\":   val_metrics[\"acc\"]}, epoch)\n",
    "        writer.flush()\n",
    "\n",
    "        print(\n",
    "            f\"train: loss {train_metrics['loss']:.4f} | acc {train_metrics['acc']:.4f} \"\n",
    "            f\"|| val: loss {val_metrics['loss']:.4f} | acc {val_metrics['acc']:.4f} \"\n",
    "            f\"|| lr: {optimizer.param_groups[0]['lr']:.2e}\"\n",
    "        )\n",
    "\n",
    "        # Save latest\n",
    "        torch.save(\n",
    "            {\n",
    "                \"epoch\": epoch + 1,\n",
    "                \"model_state\": model.state_dict(),\n",
    "                \"optimizer_state\": optimizer.state_dict(),\n",
    "                \"scaler_state\": scaler.state_dict() if scaler is not None else None,\n",
    "                \"cfg\": cfg.__dict__,\n",
    "                \"history\": history,\n",
    "            },\n",
    "            Path(cfg.ckpt_dir) / \"latest.pt\",\n",
    "        )\n",
    "\n",
    "        # Save best on val loss\n",
    "        if val_metrics[\"loss\"] < best_val:\n",
    "            best_val = val_metrics[\"loss\"]\n",
    "            torch.save(model.state_dict(), Path(cfg.ckpt_dir) / \"best_model.pt\")\n",
    "\n",
    "    print(\"\\nTraining complete.\")\n",
    "    writer.close()\n",
    "    return model, history \n",
    "\n",
    "   \n",
    "\n",
    "if __name__ == \"__main__\":\n",
    "    cfg = TrainConfig()\n",
    "    model, history = main(cfg)\n",
    "\n"
   ]
  }
 ],
 "metadata": {
  "kernelspec": {
   "display_name": "Python 3",
   "language": "python",
   "name": "python3"
  },
  "language_info": {
   "codemirror_mode": {
    "name": "ipython",
    "version": 3
   },
   "file_extension": ".py",
   "mimetype": "text/x-python",
   "name": "python",
   "nbconvert_exporter": "python",
   "pygments_lexer": "ipython3",
   "version": "3.12.11"
  }
 },
 "nbformat": 4,
 "nbformat_minor": 5
}
