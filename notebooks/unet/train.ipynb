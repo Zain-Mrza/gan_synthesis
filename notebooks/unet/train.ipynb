{
 "cells": [
  {
   "cell_type": "code",
   "execution_count": 2,
   "id": "1551ab35",
   "metadata": {},
   "outputs": [
    {
     "data": {
      "text/plain": [
       "'NVIDIA GeForce GTX 1660 SUPER'"
      ]
     },
     "execution_count": 2,
     "metadata": {},
     "output_type": "execute_result"
    }
   ],
   "source": [
    "import torch\n",
    "torch.cuda.get_device_name(0)"
   ]
  },
  {
   "cell_type": "code",
   "execution_count": null,
   "id": "d956b1bc",
   "metadata": {},
   "outputs": [
    {
     "name": "stdout",
     "output_type": "stream",
     "text": [
      "\n",
      "Epoch 1/200\n"
     ]
    },
    {
     "name": "stderr",
     "output_type": "stream",
     "text": [
      "                                                                               \r"
     ]
    },
    {
     "name": "stdout",
     "output_type": "stream",
     "text": [
      "train: loss 0.9588 | acc 0.7130 || val: loss 0.7913 | acc 0.7123 || lr: 5.00e-03\n",
      "\n",
      "Epoch 2/200\n"
     ]
    },
    {
     "name": "stderr",
     "output_type": "stream",
     "text": [
      "                                                                               \r"
     ]
    },
    {
     "name": "stdout",
     "output_type": "stream",
     "text": [
      "train: loss 0.6899 | acc 0.7667 || val: loss 0.6590 | acc 0.7774 || lr: 5.00e-03\n",
      "\n",
      "Epoch 3/200\n"
     ]
    },
    {
     "name": "stderr",
     "output_type": "stream",
     "text": [
      "                                                                               \r"
     ]
    },
    {
     "name": "stdout",
     "output_type": "stream",
     "text": [
      "train: loss 0.5901 | acc 0.7965 || val: loss 0.5626 | acc 0.8083 || lr: 5.00e-03\n",
      "\n",
      "Epoch 4/200\n"
     ]
    },
    {
     "name": "stderr",
     "output_type": "stream",
     "text": [
      "                                                                               \r"
     ]
    },
    {
     "name": "stdout",
     "output_type": "stream",
     "text": [
      "train: loss 0.5608 | acc 0.8051 || val: loss 0.5415 | acc 0.8092 || lr: 5.00e-03\n",
      "\n",
      "Epoch 5/200\n"
     ]
    },
    {
     "name": "stderr",
     "output_type": "stream",
     "text": [
      "                                                                               \r"
     ]
    },
    {
     "name": "stdout",
     "output_type": "stream",
     "text": [
      "train: loss 0.5426 | acc 0.8114 || val: loss 0.5138 | acc 0.8143 || lr: 5.00e-03\n",
      "\n",
      "Epoch 6/200\n"
     ]
    },
    {
     "name": "stderr",
     "output_type": "stream",
     "text": [
      "                                                                               \r"
     ]
    },
    {
     "name": "stdout",
     "output_type": "stream",
     "text": [
      "train: loss 0.5260 | acc 0.8135 || val: loss 0.4464 | acc 0.8390 || lr: 5.00e-03\n",
      "\n",
      "Epoch 7/200\n"
     ]
    },
    {
     "name": "stderr",
     "output_type": "stream",
     "text": [
      "                                                                               \r"
     ]
    },
    {
     "name": "stdout",
     "output_type": "stream",
     "text": [
      "train: loss 0.5187 | acc 0.8174 || val: loss 0.4994 | acc 0.8118 || lr: 5.00e-03\n",
      "\n",
      "Epoch 8/200\n"
     ]
    },
    {
     "name": "stderr",
     "output_type": "stream",
     "text": [
      "                                                                               \r"
     ]
    },
    {
     "name": "stdout",
     "output_type": "stream",
     "text": [
      "train: loss 0.5075 | acc 0.8237 || val: loss 0.4424 | acc 0.8368 || lr: 5.00e-03\n",
      "\n",
      "Epoch 9/200\n"
     ]
    },
    {
     "name": "stderr",
     "output_type": "stream",
     "text": [
      "                                                                               \r"
     ]
    },
    {
     "name": "stdout",
     "output_type": "stream",
     "text": [
      "train: loss 0.5042 | acc 0.8201 || val: loss 0.4458 | acc 0.8477 || lr: 5.00e-03\n",
      "\n",
      "Epoch 10/200\n"
     ]
    },
    {
     "name": "stderr",
     "output_type": "stream",
     "text": [
      "                                                                               \r"
     ]
    },
    {
     "name": "stdout",
     "output_type": "stream",
     "text": [
      "train: loss 0.4783 | acc 0.8317 || val: loss 0.4594 | acc 0.8194 || lr: 5.00e-03\n",
      "\n",
      "Epoch 11/200\n"
     ]
    },
    {
     "name": "stderr",
     "output_type": "stream",
     "text": [
      "                                                                               \r"
     ]
    },
    {
     "name": "stdout",
     "output_type": "stream",
     "text": [
      "train: loss 0.4637 | acc 0.8358 || val: loss 0.4111 | acc 0.8519 || lr: 5.00e-03\n",
      "\n",
      "Epoch 12/200\n"
     ]
    },
    {
     "name": "stderr",
     "output_type": "stream",
     "text": [
      "                                                                               \r"
     ]
    },
    {
     "name": "stdout",
     "output_type": "stream",
     "text": [
      "train: loss 0.4525 | acc 0.8411 || val: loss 0.4511 | acc 0.8276 || lr: 5.00e-03\n",
      "\n",
      "Epoch 13/200\n"
     ]
    },
    {
     "name": "stderr",
     "output_type": "stream",
     "text": [
      "                                                                               \r"
     ]
    },
    {
     "name": "stdout",
     "output_type": "stream",
     "text": [
      "train: loss 0.4580 | acc 0.8365 || val: loss 0.4023 | acc 0.8625 || lr: 5.00e-03\n",
      "\n",
      "Epoch 14/200\n"
     ]
    },
    {
     "name": "stderr",
     "output_type": "stream",
     "text": [
      "                                                                               \r"
     ]
    },
    {
     "name": "stdout",
     "output_type": "stream",
     "text": [
      "train: loss 0.4619 | acc 0.8355 || val: loss 0.4084 | acc 0.8453 || lr: 5.00e-03\n",
      "\n",
      "Epoch 15/200\n"
     ]
    },
    {
     "name": "stderr",
     "output_type": "stream",
     "text": [
      "                                                                               \r"
     ]
    },
    {
     "name": "stdout",
     "output_type": "stream",
     "text": [
      "train: loss 0.4513 | acc 0.8401 || val: loss 0.4109 | acc 0.8330 || lr: 5.00e-03\n",
      "\n",
      "Epoch 16/200\n"
     ]
    },
    {
     "name": "stderr",
     "output_type": "stream",
     "text": [
      "                                                                               \r"
     ]
    },
    {
     "name": "stdout",
     "output_type": "stream",
     "text": [
      "train: loss 0.4621 | acc 0.8376 || val: loss 0.4036 | acc 0.8466 || lr: 5.00e-03\n",
      "\n",
      "Epoch 17/200\n"
     ]
    },
    {
     "name": "stderr",
     "output_type": "stream",
     "text": [
      "                                                                               \r"
     ]
    },
    {
     "name": "stdout",
     "output_type": "stream",
     "text": [
      "train: loss 0.4398 | acc 0.8442 || val: loss 0.3972 | acc 0.8553 || lr: 5.00e-03\n",
      "\n",
      "Epoch 18/200\n"
     ]
    },
    {
     "name": "stderr",
     "output_type": "stream",
     "text": [
      "                                                                               \r"
     ]
    },
    {
     "name": "stdout",
     "output_type": "stream",
     "text": [
      "train: loss 0.4304 | acc 0.8479 || val: loss 0.3657 | acc 0.8707 || lr: 5.00e-03\n",
      "\n",
      "Epoch 19/200\n"
     ]
    },
    {
     "name": "stderr",
     "output_type": "stream",
     "text": [
      "                                                                               \r"
     ]
    },
    {
     "name": "stdout",
     "output_type": "stream",
     "text": [
      "train: loss 0.4376 | acc 0.8439 || val: loss 0.3941 | acc 0.8637 || lr: 5.00e-03\n",
      "\n",
      "Epoch 20/200\n"
     ]
    },
    {
     "name": "stderr",
     "output_type": "stream",
     "text": [
      "                                                                               \r"
     ]
    },
    {
     "name": "stdout",
     "output_type": "stream",
     "text": [
      "train: loss 0.4381 | acc 0.8461 || val: loss 0.4469 | acc 0.8439 || lr: 5.00e-03\n",
      "\n",
      "Epoch 21/200\n"
     ]
    },
    {
     "name": "stderr",
     "output_type": "stream",
     "text": [
      "                                                                               \r"
     ]
    },
    {
     "name": "stdout",
     "output_type": "stream",
     "text": [
      "train: loss 0.4300 | acc 0.8474 || val: loss 0.4603 | acc 0.8206 || lr: 5.00e-03\n",
      "\n",
      "Epoch 22/200\n"
     ]
    },
    {
     "name": "stderr",
     "output_type": "stream",
     "text": [
      "                                                                               \r"
     ]
    },
    {
     "name": "stdout",
     "output_type": "stream",
     "text": [
      "train: loss 0.4226 | acc 0.8491 || val: loss 0.3818 | acc 0.8605 || lr: 5.00e-03\n",
      "\n",
      "Epoch 23/200\n"
     ]
    },
    {
     "name": "stderr",
     "output_type": "stream",
     "text": [
      "                                                                               \r"
     ]
    },
    {
     "name": "stdout",
     "output_type": "stream",
     "text": [
      "train: loss 0.4201 | acc 0.8507 || val: loss 0.3637 | acc 0.8674 || lr: 5.00e-03\n",
      "\n",
      "Epoch 24/200\n"
     ]
    },
    {
     "name": "stderr",
     "output_type": "stream",
     "text": [
      "                                                                               \r"
     ]
    },
    {
     "name": "stdout",
     "output_type": "stream",
     "text": [
      "train: loss 0.4182 | acc 0.8506 || val: loss 0.3640 | acc 0.8709 || lr: 5.00e-03\n",
      "\n",
      "Epoch 25/200\n"
     ]
    },
    {
     "name": "stderr",
     "output_type": "stream",
     "text": [
      "                                                                               \r"
     ]
    },
    {
     "name": "stdout",
     "output_type": "stream",
     "text": [
      "train: loss 0.4210 | acc 0.8502 || val: loss 0.3690 | acc 0.8714 || lr: 5.00e-03\n",
      "\n",
      "Epoch 26/200\n"
     ]
    },
    {
     "name": "stderr",
     "output_type": "stream",
     "text": [
      "                                                                               \r"
     ]
    },
    {
     "name": "stdout",
     "output_type": "stream",
     "text": [
      "train: loss 0.4329 | acc 0.8463 || val: loss 0.3882 | acc 0.8582 || lr: 5.00e-03\n",
      "\n",
      "Epoch 27/200\n"
     ]
    },
    {
     "name": "stderr",
     "output_type": "stream",
     "text": [
      "                                                                               \r"
     ]
    },
    {
     "name": "stdout",
     "output_type": "stream",
     "text": [
      "train: loss 0.4169 | acc 0.8518 || val: loss 0.3797 | acc 0.8596 || lr: 5.00e-03\n",
      "\n",
      "Epoch 28/200\n"
     ]
    },
    {
     "name": "stderr",
     "output_type": "stream",
     "text": [
      "                                                                               \r"
     ]
    },
    {
     "name": "stdout",
     "output_type": "stream",
     "text": [
      "train: loss 0.4057 | acc 0.8554 || val: loss 0.4013 | acc 0.8388 || lr: 5.00e-03\n",
      "\n",
      "Epoch 29/200\n"
     ]
    },
    {
     "name": "stderr",
     "output_type": "stream",
     "text": [
      "                                                                               \r"
     ]
    },
    {
     "name": "stdout",
     "output_type": "stream",
     "text": [
      "train: loss 0.4005 | acc 0.8569 || val: loss 0.3924 | acc 0.8513 || lr: 5.00e-03\n",
      "\n",
      "Epoch 30/200\n"
     ]
    },
    {
     "name": "stderr",
     "output_type": "stream",
     "text": [
      "                                                                               \r"
     ]
    },
    {
     "name": "stdout",
     "output_type": "stream",
     "text": [
      "train: loss 0.3948 | acc 0.8596 || val: loss 0.3854 | acc 0.8557 || lr: 5.00e-03\n",
      "\n",
      "Epoch 31/200\n"
     ]
    },
    {
     "name": "stderr",
     "output_type": "stream",
     "text": [
      "                                                                               \r"
     ]
    },
    {
     "name": "stdout",
     "output_type": "stream",
     "text": [
      "train: loss 0.3983 | acc 0.8577 || val: loss 0.3429 | acc 0.8852 || lr: 5.00e-03\n",
      "\n",
      "Epoch 32/200\n"
     ]
    },
    {
     "name": "stderr",
     "output_type": "stream",
     "text": [
      "                                                                               \r"
     ]
    },
    {
     "name": "stdout",
     "output_type": "stream",
     "text": [
      "train: loss 0.4076 | acc 0.8558 || val: loss 0.3857 | acc 0.8624 || lr: 5.00e-03\n",
      "\n",
      "Epoch 33/200\n"
     ]
    },
    {
     "name": "stderr",
     "output_type": "stream",
     "text": [
      "                                                                               \r"
     ]
    },
    {
     "name": "stdout",
     "output_type": "stream",
     "text": [
      "train: loss 0.4173 | acc 0.8494 || val: loss 0.3323 | acc 0.8846 || lr: 5.00e-03\n",
      "\n",
      "Epoch 34/200\n"
     ]
    },
    {
     "name": "stderr",
     "output_type": "stream",
     "text": [
      "                                                                               \r"
     ]
    },
    {
     "name": "stdout",
     "output_type": "stream",
     "text": [
      "train: loss 0.4090 | acc 0.8542 || val: loss 0.3577 | acc 0.8733 || lr: 5.00e-03\n",
      "\n",
      "Epoch 35/200\n"
     ]
    },
    {
     "name": "stderr",
     "output_type": "stream",
     "text": [
      "                                                                               \r"
     ]
    },
    {
     "name": "stdout",
     "output_type": "stream",
     "text": [
      "train: loss 0.4072 | acc 0.8559 || val: loss 0.3808 | acc 0.8533 || lr: 5.00e-03\n",
      "\n",
      "Epoch 36/200\n"
     ]
    },
    {
     "name": "stderr",
     "output_type": "stream",
     "text": [
      "                                                                               \r"
     ]
    },
    {
     "name": "stdout",
     "output_type": "stream",
     "text": [
      "train: loss 0.3981 | acc 0.8582 || val: loss 0.4245 | acc 0.8403 || lr: 5.00e-03\n",
      "\n",
      "Epoch 37/200\n"
     ]
    },
    {
     "name": "stderr",
     "output_type": "stream",
     "text": [
      "                                                                               \r"
     ]
    },
    {
     "name": "stdout",
     "output_type": "stream",
     "text": [
      "train: loss 0.3927 | acc 0.8604 || val: loss 0.3244 | acc 0.8871 || lr: 5.00e-03\n",
      "\n",
      "Epoch 38/200\n"
     ]
    },
    {
     "name": "stderr",
     "output_type": "stream",
     "text": [
      "                                                                               \r"
     ]
    },
    {
     "name": "stdout",
     "output_type": "stream",
     "text": [
      "train: loss 0.3951 | acc 0.8585 || val: loss 0.3492 | acc 0.8793 || lr: 5.00e-03\n",
      "\n",
      "Epoch 39/200\n"
     ]
    },
    {
     "name": "stderr",
     "output_type": "stream",
     "text": [
      "                                                                               \r"
     ]
    },
    {
     "name": "stdout",
     "output_type": "stream",
     "text": [
      "train: loss 0.3964 | acc 0.8593 || val: loss 0.3977 | acc 0.8421 || lr: 5.00e-03\n",
      "\n",
      "Epoch 40/200\n"
     ]
    },
    {
     "name": "stderr",
     "output_type": "stream",
     "text": [
      "                                                                               \r"
     ]
    },
    {
     "name": "stdout",
     "output_type": "stream",
     "text": [
      "train: loss 0.4063 | acc 0.8541 || val: loss 0.3487 | acc 0.8775 || lr: 5.00e-03\n",
      "\n",
      "Epoch 41/200\n"
     ]
    },
    {
     "name": "stderr",
     "output_type": "stream",
     "text": [
      "                                                                               \r"
     ]
    },
    {
     "name": "stdout",
     "output_type": "stream",
     "text": [
      "train: loss 0.3889 | acc 0.8607 || val: loss 0.3571 | acc 0.8710 || lr: 5.00e-03\n",
      "\n",
      "Epoch 42/200\n"
     ]
    },
    {
     "name": "stderr",
     "output_type": "stream",
     "text": [
      "                                                                               \r"
     ]
    },
    {
     "name": "stdout",
     "output_type": "stream",
     "text": [
      "train: loss 0.3858 | acc 0.8628 || val: loss 0.3557 | acc 0.8773 || lr: 5.00e-03\n",
      "\n",
      "Epoch 43/200\n"
     ]
    },
    {
     "name": "stderr",
     "output_type": "stream",
     "text": [
      "                                                                               \r"
     ]
    },
    {
     "name": "stdout",
     "output_type": "stream",
     "text": [
      "train: loss 0.4079 | acc 0.8539 || val: loss 0.3551 | acc 0.8758 || lr: 5.00e-03\n",
      "\n",
      "Epoch 44/200\n"
     ]
    },
    {
     "name": "stderr",
     "output_type": "stream",
     "text": [
      "                                                                               \r"
     ]
    },
    {
     "name": "stdout",
     "output_type": "stream",
     "text": [
      "train: loss 0.4002 | acc 0.8556 || val: loss 0.3463 | acc 0.8792 || lr: 5.00e-03\n",
      "\n",
      "Epoch 45/200\n"
     ]
    },
    {
     "name": "stderr",
     "output_type": "stream",
     "text": [
      "                                                                               \r"
     ]
    },
    {
     "name": "stdout",
     "output_type": "stream",
     "text": [
      "train: loss 0.3885 | acc 0.8615 || val: loss 0.3781 | acc 0.8642 || lr: 5.00e-03\n",
      "\n",
      "Epoch 46/200\n"
     ]
    },
    {
     "name": "stderr",
     "output_type": "stream",
     "text": [
      "                                                                               \r"
     ]
    },
    {
     "name": "stdout",
     "output_type": "stream",
     "text": [
      "train: loss 0.3778 | acc 0.8657 || val: loss 0.3483 | acc 0.8713 || lr: 5.00e-03\n",
      "\n",
      "Epoch 47/200\n"
     ]
    },
    {
     "name": "stderr",
     "output_type": "stream",
     "text": [
      "                                                                               \r"
     ]
    },
    {
     "name": "stdout",
     "output_type": "stream",
     "text": [
      "train: loss 0.3945 | acc 0.8592 || val: loss 0.3798 | acc 0.8597 || lr: 5.00e-03\n",
      "\n",
      "Epoch 48/200\n"
     ]
    },
    {
     "name": "stderr",
     "output_type": "stream",
     "text": [
      "                                                                               \r"
     ]
    },
    {
     "name": "stdout",
     "output_type": "stream",
     "text": [
      "train: loss 0.3924 | acc 0.8619 || val: loss 0.3371 | acc 0.8739 || lr: 2.50e-03\n",
      "\n",
      "Epoch 49/200\n"
     ]
    },
    {
     "name": "stderr",
     "output_type": "stream",
     "text": [
      "                                                                               \r"
     ]
    },
    {
     "name": "stdout",
     "output_type": "stream",
     "text": [
      "train: loss 0.3657 | acc 0.8702 || val: loss 0.3455 | acc 0.8679 || lr: 2.50e-03\n",
      "\n",
      "Epoch 50/200\n"
     ]
    },
    {
     "name": "stderr",
     "output_type": "stream",
     "text": [
      "                                                                               \r"
     ]
    },
    {
     "name": "stdout",
     "output_type": "stream",
     "text": [
      "train: loss 0.3677 | acc 0.8686 || val: loss 0.3476 | acc 0.8629 || lr: 2.50e-03\n",
      "\n",
      "Epoch 51/200\n"
     ]
    },
    {
     "name": "stderr",
     "output_type": "stream",
     "text": [
      "                                                                               \r"
     ]
    },
    {
     "name": "stdout",
     "output_type": "stream",
     "text": [
      "train: loss 0.3646 | acc 0.8693 || val: loss 0.3325 | acc 0.8795 || lr: 2.50e-03\n",
      "\n",
      "Epoch 52/200\n"
     ]
    },
    {
     "name": "stderr",
     "output_type": "stream",
     "text": [
      "                                                                               \r"
     ]
    },
    {
     "name": "stdout",
     "output_type": "stream",
     "text": [
      "train: loss 0.3642 | acc 0.8676 || val: loss 0.3117 | acc 0.8856 || lr: 2.50e-03\n",
      "\n",
      "Epoch 53/200\n"
     ]
    },
    {
     "name": "stderr",
     "output_type": "stream",
     "text": [
      "                                                                               \r"
     ]
    },
    {
     "name": "stdout",
     "output_type": "stream",
     "text": [
      "train: loss 0.3648 | acc 0.8700 || val: loss 0.3312 | acc 0.8841 || lr: 2.50e-03\n",
      "\n",
      "Epoch 54/200\n"
     ]
    },
    {
     "name": "stderr",
     "output_type": "stream",
     "text": [
      "                                                                               \r"
     ]
    },
    {
     "name": "stdout",
     "output_type": "stream",
     "text": [
      "train: loss 0.3556 | acc 0.8721 || val: loss 0.3174 | acc 0.8859 || lr: 2.50e-03\n",
      "\n",
      "Epoch 55/200\n"
     ]
    },
    {
     "name": "stderr",
     "output_type": "stream",
     "text": [
      "                                                                               \r"
     ]
    },
    {
     "name": "stdout",
     "output_type": "stream",
     "text": [
      "train: loss 0.3576 | acc 0.8725 || val: loss 0.3339 | acc 0.8777 || lr: 2.50e-03\n",
      "\n",
      "Epoch 56/200\n"
     ]
    },
    {
     "name": "stderr",
     "output_type": "stream",
     "text": [
      "                                                                               \r"
     ]
    },
    {
     "name": "stdout",
     "output_type": "stream",
     "text": [
      "train: loss 0.3564 | acc 0.8733 || val: loss 0.3441 | acc 0.8747 || lr: 2.50e-03\n",
      "\n",
      "Epoch 57/200\n"
     ]
    },
    {
     "name": "stderr",
     "output_type": "stream",
     "text": [
      "                                                                               \r"
     ]
    },
    {
     "name": "stdout",
     "output_type": "stream",
     "text": [
      "train: loss 0.3526 | acc 0.8741 || val: loss 0.3250 | acc 0.8840 || lr: 2.50e-03\n",
      "\n",
      "Epoch 58/200\n"
     ]
    },
    {
     "name": "stderr",
     "output_type": "stream",
     "text": [
      "                                                                               \r"
     ]
    },
    {
     "name": "stdout",
     "output_type": "stream",
     "text": [
      "train: loss 0.3493 | acc 0.8752 || val: loss 0.3458 | acc 0.8683 || lr: 2.50e-03\n",
      "\n",
      "Epoch 59/200\n"
     ]
    },
    {
     "name": "stderr",
     "output_type": "stream",
     "text": [
      "                                                                               \r"
     ]
    },
    {
     "name": "stdout",
     "output_type": "stream",
     "text": [
      "train: loss 0.3531 | acc 0.8746 || val: loss 0.3189 | acc 0.8820 || lr: 2.50e-03\n",
      "\n",
      "Epoch 60/200\n"
     ]
    },
    {
     "name": "stderr",
     "output_type": "stream",
     "text": [
      "                                                                               \r"
     ]
    },
    {
     "name": "stdout",
     "output_type": "stream",
     "text": [
      "train: loss 0.3487 | acc 0.8757 || val: loss 0.3151 | acc 0.8852 || lr: 2.50e-03\n",
      "\n",
      "Epoch 61/200\n"
     ]
    },
    {
     "name": "stderr",
     "output_type": "stream",
     "text": [
      "                                                                               \r"
     ]
    },
    {
     "name": "stdout",
     "output_type": "stream",
     "text": [
      "train: loss 0.3519 | acc 0.8751 || val: loss 0.3219 | acc 0.8728 || lr: 2.50e-03\n",
      "\n",
      "Epoch 62/200\n"
     ]
    },
    {
     "name": "stderr",
     "output_type": "stream",
     "text": [
      "                                                                               \r"
     ]
    },
    {
     "name": "stdout",
     "output_type": "stream",
     "text": [
      "train: loss 0.3574 | acc 0.8725 || val: loss 0.3426 | acc 0.8758 || lr: 2.50e-03\n",
      "\n",
      "Epoch 63/200\n"
     ]
    },
    {
     "name": "stderr",
     "output_type": "stream",
     "text": [
      "                                                                               \r"
     ]
    },
    {
     "name": "stdout",
     "output_type": "stream",
     "text": [
      "train: loss 0.3562 | acc 0.8724 || val: loss 0.3315 | acc 0.8857 || lr: 1.25e-03\n",
      "\n",
      "Epoch 64/200\n"
     ]
    },
    {
     "name": "stderr",
     "output_type": "stream",
     "text": [
      "                                                                               \r"
     ]
    },
    {
     "name": "stdout",
     "output_type": "stream",
     "text": [
      "train: loss 0.3542 | acc 0.8741 || val: loss 0.3308 | acc 0.8735 || lr: 1.25e-03\n",
      "\n",
      "Epoch 65/200\n"
     ]
    },
    {
     "name": "stderr",
     "output_type": "stream",
     "text": [
      "                                                                               \r"
     ]
    },
    {
     "name": "stdout",
     "output_type": "stream",
     "text": [
      "train: loss 0.3405 | acc 0.8765 || val: loss 0.3115 | acc 0.8828 || lr: 1.25e-03\n",
      "\n",
      "Epoch 66/200\n"
     ]
    },
    {
     "name": "stderr",
     "output_type": "stream",
     "text": [
      "                                                                               \r"
     ]
    },
    {
     "name": "stdout",
     "output_type": "stream",
     "text": [
      "train: loss 0.3362 | acc 0.8816 || val: loss 0.3118 | acc 0.8834 || lr: 1.25e-03\n",
      "\n",
      "Epoch 67/200\n"
     ]
    },
    {
     "name": "stderr",
     "output_type": "stream",
     "text": [
      "                                                                               \r"
     ]
    },
    {
     "name": "stdout",
     "output_type": "stream",
     "text": [
      "train: loss 0.3320 | acc 0.8826 || val: loss 0.3191 | acc 0.8813 || lr: 1.25e-03\n",
      "\n",
      "Epoch 68/200\n"
     ]
    },
    {
     "name": "stderr",
     "output_type": "stream",
     "text": [
      "                                                                               \r"
     ]
    },
    {
     "name": "stdout",
     "output_type": "stream",
     "text": [
      "train: loss 0.3333 | acc 0.8819 || val: loss 0.3154 | acc 0.8818 || lr: 1.25e-03\n",
      "\n",
      "Epoch 69/200\n"
     ]
    },
    {
     "name": "stderr",
     "output_type": "stream",
     "text": [
      "                                                                               \r"
     ]
    },
    {
     "name": "stdout",
     "output_type": "stream",
     "text": [
      "train: loss 0.3347 | acc 0.8803 || val: loss 0.3159 | acc 0.8808 || lr: 1.25e-03\n",
      "\n",
      "Epoch 70/200\n"
     ]
    },
    {
     "name": "stderr",
     "output_type": "stream",
     "text": [
      "                                                                               \r"
     ]
    },
    {
     "name": "stdout",
     "output_type": "stream",
     "text": [
      "train: loss 0.3347 | acc 0.8812 || val: loss 0.3248 | acc 0.8754 || lr: 1.25e-03\n",
      "\n",
      "Epoch 71/200\n"
     ]
    },
    {
     "name": "stderr",
     "output_type": "stream",
     "text": [
      "                                                                               \r"
     ]
    },
    {
     "name": "stdout",
     "output_type": "stream",
     "text": [
      "train: loss 0.3336 | acc 0.8805 || val: loss 0.3061 | acc 0.8830 || lr: 1.25e-03\n",
      "\n",
      "Epoch 72/200\n"
     ]
    },
    {
     "name": "stderr",
     "output_type": "stream",
     "text": [
      "                                                                               \r"
     ]
    },
    {
     "name": "stdout",
     "output_type": "stream",
     "text": [
      "train: loss 0.3257 | acc 0.8844 || val: loss 0.3125 | acc 0.8837 || lr: 1.25e-03\n",
      "\n",
      "Epoch 73/200\n"
     ]
    },
    {
     "name": "stderr",
     "output_type": "stream",
     "text": [
      "                                                                               \r"
     ]
    },
    {
     "name": "stdout",
     "output_type": "stream",
     "text": [
      "train: loss 0.3231 | acc 0.8859 || val: loss 0.3176 | acc 0.8758 || lr: 1.25e-03\n",
      "\n",
      "Epoch 74/200\n"
     ]
    },
    {
     "name": "stderr",
     "output_type": "stream",
     "text": [
      "                                                                               \r"
     ]
    },
    {
     "name": "stdout",
     "output_type": "stream",
     "text": [
      "train: loss 0.3255 | acc 0.8850 || val: loss 0.3018 | acc 0.8835 || lr: 1.25e-03\n",
      "\n",
      "Epoch 75/200\n"
     ]
    },
    {
     "name": "stderr",
     "output_type": "stream",
     "text": [
      "                                                                               \r"
     ]
    },
    {
     "name": "stdout",
     "output_type": "stream",
     "text": [
      "train: loss 0.3281 | acc 0.8841 || val: loss 0.3272 | acc 0.8694 || lr: 1.25e-03\n",
      "\n",
      "Epoch 76/200\n"
     ]
    },
    {
     "name": "stderr",
     "output_type": "stream",
     "text": [
      "                                                                               \r"
     ]
    },
    {
     "name": "stdout",
     "output_type": "stream",
     "text": [
      "train: loss 0.3288 | acc 0.8824 || val: loss 0.3154 | acc 0.8751 || lr: 1.25e-03\n",
      "\n",
      "Epoch 77/200\n"
     ]
    },
    {
     "name": "stderr",
     "output_type": "stream",
     "text": [
      "                                                                               \r"
     ]
    },
    {
     "name": "stdout",
     "output_type": "stream",
     "text": [
      "train: loss 0.3254 | acc 0.8839 || val: loss 0.3019 | acc 0.8888 || lr: 1.25e-03\n",
      "\n",
      "Epoch 78/200\n"
     ]
    },
    {
     "name": "stderr",
     "output_type": "stream",
     "text": [
      "                                                                               \r"
     ]
    },
    {
     "name": "stdout",
     "output_type": "stream",
     "text": [
      "train: loss 0.3236 | acc 0.8855 || val: loss 0.3196 | acc 0.8756 || lr: 1.25e-03\n",
      "\n",
      "Epoch 79/200\n"
     ]
    },
    {
     "name": "stderr",
     "output_type": "stream",
     "text": [
      "                                                                               \r"
     ]
    },
    {
     "name": "stdout",
     "output_type": "stream",
     "text": [
      "train: loss 0.3277 | acc 0.8830 || val: loss 0.3308 | acc 0.8714 || lr: 1.25e-03\n",
      "\n",
      "Epoch 80/200\n"
     ]
    },
    {
     "name": "stderr",
     "output_type": "stream",
     "text": [
      "                                                                               \r"
     ]
    },
    {
     "name": "stdout",
     "output_type": "stream",
     "text": [
      "train: loss 0.3230 | acc 0.8858 || val: loss 0.3120 | acc 0.8768 || lr: 1.25e-03\n",
      "\n",
      "Epoch 81/200\n"
     ]
    },
    {
     "name": "stderr",
     "output_type": "stream",
     "text": [
      "                                                                               \r"
     ]
    },
    {
     "name": "stdout",
     "output_type": "stream",
     "text": [
      "train: loss 0.3197 | acc 0.8870 || val: loss 0.3093 | acc 0.8847 || lr: 1.25e-03\n",
      "\n",
      "Epoch 82/200\n"
     ]
    },
    {
     "name": "stderr",
     "output_type": "stream",
     "text": [
      "                                                                               \r"
     ]
    },
    {
     "name": "stdout",
     "output_type": "stream",
     "text": [
      "train: loss 0.3188 | acc 0.8870 || val: loss 0.3149 | acc 0.8749 || lr: 1.25e-03\n",
      "\n",
      "Epoch 83/200\n"
     ]
    },
    {
     "name": "stderr",
     "output_type": "stream",
     "text": [
      "                                                                               \r"
     ]
    },
    {
     "name": "stdout",
     "output_type": "stream",
     "text": [
      "train: loss 0.3166 | acc 0.8877 || val: loss 0.3147 | acc 0.8790 || lr: 1.25e-03\n",
      "\n",
      "Epoch 84/200\n"
     ]
    },
    {
     "name": "stderr",
     "output_type": "stream",
     "text": [
      "                                                                               \r"
     ]
    },
    {
     "name": "stdout",
     "output_type": "stream",
     "text": [
      "train: loss 0.3182 | acc 0.8868 || val: loss 0.3045 | acc 0.8798 || lr: 1.25e-03\n",
      "\n",
      "Epoch 85/200\n"
     ]
    },
    {
     "name": "stderr",
     "output_type": "stream",
     "text": [
      "                                                                               \r"
     ]
    },
    {
     "name": "stdout",
     "output_type": "stream",
     "text": [
      "train: loss 0.3176 | acc 0.8881 || val: loss 0.3007 | acc 0.8811 || lr: 1.25e-03\n",
      "\n",
      "Epoch 86/200\n"
     ]
    },
    {
     "name": "stderr",
     "output_type": "stream",
     "text": [
      "                                                                               \r"
     ]
    },
    {
     "name": "stdout",
     "output_type": "stream",
     "text": [
      "train: loss 0.3190 | acc 0.8866 || val: loss 0.3035 | acc 0.8857 || lr: 1.25e-03\n",
      "\n",
      "Epoch 87/200\n"
     ]
    },
    {
     "name": "stderr",
     "output_type": "stream",
     "text": [
      "                                                                               \r"
     ]
    },
    {
     "name": "stdout",
     "output_type": "stream",
     "text": [
      "train: loss 0.3159 | acc 0.8874 || val: loss 0.3230 | acc 0.8827 || lr: 1.25e-03\n",
      "\n",
      "Epoch 88/200\n"
     ]
    },
    {
     "name": "stderr",
     "output_type": "stream",
     "text": [
      "                                                                               \r"
     ]
    },
    {
     "name": "stdout",
     "output_type": "stream",
     "text": [
      "train: loss 0.3116 | acc 0.8907 || val: loss 0.3029 | acc 0.8838 || lr: 1.25e-03\n",
      "\n",
      "Epoch 89/200\n"
     ]
    },
    {
     "name": "stderr",
     "output_type": "stream",
     "text": [
      "                                                                               \r"
     ]
    },
    {
     "name": "stdout",
     "output_type": "stream",
     "text": [
      "train: loss 0.3160 | acc 0.8860 || val: loss 0.3108 | acc 0.8865 || lr: 1.25e-03\n",
      "\n",
      "Epoch 90/200\n"
     ]
    },
    {
     "name": "stderr",
     "output_type": "stream",
     "text": [
      "                                                                               \r"
     ]
    },
    {
     "name": "stdout",
     "output_type": "stream",
     "text": [
      "train: loss 0.3159 | acc 0.8880 || val: loss 0.3259 | acc 0.8697 || lr: 1.25e-03\n",
      "\n",
      "Epoch 91/200\n"
     ]
    },
    {
     "name": "stderr",
     "output_type": "stream",
     "text": [
      "                                                                               \r"
     ]
    },
    {
     "name": "stdout",
     "output_type": "stream",
     "text": [
      "train: loss 0.3209 | acc 0.8858 || val: loss 0.3199 | acc 0.8757 || lr: 1.25e-03\n",
      "\n",
      "Epoch 92/200\n"
     ]
    },
    {
     "name": "stderr",
     "output_type": "stream",
     "text": [
      "                                                                               \r"
     ]
    },
    {
     "name": "stdout",
     "output_type": "stream",
     "text": [
      "train: loss 0.3160 | acc 0.8883 || val: loss 0.3076 | acc 0.8811 || lr: 1.25e-03\n",
      "\n",
      "Epoch 93/200\n"
     ]
    },
    {
     "name": "stderr",
     "output_type": "stream",
     "text": [
      "                                                                               \r"
     ]
    },
    {
     "name": "stdout",
     "output_type": "stream",
     "text": [
      "train: loss 0.3090 | acc 0.8911 || val: loss 0.3147 | acc 0.8848 || lr: 1.25e-03\n",
      "\n",
      "Epoch 94/200\n"
     ]
    },
    {
     "name": "stderr",
     "output_type": "stream",
     "text": [
      "                                                                               \r"
     ]
    },
    {
     "name": "stdout",
     "output_type": "stream",
     "text": [
      "train: loss 0.3105 | acc 0.8901 || val: loss 0.3086 | acc 0.8771 || lr: 1.25e-03\n",
      "\n",
      "Epoch 95/200\n"
     ]
    },
    {
     "name": "stderr",
     "output_type": "stream",
     "text": [
      "                                                                               \r"
     ]
    },
    {
     "name": "stdout",
     "output_type": "stream",
     "text": [
      "train: loss 0.3074 | acc 0.8908 || val: loss 0.3064 | acc 0.8845 || lr: 1.25e-03\n",
      "\n",
      "Epoch 96/200\n"
     ]
    },
    {
     "name": "stderr",
     "output_type": "stream",
     "text": [
      "                                                                               \r"
     ]
    },
    {
     "name": "stdout",
     "output_type": "stream",
     "text": [
      "train: loss 0.3110 | acc 0.8895 || val: loss 0.3224 | acc 0.8749 || lr: 6.25e-04\n",
      "\n",
      "Epoch 97/200\n"
     ]
    },
    {
     "name": "stderr",
     "output_type": "stream",
     "text": [
      "                                                                               \r"
     ]
    },
    {
     "name": "stdout",
     "output_type": "stream",
     "text": [
      "train: loss 0.3087 | acc 0.8896 || val: loss 0.3202 | acc 0.8711 || lr: 6.25e-04\n",
      "\n",
      "Epoch 98/200\n"
     ]
    },
    {
     "name": "stderr",
     "output_type": "stream",
     "text": [
      "                                                                               \r"
     ]
    },
    {
     "name": "stdout",
     "output_type": "stream",
     "text": [
      "train: loss 0.3003 | acc 0.8935 || val: loss 0.3022 | acc 0.8873 || lr: 6.25e-04\n",
      "\n",
      "Epoch 99/200\n"
     ]
    },
    {
     "name": "stderr",
     "output_type": "stream",
     "text": [
      "                                                                               \r"
     ]
    },
    {
     "name": "stdout",
     "output_type": "stream",
     "text": [
      "train: loss 0.3002 | acc 0.8926 || val: loss 0.3079 | acc 0.8805 || lr: 6.25e-04\n",
      "\n",
      "Epoch 100/200\n"
     ]
    },
    {
     "name": "stderr",
     "output_type": "stream",
     "text": [
      "                                                                               \r"
     ]
    },
    {
     "name": "stdout",
     "output_type": "stream",
     "text": [
      "train: loss 0.2971 | acc 0.8956 || val: loss 0.3167 | acc 0.8724 || lr: 6.25e-04\n",
      "\n",
      "Epoch 101/200\n"
     ]
    },
    {
     "name": "stderr",
     "output_type": "stream",
     "text": [
      "                                                                               \r"
     ]
    },
    {
     "name": "stdout",
     "output_type": "stream",
     "text": [
      "train: loss 0.2935 | acc 0.8957 || val: loss 0.3027 | acc 0.8789 || lr: 6.25e-04\n",
      "\n",
      "Epoch 102/200\n"
     ]
    },
    {
     "name": "stderr",
     "output_type": "stream",
     "text": [
      "                                                                               \r"
     ]
    },
    {
     "name": "stdout",
     "output_type": "stream",
     "text": [
      "train: loss 0.2950 | acc 0.8960 || val: loss 0.3026 | acc 0.8829 || lr: 6.25e-04\n",
      "\n",
      "Epoch 103/200\n"
     ]
    },
    {
     "name": "stderr",
     "output_type": "stream",
     "text": [
      "                                                                               \r"
     ]
    },
    {
     "name": "stdout",
     "output_type": "stream",
     "text": [
      "train: loss 0.2944 | acc 0.8954 || val: loss 0.3011 | acc 0.8806 || lr: 6.25e-04\n",
      "\n",
      "Epoch 104/200\n"
     ]
    },
    {
     "name": "stderr",
     "output_type": "stream",
     "text": [
      "                                                                               \r"
     ]
    },
    {
     "name": "stdout",
     "output_type": "stream",
     "text": [
      "train: loss 0.2926 | acc 0.8967 || val: loss 0.3065 | acc 0.8783 || lr: 6.25e-04\n",
      "\n",
      "Epoch 105/200\n"
     ]
    },
    {
     "name": "stderr",
     "output_type": "stream",
     "text": [
      "                                                                               \r"
     ]
    },
    {
     "name": "stdout",
     "output_type": "stream",
     "text": [
      "train: loss 0.2907 | acc 0.8975 || val: loss 0.3014 | acc 0.8815 || lr: 6.25e-04\n",
      "\n",
      "Epoch 106/200\n"
     ]
    },
    {
     "name": "stderr",
     "output_type": "stream",
     "text": [
      "                                                                               \r"
     ]
    },
    {
     "name": "stdout",
     "output_type": "stream",
     "text": [
      "train: loss 0.2901 | acc 0.8981 || val: loss 0.3104 | acc 0.8747 || lr: 6.25e-04\n",
      "\n",
      "Epoch 107/200\n"
     ]
    },
    {
     "name": "stderr",
     "output_type": "stream",
     "text": [
      "                                                                               \r"
     ]
    },
    {
     "name": "stdout",
     "output_type": "stream",
     "text": [
      "train: loss 0.2925 | acc 0.8961 || val: loss 0.2951 | acc 0.8850 || lr: 6.25e-04\n",
      "\n",
      "Epoch 108/200\n"
     ]
    },
    {
     "name": "stderr",
     "output_type": "stream",
     "text": [
      "                                                                               \r"
     ]
    },
    {
     "name": "stdout",
     "output_type": "stream",
     "text": [
      "train: loss 0.3002 | acc 0.8935 || val: loss 0.3152 | acc 0.8772 || lr: 6.25e-04\n",
      "\n",
      "Epoch 109/200\n"
     ]
    },
    {
     "name": "stderr",
     "output_type": "stream",
     "text": [
      "                                                                               \r"
     ]
    },
    {
     "name": "stdout",
     "output_type": "stream",
     "text": [
      "train: loss 0.2926 | acc 0.8963 || val: loss 0.2973 | acc 0.8824 || lr: 6.25e-04\n",
      "\n",
      "Epoch 110/200\n"
     ]
    },
    {
     "name": "stderr",
     "output_type": "stream",
     "text": [
      "                                                                               \r"
     ]
    },
    {
     "name": "stdout",
     "output_type": "stream",
     "text": [
      "train: loss 0.2884 | acc 0.8986 || val: loss 0.3066 | acc 0.8779 || lr: 6.25e-04\n",
      "\n",
      "Epoch 111/200\n"
     ]
    },
    {
     "name": "stderr",
     "output_type": "stream",
     "text": [
      "                                                                               \r"
     ]
    },
    {
     "name": "stdout",
     "output_type": "stream",
     "text": [
      "train: loss 0.2877 | acc 0.8980 || val: loss 0.2977 | acc 0.8827 || lr: 6.25e-04\n",
      "\n",
      "Epoch 112/200\n"
     ]
    },
    {
     "name": "stderr",
     "output_type": "stream",
     "text": [
      "                                                                               \r"
     ]
    },
    {
     "name": "stdout",
     "output_type": "stream",
     "text": [
      "train: loss 0.2904 | acc 0.8981 || val: loss 0.3184 | acc 0.8733 || lr: 6.25e-04\n",
      "\n",
      "Epoch 113/200\n"
     ]
    },
    {
     "name": "stderr",
     "output_type": "stream",
     "text": [
      "                                                                               \r"
     ]
    },
    {
     "name": "stdout",
     "output_type": "stream",
     "text": [
      "train: loss 0.2919 | acc 0.8956 || val: loss 0.2954 | acc 0.8848 || lr: 6.25e-04\n",
      "\n",
      "Epoch 114/200\n"
     ]
    },
    {
     "name": "stderr",
     "output_type": "stream",
     "text": [
      "                                                                               \r"
     ]
    },
    {
     "name": "stdout",
     "output_type": "stream",
     "text": [
      "train: loss 0.2924 | acc 0.8962 || val: loss 0.3104 | acc 0.8742 || lr: 6.25e-04\n",
      "\n",
      "Epoch 115/200\n"
     ]
    },
    {
     "name": "stderr",
     "output_type": "stream",
     "text": [
      "                                                                               \r"
     ]
    },
    {
     "name": "stdout",
     "output_type": "stream",
     "text": [
      "train: loss 0.2877 | acc 0.8983 || val: loss 0.3044 | acc 0.8810 || lr: 6.25e-04\n",
      "\n",
      "Epoch 116/200\n"
     ]
    },
    {
     "name": "stderr",
     "output_type": "stream",
     "text": [
      "                                                                               \r"
     ]
    },
    {
     "name": "stdout",
     "output_type": "stream",
     "text": [
      "train: loss 0.2854 | acc 0.8990 || val: loss 0.2981 | acc 0.8801 || lr: 6.25e-04\n",
      "\n",
      "Epoch 117/200\n"
     ]
    },
    {
     "name": "stderr",
     "output_type": "stream",
     "text": [
      "                                                                               \r"
     ]
    },
    {
     "name": "stdout",
     "output_type": "stream",
     "text": [
      "train: loss 0.2856 | acc 0.8978 || val: loss 0.3072 | acc 0.8773 || lr: 6.25e-04\n",
      "\n",
      "Epoch 118/200\n"
     ]
    },
    {
     "name": "stderr",
     "output_type": "stream",
     "text": [
      "                                                                               \r"
     ]
    },
    {
     "name": "stdout",
     "output_type": "stream",
     "text": [
      "train: loss 0.2855 | acc 0.8990 || val: loss 0.3061 | acc 0.8761 || lr: 3.13e-04\n",
      "\n",
      "Epoch 119/200\n"
     ]
    },
    {
     "name": "stderr",
     "output_type": "stream",
     "text": [
      "                                                                               \r"
     ]
    },
    {
     "name": "stdout",
     "output_type": "stream",
     "text": [
      "train: loss 0.2801 | acc 0.9004 || val: loss 0.2964 | acc 0.8826 || lr: 3.13e-04\n",
      "\n",
      "Epoch 120/200\n"
     ]
    },
    {
     "name": "stderr",
     "output_type": "stream",
     "text": [
      "                                                                               \r"
     ]
    },
    {
     "name": "stdout",
     "output_type": "stream",
     "text": [
      "train: loss 0.2778 | acc 0.9019 || val: loss 0.3029 | acc 0.8795 || lr: 3.13e-04\n",
      "\n",
      "Epoch 121/200\n"
     ]
    },
    {
     "name": "stderr",
     "output_type": "stream",
     "text": [
      "                                                                               \r"
     ]
    },
    {
     "name": "stdout",
     "output_type": "stream",
     "text": [
      "train: loss 0.2786 | acc 0.9015 || val: loss 0.2956 | acc 0.8834 || lr: 3.13e-04\n",
      "\n",
      "Epoch 122/200\n"
     ]
    },
    {
     "name": "stderr",
     "output_type": "stream",
     "text": [
      "                                                                               \r"
     ]
    },
    {
     "name": "stdout",
     "output_type": "stream",
     "text": [
      "train: loss 0.2790 | acc 0.9016 || val: loss 0.2971 | acc 0.8811 || lr: 3.13e-04\n",
      "\n",
      "Epoch 123/200\n"
     ]
    },
    {
     "name": "stderr",
     "output_type": "stream",
     "text": [
      "                                                                               \r"
     ]
    },
    {
     "name": "stdout",
     "output_type": "stream",
     "text": [
      "train: loss 0.2772 | acc 0.9022 || val: loss 0.2977 | acc 0.8834 || lr: 3.13e-04\n",
      "\n",
      "Epoch 124/200\n"
     ]
    },
    {
     "name": "stderr",
     "output_type": "stream",
     "text": [
      "                                                                               \r"
     ]
    },
    {
     "name": "stdout",
     "output_type": "stream",
     "text": [
      "train: loss 0.2770 | acc 0.9024 || val: loss 0.3004 | acc 0.8837 || lr: 3.13e-04\n",
      "\n",
      "Epoch 125/200\n"
     ]
    },
    {
     "name": "stderr",
     "output_type": "stream",
     "text": [
      "                                                                               \r"
     ]
    },
    {
     "name": "stdout",
     "output_type": "stream",
     "text": [
      "train: loss 0.2780 | acc 0.9018 || val: loss 0.2988 | acc 0.8825 || lr: 3.13e-04\n",
      "\n",
      "Epoch 126/200\n"
     ]
    },
    {
     "name": "stderr",
     "output_type": "stream",
     "text": [
      "                                                                               \r"
     ]
    },
    {
     "name": "stdout",
     "output_type": "stream",
     "text": [
      "train: loss 0.2758 | acc 0.9019 || val: loss 0.2973 | acc 0.8832 || lr: 3.13e-04\n",
      "\n",
      "Epoch 127/200\n"
     ]
    },
    {
     "name": "stderr",
     "output_type": "stream",
     "text": [
      "                                                                               \r"
     ]
    },
    {
     "name": "stdout",
     "output_type": "stream",
     "text": [
      "train: loss 0.2764 | acc 0.9019 || val: loss 0.2952 | acc 0.8850 || lr: 3.13e-04\n",
      "\n",
      "Epoch 128/200\n"
     ]
    },
    {
     "name": "stderr",
     "output_type": "stream",
     "text": [
      "                                                                               \r"
     ]
    },
    {
     "name": "stdout",
     "output_type": "stream",
     "text": [
      "train: loss 0.2772 | acc 0.9020 || val: loss 0.2979 | acc 0.8809 || lr: 3.13e-04\n",
      "\n",
      "Epoch 129/200\n"
     ]
    },
    {
     "name": "stderr",
     "output_type": "stream",
     "text": [
      "                                                                               \r"
     ]
    },
    {
     "name": "stdout",
     "output_type": "stream",
     "text": [
      "train: loss 0.2773 | acc 0.9018 || val: loss 0.2957 | acc 0.8844 || lr: 1.56e-04\n",
      "\n",
      "Epoch 130/200\n"
     ]
    },
    {
     "name": "stderr",
     "output_type": "stream",
     "text": [
      "                                                                               \r"
     ]
    },
    {
     "name": "stdout",
     "output_type": "stream",
     "text": [
      "train: loss 0.2734 | acc 0.9035 || val: loss 0.2987 | acc 0.8812 || lr: 1.56e-04\n",
      "\n",
      "Epoch 131/200\n"
     ]
    },
    {
     "name": "stderr",
     "output_type": "stream",
     "text": [
      "                                                                               \r"
     ]
    },
    {
     "name": "stdout",
     "output_type": "stream",
     "text": [
      "train: loss 0.2729 | acc 0.9038 || val: loss 0.2977 | acc 0.8819 || lr: 1.56e-04\n",
      "\n",
      "Epoch 132/200\n"
     ]
    },
    {
     "name": "stderr",
     "output_type": "stream",
     "text": [
      "                                                                               \r"
     ]
    },
    {
     "name": "stdout",
     "output_type": "stream",
     "text": [
      "train: loss 0.2717 | acc 0.9036 || val: loss 0.2993 | acc 0.8812 || lr: 1.56e-04\n",
      "\n",
      "Epoch 133/200\n"
     ]
    },
    {
     "name": "stderr",
     "output_type": "stream",
     "text": [
      "                                                                               \r"
     ]
    },
    {
     "name": "stdout",
     "output_type": "stream",
     "text": [
      "train: loss 0.2720 | acc 0.9040 || val: loss 0.2973 | acc 0.8821 || lr: 1.56e-04\n",
      "\n",
      "Epoch 134/200\n"
     ]
    },
    {
     "name": "stderr",
     "output_type": "stream",
     "text": [
      "                                                                               \r"
     ]
    },
    {
     "name": "stdout",
     "output_type": "stream",
     "text": [
      "train: loss 0.2721 | acc 0.9040 || val: loss 0.2996 | acc 0.8801 || lr: 1.56e-04\n",
      "\n",
      "Epoch 135/200\n"
     ]
    },
    {
     "name": "stderr",
     "output_type": "stream",
     "text": [
      "                                                                               \r"
     ]
    },
    {
     "name": "stdout",
     "output_type": "stream",
     "text": [
      "train: loss 0.2718 | acc 0.9036 || val: loss 0.2970 | acc 0.8825 || lr: 1.56e-04\n",
      "\n",
      "Epoch 136/200\n"
     ]
    },
    {
     "name": "stderr",
     "output_type": "stream",
     "text": [
      "                                                                               \r"
     ]
    },
    {
     "name": "stdout",
     "output_type": "stream",
     "text": [
      "train: loss 0.2710 | acc 0.9041 || val: loss 0.3007 | acc 0.8795 || lr: 1.56e-04\n",
      "\n",
      "Epoch 137/200\n"
     ]
    },
    {
     "name": "stderr",
     "output_type": "stream",
     "text": [
      "                                                                               \r"
     ]
    },
    {
     "name": "stdout",
     "output_type": "stream",
     "text": [
      "train: loss 0.2714 | acc 0.9047 || val: loss 0.2974 | acc 0.8831 || lr: 1.56e-04\n",
      "\n",
      "Epoch 138/200\n"
     ]
    },
    {
     "name": "stderr",
     "output_type": "stream",
     "text": [
      "                                                                               \r"
     ]
    },
    {
     "name": "stdout",
     "output_type": "stream",
     "text": [
      "train: loss 0.2706 | acc 0.9043 || val: loss 0.2981 | acc 0.8833 || lr: 1.56e-04\n",
      "\n",
      "Epoch 139/200\n"
     ]
    },
    {
     "name": "stderr",
     "output_type": "stream",
     "text": [
      "                                                                               \r"
     ]
    },
    {
     "name": "stdout",
     "output_type": "stream",
     "text": [
      "train: loss 0.2714 | acc 0.9034 || val: loss 0.2991 | acc 0.8818 || lr: 1.56e-04\n",
      "\n",
      "Epoch 140/200\n"
     ]
    },
    {
     "name": "stderr",
     "output_type": "stream",
     "text": [
      "                                                                               \r"
     ]
    },
    {
     "name": "stdout",
     "output_type": "stream",
     "text": [
      "train: loss 0.2698 | acc 0.9052 || val: loss 0.2967 | acc 0.8826 || lr: 7.81e-05\n",
      "\n",
      "Epoch 141/200\n"
     ]
    },
    {
     "name": "stderr",
     "output_type": "stream",
     "text": [
      "                                                                               \r"
     ]
    },
    {
     "name": "stdout",
     "output_type": "stream",
     "text": [
      "train: loss 0.2686 | acc 0.9047 || val: loss 0.2967 | acc 0.8826 || lr: 7.81e-05\n",
      "\n",
      "Epoch 142/200\n"
     ]
    },
    {
     "name": "stderr",
     "output_type": "stream",
     "text": [
      "                                                                               \r"
     ]
    },
    {
     "name": "stdout",
     "output_type": "stream",
     "text": [
      "train: loss 0.2685 | acc 0.9052 || val: loss 0.2970 | acc 0.8826 || lr: 7.81e-05\n",
      "\n",
      "Epoch 143/200\n"
     ]
    },
    {
     "name": "stderr",
     "output_type": "stream",
     "text": [
      "                                                                               \r"
     ]
    },
    {
     "name": "stdout",
     "output_type": "stream",
     "text": [
      "train: loss 0.2687 | acc 0.9050 || val: loss 0.2982 | acc 0.8823 || lr: 7.81e-05\n",
      "\n",
      "Epoch 144/200\n"
     ]
    },
    {
     "name": "stderr",
     "output_type": "stream",
     "text": [
      "                                                                               \r"
     ]
    },
    {
     "name": "stdout",
     "output_type": "stream",
     "text": [
      "train: loss 0.2684 | acc 0.9052 || val: loss 0.2983 | acc 0.8827 || lr: 7.81e-05\n",
      "\n",
      "Epoch 145/200\n"
     ]
    },
    {
     "name": "stderr",
     "output_type": "stream",
     "text": [
      "                                                                               \r"
     ]
    },
    {
     "name": "stdout",
     "output_type": "stream",
     "text": [
      "train: loss 0.2683 | acc 0.9053 || val: loss 0.2991 | acc 0.8810 || lr: 7.81e-05\n",
      "\n",
      "Epoch 146/200\n"
     ]
    },
    {
     "name": "stderr",
     "output_type": "stream",
     "text": [
      "                                                                               \r"
     ]
    },
    {
     "name": "stdout",
     "output_type": "stream",
     "text": [
      "train: loss 0.2679 | acc 0.9054 || val: loss 0.2977 | acc 0.8831 || lr: 7.81e-05\n",
      "\n",
      "Epoch 147/200\n"
     ]
    },
    {
     "name": "stderr",
     "output_type": "stream",
     "text": [
      "                                                                               \r"
     ]
    },
    {
     "name": "stdout",
     "output_type": "stream",
     "text": [
      "train: loss 0.2679 | acc 0.9055 || val: loss 0.3010 | acc 0.8800 || lr: 7.81e-05\n",
      "\n",
      "Epoch 148/200\n"
     ]
    },
    {
     "name": "stderr",
     "output_type": "stream",
     "text": [
      "                                                                               \r"
     ]
    },
    {
     "name": "stdout",
     "output_type": "stream",
     "text": [
      "train: loss 0.2681 | acc 0.9051 || val: loss 0.2994 | acc 0.8813 || lr: 7.81e-05\n",
      "\n",
      "Epoch 149/200\n"
     ]
    },
    {
     "name": "stderr",
     "output_type": "stream",
     "text": [
      "                                                                               \r"
     ]
    },
    {
     "name": "stdout",
     "output_type": "stream",
     "text": [
      "train: loss 0.2678 | acc 0.9053 || val: loss 0.2972 | acc 0.8839 || lr: 7.81e-05\n",
      "\n",
      "Epoch 150/200\n"
     ]
    },
    {
     "name": "stderr",
     "output_type": "stream",
     "text": [
      "                                                                               \r"
     ]
    },
    {
     "name": "stdout",
     "output_type": "stream",
     "text": [
      "train: loss 0.2675 | acc 0.9053 || val: loss 0.2951 | acc 0.8857 || lr: 7.81e-05\n",
      "\n",
      "Epoch 151/200\n"
     ]
    },
    {
     "name": "stderr",
     "output_type": "stream",
     "text": [
      "                                                                               \r"
     ]
    },
    {
     "name": "stdout",
     "output_type": "stream",
     "text": [
      "train: loss 0.2671 | acc 0.9058 || val: loss 0.2979 | acc 0.8831 || lr: 3.91e-05\n",
      "\n",
      "Epoch 152/200\n"
     ]
    },
    {
     "name": "stderr",
     "output_type": "stream",
     "text": [
      "                                                                               \r"
     ]
    },
    {
     "name": "stdout",
     "output_type": "stream",
     "text": [
      "train: loss 0.2662 | acc 0.9055 || val: loss 0.2986 | acc 0.8830 || lr: 3.91e-05\n",
      "\n",
      "Epoch 153/200\n"
     ]
    },
    {
     "name": "stderr",
     "output_type": "stream",
     "text": [
      "                                                                               \r"
     ]
    },
    {
     "name": "stdout",
     "output_type": "stream",
     "text": [
      "train: loss 0.2659 | acc 0.9064 || val: loss 0.2989 | acc 0.8821 || lr: 3.91e-05\n",
      "\n",
      "Epoch 154/200\n"
     ]
    },
    {
     "name": "stderr",
     "output_type": "stream",
     "text": [
      "                                                                               \r"
     ]
    },
    {
     "name": "stdout",
     "output_type": "stream",
     "text": [
      "train: loss 0.2662 | acc 0.9055 || val: loss 0.2968 | acc 0.8838 || lr: 3.91e-05\n",
      "\n",
      "Epoch 155/200\n"
     ]
    },
    {
     "name": "stderr",
     "output_type": "stream",
     "text": [
      "                                                                               \r"
     ]
    },
    {
     "name": "stdout",
     "output_type": "stream",
     "text": [
      "train: loss 0.2665 | acc 0.9061 || val: loss 0.2983 | acc 0.8829 || lr: 3.91e-05\n",
      "\n",
      "Epoch 156/200\n"
     ]
    },
    {
     "name": "stderr",
     "output_type": "stream",
     "text": [
      "                                                                               \r"
     ]
    },
    {
     "name": "stdout",
     "output_type": "stream",
     "text": [
      "train: loss 0.2658 | acc 0.9062 || val: loss 0.2989 | acc 0.8825 || lr: 3.91e-05\n",
      "\n",
      "Epoch 157/200\n"
     ]
    },
    {
     "name": "stderr",
     "output_type": "stream",
     "text": [
      "                                                                               \r"
     ]
    },
    {
     "name": "stdout",
     "output_type": "stream",
     "text": [
      "train: loss 0.2663 | acc 0.9062 || val: loss 0.2988 | acc 0.8825 || lr: 3.91e-05\n",
      "\n",
      "Epoch 158/200\n"
     ]
    },
    {
     "name": "stderr",
     "output_type": "stream",
     "text": [
      "                                                                               \r"
     ]
    },
    {
     "name": "stdout",
     "output_type": "stream",
     "text": [
      "train: loss 0.2656 | acc 0.9058 || val: loss 0.2980 | acc 0.8831 || lr: 3.91e-05\n",
      "\n",
      "Epoch 159/200\n"
     ]
    },
    {
     "name": "stderr",
     "output_type": "stream",
     "text": [
      "                                                                               \r"
     ]
    },
    {
     "name": "stdout",
     "output_type": "stream",
     "text": [
      "train: loss 0.2658 | acc 0.9064 || val: loss 0.2983 | acc 0.8829 || lr: 3.91e-05\n",
      "\n",
      "Epoch 160/200\n"
     ]
    },
    {
     "name": "stderr",
     "output_type": "stream",
     "text": [
      "                                                                               \r"
     ]
    },
    {
     "name": "stdout",
     "output_type": "stream",
     "text": [
      "train: loss 0.2655 | acc 0.9062 || val: loss 0.2979 | acc 0.8834 || lr: 3.91e-05\n",
      "\n",
      "Epoch 161/200\n"
     ]
    },
    {
     "name": "stderr",
     "output_type": "stream",
     "text": [
      "                                                                               \r"
     ]
    },
    {
     "name": "stdout",
     "output_type": "stream",
     "text": [
      "train: loss 0.2660 | acc 0.9059 || val: loss 0.2986 | acc 0.8829 || lr: 3.91e-05\n",
      "\n",
      "Epoch 162/200\n"
     ]
    },
    {
     "name": "stderr",
     "output_type": "stream",
     "text": [
      "                                                                               \r"
     ]
    },
    {
     "name": "stdout",
     "output_type": "stream",
     "text": [
      "train: loss 0.2658 | acc 0.9062 || val: loss 0.2971 | acc 0.8834 || lr: 1.95e-05\n",
      "\n",
      "Epoch 163/200\n"
     ]
    },
    {
     "name": "stderr",
     "output_type": "stream",
     "text": [
      "                                                                               \r"
     ]
    },
    {
     "name": "stdout",
     "output_type": "stream",
     "text": [
      "train: loss 0.2656 | acc 0.9061 || val: loss 0.2983 | acc 0.8827 || lr: 1.95e-05\n",
      "\n",
      "Epoch 164/200\n"
     ]
    },
    {
     "name": "stderr",
     "output_type": "stream",
     "text": [
      "                                                                               \r"
     ]
    },
    {
     "name": "stdout",
     "output_type": "stream",
     "text": [
      "train: loss 0.2653 | acc 0.9064 || val: loss 0.2977 | acc 0.8834 || lr: 1.95e-05\n",
      "\n",
      "Epoch 165/200\n"
     ]
    },
    {
     "name": "stderr",
     "output_type": "stream",
     "text": [
      "                                                                               \r"
     ]
    },
    {
     "name": "stdout",
     "output_type": "stream",
     "text": [
      "train: loss 0.2649 | acc 0.9065 || val: loss 0.2984 | acc 0.8830 || lr: 1.95e-05\n",
      "\n",
      "Epoch 166/200\n"
     ]
    },
    {
     "name": "stderr",
     "output_type": "stream",
     "text": [
      "                                                                               \r"
     ]
    },
    {
     "name": "stdout",
     "output_type": "stream",
     "text": [
      "train: loss 0.2652 | acc 0.9065 || val: loss 0.2984 | acc 0.8831 || lr: 1.95e-05\n",
      "\n",
      "Epoch 167/200\n"
     ]
    },
    {
     "name": "stderr",
     "output_type": "stream",
     "text": [
      "                                                                               \r"
     ]
    },
    {
     "name": "stdout",
     "output_type": "stream",
     "text": [
      "train: loss 0.2650 | acc 0.9063 || val: loss 0.2981 | acc 0.8833 || lr: 1.95e-05\n",
      "\n",
      "Epoch 168/200\n"
     ]
    },
    {
     "name": "stderr",
     "output_type": "stream",
     "text": [
      "                                                                               \r"
     ]
    },
    {
     "name": "stdout",
     "output_type": "stream",
     "text": [
      "train: loss 0.2654 | acc 0.9062 || val: loss 0.2981 | acc 0.8834 || lr: 1.95e-05\n",
      "\n",
      "Epoch 169/200\n"
     ]
    },
    {
     "name": "stderr",
     "output_type": "stream",
     "text": [
      "                                                                               \r"
     ]
    },
    {
     "name": "stdout",
     "output_type": "stream",
     "text": [
      "train: loss 0.2648 | acc 0.9065 || val: loss 0.2986 | acc 0.8826 || lr: 1.95e-05\n",
      "\n",
      "Epoch 170/200\n"
     ]
    },
    {
     "name": "stderr",
     "output_type": "stream",
     "text": [
      "                                                                               \r"
     ]
    },
    {
     "name": "stdout",
     "output_type": "stream",
     "text": [
      "train: loss 0.2649 | acc 0.9064 || val: loss 0.2978 | acc 0.8834 || lr: 1.95e-05\n",
      "\n",
      "Epoch 171/200\n"
     ]
    },
    {
     "name": "stderr",
     "output_type": "stream",
     "text": [
      "                                                                               \r"
     ]
    },
    {
     "name": "stdout",
     "output_type": "stream",
     "text": [
      "train: loss 0.2650 | acc 0.9064 || val: loss 0.2988 | acc 0.8830 || lr: 1.95e-05\n",
      "\n",
      "Epoch 172/200\n"
     ]
    },
    {
     "name": "stderr",
     "output_type": "stream",
     "text": [
      "                                                                               \r"
     ]
    },
    {
     "name": "stdout",
     "output_type": "stream",
     "text": [
      "train: loss 0.2648 | acc 0.9065 || val: loss 0.2983 | acc 0.8832 || lr: 1.95e-05\n",
      "\n",
      "Epoch 173/200\n"
     ]
    },
    {
     "name": "stderr",
     "output_type": "stream",
     "text": [
      "                                                                               \r"
     ]
    },
    {
     "name": "stdout",
     "output_type": "stream",
     "text": [
      "train: loss 0.2653 | acc 0.9064 || val: loss 0.2980 | acc 0.8832 || lr: 1.00e-05\n",
      "\n",
      "Epoch 174/200\n"
     ]
    },
    {
     "name": "stderr",
     "output_type": "stream",
     "text": [
      "                                                                               \r"
     ]
    },
    {
     "name": "stdout",
     "output_type": "stream",
     "text": [
      "train: loss 0.2645 | acc 0.9066 || val: loss 0.2978 | acc 0.8836 || lr: 1.00e-05\n",
      "\n",
      "Epoch 175/200\n"
     ]
    },
    {
     "name": "stderr",
     "output_type": "stream",
     "text": [
      "                                                                               \r"
     ]
    },
    {
     "name": "stdout",
     "output_type": "stream",
     "text": [
      "train: loss 0.2646 | acc 0.9066 || val: loss 0.2986 | acc 0.8830 || lr: 1.00e-05\n",
      "\n",
      "Epoch 176/200\n"
     ]
    },
    {
     "name": "stderr",
     "output_type": "stream",
     "text": [
      "                                                                               \r"
     ]
    },
    {
     "name": "stdout",
     "output_type": "stream",
     "text": [
      "train: loss 0.2644 | acc 0.9064 || val: loss 0.2989 | acc 0.8828 || lr: 1.00e-05\n",
      "\n",
      "Epoch 177/200\n"
     ]
    },
    {
     "name": "stderr",
     "output_type": "stream",
     "text": [
      "                                                                               \r"
     ]
    },
    {
     "name": "stdout",
     "output_type": "stream",
     "text": [
      "train: loss 0.2643 | acc 0.9066 || val: loss 0.2982 | acc 0.8832 || lr: 1.00e-05\n",
      "\n",
      "Epoch 178/200\n"
     ]
    },
    {
     "name": "stderr",
     "output_type": "stream",
     "text": [
      "                                                                               \r"
     ]
    },
    {
     "name": "stdout",
     "output_type": "stream",
     "text": [
      "train: loss 0.2647 | acc 0.9068 || val: loss 0.2981 | acc 0.8834 || lr: 1.00e-05\n",
      "\n",
      "Epoch 179/200\n"
     ]
    },
    {
     "name": "stderr",
     "output_type": "stream",
     "text": [
      "                                                                               \r"
     ]
    },
    {
     "name": "stdout",
     "output_type": "stream",
     "text": [
      "train: loss 0.2645 | acc 0.9065 || val: loss 0.2985 | acc 0.8831 || lr: 1.00e-05\n",
      "\n",
      "Epoch 180/200\n"
     ]
    },
    {
     "name": "stderr",
     "output_type": "stream",
     "text": [
      "                                                                               \r"
     ]
    },
    {
     "name": "stdout",
     "output_type": "stream",
     "text": [
      "train: loss 0.2644 | acc 0.9066 || val: loss 0.2984 | acc 0.8831 || lr: 1.00e-05\n",
      "\n",
      "Epoch 181/200\n"
     ]
    },
    {
     "name": "stderr",
     "output_type": "stream",
     "text": [
      "                                                                               \r"
     ]
    },
    {
     "name": "stdout",
     "output_type": "stream",
     "text": [
      "train: loss 0.2643 | acc 0.9068 || val: loss 0.2981 | acc 0.8835 || lr: 1.00e-05\n",
      "\n",
      "Epoch 182/200\n"
     ]
    },
    {
     "name": "stderr",
     "output_type": "stream",
     "text": [
      "                                                                               \r"
     ]
    },
    {
     "name": "stdout",
     "output_type": "stream",
     "text": [
      "train: loss 0.2648 | acc 0.9063 || val: loss 0.2986 | acc 0.8831 || lr: 1.00e-05\n",
      "\n",
      "Epoch 183/200\n"
     ]
    },
    {
     "name": "stderr",
     "output_type": "stream",
     "text": [
      "                                                                               \r"
     ]
    },
    {
     "name": "stdout",
     "output_type": "stream",
     "text": [
      "train: loss 0.2643 | acc 0.9066 || val: loss 0.2984 | acc 0.8832 || lr: 1.00e-05\n",
      "\n",
      "Epoch 184/200\n"
     ]
    },
    {
     "name": "stderr",
     "output_type": "stream",
     "text": [
      "                                                                               \r"
     ]
    },
    {
     "name": "stdout",
     "output_type": "stream",
     "text": [
      "train: loss 0.2644 | acc 0.9064 || val: loss 0.2988 | acc 0.8828 || lr: 1.00e-05\n",
      "\n",
      "Epoch 185/200\n"
     ]
    },
    {
     "name": "stderr",
     "output_type": "stream",
     "text": [
      "                                                                               \r"
     ]
    },
    {
     "name": "stdout",
     "output_type": "stream",
     "text": [
      "train: loss 0.2643 | acc 0.9067 || val: loss 0.2981 | acc 0.8834 || lr: 1.00e-05\n",
      "\n",
      "Epoch 186/200\n"
     ]
    },
    {
     "name": "stderr",
     "output_type": "stream",
     "text": [
      "                                                                               \r"
     ]
    },
    {
     "name": "stdout",
     "output_type": "stream",
     "text": [
      "train: loss 0.2642 | acc 0.9067 || val: loss 0.2986 | acc 0.8831 || lr: 1.00e-05\n",
      "\n",
      "Epoch 187/200\n"
     ]
    },
    {
     "name": "stderr",
     "output_type": "stream",
     "text": [
      "                                                                               \r"
     ]
    },
    {
     "name": "stdout",
     "output_type": "stream",
     "text": [
      "train: loss 0.2643 | acc 0.9067 || val: loss 0.2985 | acc 0.8832 || lr: 1.00e-05\n",
      "\n",
      "Epoch 188/200\n"
     ]
    },
    {
     "name": "stderr",
     "output_type": "stream",
     "text": [
      "                                                                               \r"
     ]
    },
    {
     "name": "stdout",
     "output_type": "stream",
     "text": [
      "train: loss 0.2643 | acc 0.9067 || val: loss 0.2983 | acc 0.8832 || lr: 1.00e-05\n",
      "\n",
      "Epoch 189/200\n"
     ]
    },
    {
     "name": "stderr",
     "output_type": "stream",
     "text": [
      "                                                                               \r"
     ]
    },
    {
     "name": "stdout",
     "output_type": "stream",
     "text": [
      "train: loss 0.2639 | acc 0.9069 || val: loss 0.2985 | acc 0.8831 || lr: 1.00e-05\n",
      "\n",
      "Epoch 190/200\n"
     ]
    },
    {
     "name": "stderr",
     "output_type": "stream",
     "text": [
      "                                                                               \r"
     ]
    },
    {
     "name": "stdout",
     "output_type": "stream",
     "text": [
      "train: loss 0.2638 | acc 0.9066 || val: loss 0.2991 | acc 0.8826 || lr: 1.00e-05\n",
      "\n",
      "Epoch 191/200\n"
     ]
    },
    {
     "name": "stderr",
     "output_type": "stream",
     "text": [
      "                                                                               \r"
     ]
    },
    {
     "name": "stdout",
     "output_type": "stream",
     "text": [
      "train: loss 0.2640 | acc 0.9066 || val: loss 0.2987 | acc 0.8830 || lr: 1.00e-05\n",
      "\n",
      "Epoch 192/200\n"
     ]
    },
    {
     "name": "stderr",
     "output_type": "stream",
     "text": [
      "                                                                               \r"
     ]
    },
    {
     "name": "stdout",
     "output_type": "stream",
     "text": [
      "train: loss 0.2640 | acc 0.9067 || val: loss 0.2985 | acc 0.8830 || lr: 1.00e-05\n",
      "\n",
      "Epoch 193/200\n"
     ]
    },
    {
     "name": "stderr",
     "output_type": "stream",
     "text": [
      "                                                                               \r"
     ]
    },
    {
     "name": "stdout",
     "output_type": "stream",
     "text": [
      "train: loss 0.2642 | acc 0.9066 || val: loss 0.2991 | acc 0.8829 || lr: 1.00e-05\n",
      "\n",
      "Epoch 194/200\n"
     ]
    },
    {
     "name": "stderr",
     "output_type": "stream",
     "text": [
      "                                                                               \r"
     ]
    },
    {
     "name": "stdout",
     "output_type": "stream",
     "text": [
      "train: loss 0.2643 | acc 0.9068 || val: loss 0.2984 | acc 0.8832 || lr: 1.00e-05\n",
      "\n",
      "Epoch 195/200\n"
     ]
    },
    {
     "name": "stderr",
     "output_type": "stream",
     "text": [
      "                                                                               \r"
     ]
    },
    {
     "name": "stdout",
     "output_type": "stream",
     "text": [
      "train: loss 0.2640 | acc 0.9065 || val: loss 0.2991 | acc 0.8827 || lr: 1.00e-05\n",
      "\n",
      "Epoch 196/200\n"
     ]
    },
    {
     "name": "stderr",
     "output_type": "stream",
     "text": [
      "                                                                               \r"
     ]
    },
    {
     "name": "stdout",
     "output_type": "stream",
     "text": [
      "train: loss 0.2639 | acc 0.9069 || val: loss 0.2982 | acc 0.8833 || lr: 1.00e-05\n",
      "\n",
      "Epoch 197/200\n"
     ]
    },
    {
     "name": "stderr",
     "output_type": "stream",
     "text": [
      "                                                                               \r"
     ]
    },
    {
     "name": "stdout",
     "output_type": "stream",
     "text": [
      "train: loss 0.2643 | acc 0.9067 || val: loss 0.2985 | acc 0.8831 || lr: 1.00e-05\n",
      "\n",
      "Epoch 198/200\n"
     ]
    },
    {
     "name": "stderr",
     "output_type": "stream",
     "text": [
      "                                                                               \r"
     ]
    },
    {
     "name": "stdout",
     "output_type": "stream",
     "text": [
      "train: loss 0.2640 | acc 0.9067 || val: loss 0.2988 | acc 0.8829 || lr: 1.00e-05\n",
      "\n",
      "Epoch 199/200\n"
     ]
    },
    {
     "name": "stderr",
     "output_type": "stream",
     "text": [
      "                                                                               \r"
     ]
    },
    {
     "name": "stdout",
     "output_type": "stream",
     "text": [
      "train: loss 0.2641 | acc 0.9067 || val: loss 0.2988 | acc 0.8832 || lr: 1.00e-05\n",
      "\n",
      "Epoch 200/200\n"
     ]
    },
    {
     "name": "stderr",
     "output_type": "stream",
     "text": [
      "                                                                               \r"
     ]
    },
    {
     "name": "stdout",
     "output_type": "stream",
     "text": [
      "train: loss 0.2641 | acc 0.9067 || val: loss 0.2989 | acc 0.8829 || lr: 1.00e-05\n",
      "\n",
      "Training complete.\n"
     ]
    }
   ],
   "source": [
    "import math\n",
    "from dataclasses import dataclass\n",
    "from pathlib import Path\n",
    "from typing import Tuple, Dict\n",
    "\n",
    "import torch\n",
    "import torch.nn as nn\n",
    "import torch.optim as optim\n",
    "from torch.utils.data import DataLoader\n",
    "from tqdm import tqdm\n",
    "from torch.utils.tensorboard import SummaryWriter\n",
    "\n",
    "from gan_synthesis.datasets.dataset import Dataset\n",
    "from gan_synthesis.u_net_models.unet import UNet\n",
    "\n",
    "\n",
    "@dataclass\n",
    "class TrainConfig:\n",
    "    seed: int = 42\n",
    "    epochs: int = 200\n",
    "    batch_size: int = 16\n",
    "    lr: float = 5e-3\n",
    "    weight_decay: float = 1e-4\n",
    "    num_workers: int = 4\n",
    "    pin_memory: bool = True\n",
    "    amp: bool = True if torch.cuda.get_device_name(0) != 'NVIDIA GeForce GTX 1660 SUPER' else False # Training on local GPU, 16 series doesn't play well with amp\n",
    "    ckpt_dir: str = \"checkpoints\"\n",
    "    val_split: float = 0.05\n",
    "    anchor: int = 32\n",
    "    lr_patience: int = 10  # ReduceLROnPlateau patience\n",
    "    lr_factor: float = 0.5\n",
    "    min_lr: float = 1e-5\n",
    "\n",
    "\n",
    "def set_seed(seed: int):\n",
    "    torch.manual_seed(seed)\n",
    "    torch.cuda.manual_seed_all(seed)\n",
    "    # comment out for speed if you don't need strict determinism\n",
    "    # torch.use_deterministic_algorithms(True)\n",
    "    # torch.backends.cudnn.deterministic = True\n",
    "    torch.backends.cudnn.benchmark = True\n",
    "\n",
    "\n",
    "def accuracy_from_logits(logits: torch.Tensor, targets: torch.Tensor) -> float:\n",
    "    \"\"\"Pixel accuracy for segmentation.\"\"\"\n",
    "    pred = logits.argmax(dim=1)\n",
    "    correct = (pred == targets).sum().item()\n",
    "    total = targets.numel()\n",
    "    return correct / total\n",
    "\n",
    "def build(cfg: TrainConfig):\n",
    "    \"\"\"Construct everything needed for training/eval, no side-effects.\"\"\"\n",
    "    device = torch.device(\"cuda\" if torch.cuda.is_available() else \"cpu\")\n",
    "\n",
    "    # --- Data ---\n",
    "    dataset = Dataset()\n",
    "    train_set, val_set = dataset.split(1 - cfg.val_split)\n",
    "\n",
    "    common_loader_kwargs = dict(\n",
    "        batch_size=cfg.batch_size,\n",
    "        num_workers=cfg.num_workers,\n",
    "        pin_memory=cfg.pin_memory,\n",
    "        persistent_workers=cfg.num_workers > 0,\n",
    "    )\n",
    "    train_loader = DataLoader(train_set, shuffle=True,  **common_loader_kwargs)\n",
    "    val_loader   = DataLoader(val_set,   shuffle=False, **common_loader_kwargs)\n",
    "\n",
    "    # --- Model / Loss / Optimizer / Scheduler / Scaler ---\n",
    "    model = UNet(anchor=cfg.anchor).to(device)\n",
    "\n",
    "    class_weights = getattr(dataset, \"weights\", None)\n",
    "    if class_weights is not None:\n",
    "        class_weights = class_weights.to(device=device, dtype=torch.float32)\n",
    "    criterion = nn.CrossEntropyLoss(weight=class_weights)\n",
    "\n",
    "    optimizer = optim.Adam(model.parameters(), lr=cfg.lr, weight_decay=cfg.weight_decay)\n",
    "    scheduler = torch.optim.lr_scheduler.ReduceLROnPlateau(\n",
    "        optimizer,\n",
    "        mode=\"min\",\n",
    "        factor=cfg.lr_factor,\n",
    "        patience=cfg.lr_patience,\n",
    "        min_lr=cfg.min_lr,\n",
    "    )\n",
    "    scaler = torch.amp.GradScaler(\"cuda\") if (cfg.amp and device.type == \"cuda\") else None\n",
    "\n",
    "    return {\n",
    "        \"device\":       device,\n",
    "        \"model\":        model,\n",
    "        \"criterion\":    criterion,\n",
    "        \"optimizer\":    optimizer,\n",
    "        \"scheduler\":    scheduler,\n",
    "        \"scaler\":       scaler,\n",
    "        \"train_set\":    train_set,\n",
    "        \"val_set\":      val_set,\n",
    "        \"train_loader\": train_loader,\n",
    "        \"val_loader\":   val_loader,\n",
    "    }\n",
    "\n",
    "\n",
    "def train_one_epoch(\n",
    "    model: nn.Module,\n",
    "    loader: DataLoader,\n",
    "    criterion: nn.Module,\n",
    "    optimizer: optim.Optimizer,\n",
    "    scaler: torch.amp.GradScaler | None,\n",
    "    device: torch.device,\n",
    ") -> Dict[str, float]:\n",
    "    model.train()\n",
    "    running_loss = 0.0\n",
    "    running_acc = 0.0\n",
    "\n",
    "    pbar = tqdm(loader, desc=\"Train\", leave=False)\n",
    "    for images, seg in pbar:\n",
    "        images = images.to(device=device, dtype=torch.float32, non_blocking=True)\n",
    "        targets = seg.squeeze(1).long().to(device, non_blocking=True)\n",
    "\n",
    "        optimizer.zero_grad(set_to_none=True)\n",
    "\n",
    "        if scaler is not None:\n",
    "            with torch.amp.autocast(device_type=device.type, enabled=(scaler is not None)):\n",
    "                logits = model(images)\n",
    "                loss = criterion(logits, targets)\n",
    "            scaler.scale(loss).backward()\n",
    "            scaler.step(optimizer)\n",
    "            scaler.update()\n",
    "        else:\n",
    "            logits = model(images)\n",
    "            loss = criterion(logits, targets)\n",
    "            loss.backward()\n",
    "            optimizer.step()\n",
    "\n",
    "        acc = accuracy_from_logits(logits.detach(), targets)\n",
    "        running_loss += loss.item()\n",
    "        running_acc += acc\n",
    "        pbar.set_postfix({\"loss\": f\"{loss.item():.4f}\", \"acc\": f\"{acc:.4f}\"})\n",
    "\n",
    "    n = len(loader)\n",
    "    return {\"loss\": running_loss / n, \"acc\": running_acc / n}\n",
    "\n",
    "\n",
    "@torch.no_grad()\n",
    "def evaluate(\n",
    "    model: nn.Module,\n",
    "    loader: DataLoader,\n",
    "    criterion: nn.Module,\n",
    "    device: torch.device,\n",
    ") -> Dict[str, float]:\n",
    "    model.eval()\n",
    "    running_loss = 0.0\n",
    "    running_acc = 0.0\n",
    "\n",
    "    # inference_mode is a tad faster and safer than no_grad for eval\n",
    "    with torch.inference_mode():\n",
    "        pbar = tqdm(loader, desc=\"Val\", leave=False)\n",
    "        for images, seg in pbar:\n",
    "            images = images.to(device=device, dtype=torch.float32, non_blocking=True)\n",
    "            targets = seg.squeeze(1).long().to(device, non_blocking=True)\n",
    "            logits = model(images)\n",
    "            loss = criterion(logits, targets)\n",
    "            acc = accuracy_from_logits(logits, targets)\n",
    "\n",
    "            running_loss += loss.item()\n",
    "            running_acc += acc\n",
    "            pbar.set_postfix({\"loss\": f\"{loss.item():.4f}\", \"acc\": f\"{acc:.4f}\"})\n",
    "\n",
    "    n = len(loader)\n",
    "    return {\"loss\": running_loss / n, \"acc\": running_acc / n}\n",
    "\n",
    "\n",
    "def main(cfg: TrainConfig):\n",
    "    set_seed(cfg.seed)\n",
    "    parts = build(cfg)\n",
    "\n",
    "    device       = parts[\"device\"]\n",
    "    model        = parts[\"model\"]\n",
    "    criterion    = parts[\"criterion\"]\n",
    "    optimizer    = parts[\"optimizer\"]\n",
    "    scheduler    = parts[\"scheduler\"]\n",
    "    scaler       = parts[\"scaler\"]\n",
    "    train_loader = parts[\"train_loader\"]\n",
    "    val_loader   = parts[\"val_loader\"]\n",
    "\n",
    "    # --- Bookkeeping ---\n",
    "    Path(cfg.ckpt_dir).mkdir(parents=True, exist_ok=True)\n",
    "    best_val = math.inf\n",
    "    history = {\"train_loss\": [], \"train_acc\": [], \"val_loss\": [], \"val_acc\": []}\n",
    "\n",
    "    writer = SummaryWriter(log_dir=str(Path(\"runs\") / \"exp1\"))  # <<< add\n",
    "\n",
    "    for epoch in range(cfg.epochs):\n",
    "        print(f\"\\nEpoch {epoch+1}/{cfg.epochs}\")\n",
    "\n",
    "        train_metrics = train_one_epoch(model, train_loader, criterion, optimizer, scaler, device)\n",
    "        val_metrics   = evaluate(model, val_loader, criterion, device)\n",
    "\n",
    "        scheduler.step(val_metrics[\"loss\"])\n",
    "\n",
    "        history[\"train_loss\"].append(train_metrics[\"loss\"])\n",
    "        history[\"train_acc\"].append(train_metrics[\"acc\"])\n",
    "        history[\"val_loss\"].append(val_metrics[\"loss\"])\n",
    "        history[\"val_acc\"].append(val_metrics[\"acc\"])\n",
    "\n",
    "        # <<< add: TensorBoard scalars >>>\n",
    "        writer.add_scalars(\"Loss\", {\"train\": train_metrics[\"loss\"],\n",
    "                            \"val\":   val_metrics[\"loss\"]}, epoch)\n",
    "\n",
    "        writer.add_scalars(\"Accuracy\", {\"train\": train_metrics[\"acc\"],\n",
    "                                \"val\":   val_metrics[\"acc\"]}, epoch)\n",
    "\n",
    "        writer.flush()\n",
    "\n",
    "        print(\n",
    "            f\"train: loss {train_metrics['loss']:.4f} | acc {train_metrics['acc']:.4f} \"\n",
    "            f\"|| val: loss {val_metrics['loss']:.4f} | acc {val_metrics['acc']:.4f} \"\n",
    "            f\"|| lr: {optimizer.param_groups[0]['lr']:.2e}\"\n",
    "        )\n",
    "\n",
    "        # Save latest\n",
    "        torch.save(\n",
    "            {\n",
    "                \"epoch\": epoch + 1,\n",
    "                \"model_state\": model.state_dict(),\n",
    "                \"optimizer_state\": optimizer.state_dict(),\n",
    "                \"scaler_state\": scaler.state_dict() if scaler is not None else None,\n",
    "                \"cfg\": cfg.__dict__,\n",
    "                \"history\": history,\n",
    "            },\n",
    "            Path(cfg.ckpt_dir) / \"latest.pt\",\n",
    "        )\n",
    "\n",
    "        # Save best on val loss\n",
    "        if val_metrics[\"loss\"] < best_val:\n",
    "            best_val = val_metrics[\"loss\"]\n",
    "            torch.save(model.state_dict(), Path(cfg.ckpt_dir) / \"best_model.pt\")\n",
    "\n",
    "    print(\"\\nTraining complete.\")\n",
    "    writer.close()\n",
    "    return model, history  # <-- return the trained model too\n",
    "\n",
    "   \n",
    "\n",
    "if __name__ == \"__main__\":\n",
    "    cfg = TrainConfig()\n",
    "    model, history = main(cfg)\n",
    "\n"
   ]
  }
 ],
 "metadata": {
  "kernelspec": {
   "display_name": "Python 3",
   "language": "python",
   "name": "python3"
  },
  "language_info": {
   "codemirror_mode": {
    "name": "ipython",
    "version": 3
   },
   "file_extension": ".py",
   "mimetype": "text/x-python",
   "name": "python",
   "nbconvert_exporter": "python",
   "pygments_lexer": "ipython3",
   "version": "3.12.11"
  }
 },
 "nbformat": 4,
 "nbformat_minor": 5
}
