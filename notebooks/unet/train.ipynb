{
 "cells": [
  {
   "cell_type": "code",
   "execution_count": 1,
   "id": "7b80ca92",
   "metadata": {},
   "outputs": [],
   "source": [
    "from gan_synthesis.u_net_models.contract import UNet"
   ]
  },
  {
   "cell_type": "code",
   "execution_count": 2,
   "id": "cee94a9c",
   "metadata": {},
   "outputs": [],
   "source": [
    "model = UNet()"
   ]
  },
  {
   "cell_type": "code",
   "execution_count": null,
   "id": "d78d5db4",
   "metadata": {},
   "outputs": [],
   "source": [
    "import torch\n",
    "from gan_synthesis.preprocessing.transforms import read_cropped\n",
    "\n",
    "\n",
    "image = read_cropped(t=\"contrast\", idx=123, as_type=\"pt\").unsqueeze(0)\n",
    "model.eval()\n",
    "with torch.no_grad():\n",
    "    recon = model(image)"
   ]
  },
  {
   "cell_type": "code",
   "execution_count": 4,
   "id": "97b8a4c1",
   "metadata": {},
   "outputs": [
    {
     "data": {
      "text/plain": [
       "torch.Size([1, 128, 6, 6])"
      ]
     },
     "execution_count": 4,
     "metadata": {},
     "output_type": "execute_result"
    }
   ],
   "source": [
    "recon.shape"
   ]
  }
 ],
 "metadata": {
  "kernelspec": {
   "display_name": "Python 3",
   "language": "python",
   "name": "python3"
  },
  "language_info": {
   "codemirror_mode": {
    "name": "ipython",
    "version": 3
   },
   "file_extension": ".py",
   "mimetype": "text/x-python",
   "name": "python",
   "nbconvert_exporter": "python",
   "pygments_lexer": "ipython3",
   "version": "3.12.11"
  }
 },
 "nbformat": 4,
 "nbformat_minor": 5
}
